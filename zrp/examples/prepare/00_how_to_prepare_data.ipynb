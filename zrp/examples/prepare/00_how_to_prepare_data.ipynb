{
 "cells": [
  {
   "cell_type": "markdown",
   "metadata": {},
   "source": [
    "# How to Prepare data for ZRP Predictions\n",
    "The purpose of this notebook is to illustrate how to use ZRP_Prepare, a class that prepares user input data for generating predictions, models, & analysis."
   ]
  },
  {
   "cell_type": "code",
   "execution_count": 1,
   "metadata": {},
   "outputs": [],
   "source": [
    "%load_ext autoreload\n",
    "%autoreload 2\n",
    "%config Completer.use_jedi=False"
   ]
  },
  {
   "cell_type": "code",
   "execution_count": 2,
   "metadata": {},
   "outputs": [],
   "source": [
    "from os.path import join, expanduser\n",
    "import pandas as pd\n",
    "import sys\n",
    "import os\n",
    "import re\n",
    "import warnings"
   ]
  },
  {
   "cell_type": "code",
   "execution_count": 3,
   "metadata": {},
   "outputs": [],
   "source": [
    "warnings.filterwarnings(action='once')\n",
    "home = expanduser('~')"
   ]
  },
  {
   "cell_type": "code",
   "execution_count": 4,
   "metadata": {},
   "outputs": [],
   "source": [
    "src_path = '{}/zest-race-predictor/playground/kam/zrp'.format(home)\n",
    "sys.path.append(src_path)"
   ]
  },
  {
   "cell_type": "code",
   "execution_count": 5,
   "metadata": {},
   "outputs": [],
   "source": [
    "from prepare.utils import *\n",
    "\n",
    "from prepare.zrp import ZRP_Prepare"
   ]
  },
  {
   "cell_type": "markdown",
   "metadata": {},
   "source": [
    "## load data\n",
    "simulating user input data"
   ]
  },
  {
   "cell_type": "code",
   "execution_count": 6,
   "metadata": {},
   "outputs": [],
   "source": [
    "support_files_path = \"/d/shared/zrp/shared_data\"\n"
   ]
  },
  {
   "cell_type": "code",
   "execution_count": 7,
   "metadata": {},
   "outputs": [
    {
     "name": "stderr",
     "output_type": "stream",
     "text": [
      "/home/kam/.conda/envs/zrp_q1_22/lib/python3.7/site-packages/pandas/compat/_optional.py:116: DeprecationWarning: distutils Version classes are deprecated. Use packaging.version instead.\n",
      "  if distutils.version.LooseVersion(version) < minimum_version:\n",
      "/home/kam/.conda/envs/zrp_q1_22/lib/python3.7/site-packages/setuptools/_distutils/version.py:351: DeprecationWarning: distutils Version classes are deprecated. Use packaging.version instead.\n",
      "  other = LooseVersion(other)\n",
      "/home/kam/.conda/envs/zrp_q1_22/lib/python3.7/site-packages/pandas/core/arrays/_arrow_utils.py:9: DeprecationWarning: distutils Version classes are deprecated. Use packaging.version instead.\n",
      "  _pyarrow_version_ge_015 = LooseVersion(pyarrow.__version__) >= LooseVersion(\"0.15\")\n"
     ]
    },
    {
     "data": {
      "text/plain": [
       "(15032091, 14)"
      ]
     },
     "execution_count": 7,
     "metadata": {},
     "output_type": "execute_result"
    }
   ],
   "source": [
    "df = load_file(\"/d/shared/zrp/shared_data/processed/data/state_level/voters/base_fl_2022q1.parquet\")\n",
    "\n",
    "df.shape"
   ]
  },
  {
   "cell_type": "markdown",
   "metadata": {},
   "source": [
    "### sample data\n",
    "sample for test case"
   ]
  },
  {
   "cell_type": "code",
   "execution_count": 8,
   "metadata": {},
   "outputs": [],
   "source": [
    "samp = df.sample(30)"
   ]
  },
  {
   "cell_type": "code",
   "execution_count": null,
   "metadata": {},
   "outputs": [],
   "source": []
  },
  {
   "cell_type": "markdown",
   "metadata": {},
   "source": [
    "## ZRP Prepare  "
   ]
  },
  {
   "cell_type": "code",
   "execution_count": 11,
   "metadata": {},
   "outputs": [],
   "source": [
    "prepare = ZRP_Prepare()"
   ]
  },
  {
   "cell_type": "code",
   "execution_count": 12,
   "metadata": {},
   "outputs": [],
   "source": [
    "prepare.fit(samp)"
   ]
  },
  {
   "cell_type": "code",
   "execution_count": 13,
   "metadata": {},
   "outputs": [
    {
     "name": "stderr",
     "output_type": "stream",
     "text": [
      "  0%|          | 0/30 [00:00<?, ?it/s][Parallel(n_jobs=49)]: Using backend ThreadingBackend with 49 concurrent workers.\n",
      "100%|██████████| 30/30 [00:00<00:00, 80971.12it/s]"
     ]
    },
    {
     "name": "stdout",
     "output_type": "stream",
     "text": [
      "Data is loaded\n",
      "Data is loaded\n",
      "   Formatting P1\n",
      "   Formatting P2\n",
      "reduce whitespace\n",
      "\n",
      "[Start] Preparing geo data\n",
      "  The following states are included in the data: ['FL']\n",
      "   ... on state: FL\n",
      "\n",
      "   Data is loaded\n",
      "   [Start] Processing geo data\n",
      "/d/shared/zrp/shared_data\n",
      "      ...address cleaning\n",
      "      ...replicating address\n",
      "         ...Base\n",
      "         ...Map street suffixes...\n"
     ]
    },
    {
     "name": "stderr",
     "output_type": "stream",
     "text": [
      "\n",
      "[Parallel(n_jobs=49)]: Done  26 out of  30 | elapsed:    0.0s remaining:    0.0s\n",
      "[Parallel(n_jobs=49)]: Done  30 out of  30 | elapsed:    0.0s finished\n",
      "sys:1: ResourceWarning: unclosed socket <zmq.Socket(zmq.PUSH) at 0x7f9a4e77d8a0>\n",
      "ResourceWarning: Enable tracemalloc to get the object allocation traceback\n"
     ]
    },
    {
     "name": "stdout",
     "output_type": "stream",
     "text": [
      "         ...Mapped & split by street suffixes...\n",
      "         ...Number processing...\n",
      "\n",
      "     Address dataframe expansion is complete! (n=38)\n",
      "      ...formatting\n",
      "   [Completed] Processing geo data\n",
      "   [Start] Mapping geo data\n"
     ]
    },
    {
     "name": "stderr",
     "output_type": "stream",
     "text": [
      "/home/kam/.conda/envs/zrp_q1_22/lib/python3.7/site-packages/pandas/compat/_optional.py:116: DeprecationWarning: distutils Version classes are deprecated. Use packaging.version instead.\n",
      "  if distutils.version.LooseVersion(version) < minimum_version:\n",
      "/home/kam/.conda/envs/zrp_q1_22/lib/python3.7/site-packages/setuptools/_distutils/version.py:351: DeprecationWarning: distutils Version classes are deprecated. Use packaging.version instead.\n",
      "  other = LooseVersion(other)\n"
     ]
    },
    {
     "name": "stdout",
     "output_type": "stream",
     "text": [
      "      ...merge user input & lookup table\n",
      "      ...mapping\n",
      "Output saved\n",
      "   [Completed] Mapping geo data\n"
     ]
    },
    {
     "name": "stderr",
     "output_type": "stream",
     "text": [
      "/home/kam/.conda/envs/zrp_q1_22/lib/python3.7/site-packages/pandas/compat/_optional.py:116: DeprecationWarning: distutils Version classes are deprecated. Use packaging.version instead.\n",
      "  if distutils.version.LooseVersion(version) < minimum_version:\n",
      "/home/kam/.conda/envs/zrp_q1_22/lib/python3.7/site-packages/setuptools/_distutils/version.py:351: DeprecationWarning: distutils Version classes are deprecated. Use packaging.version instead.\n",
      "  other = LooseVersion(other)\n"
     ]
    },
    {
     "name": "stdout",
     "output_type": "stream",
     "text": [
      "[Completed] Preparing geo data\n",
      "\n",
      "[Start] Preparing ACS data\n",
      "User input data is loaded\n",
      "   ...loading ACS lookup tables\n",
      "   ... combining ACS & user input data\n",
      "ZEST_KEY\n",
      "[Complete] Preparing ACS data\n"
     ]
    }
   ],
   "source": [
    "output = prepare.transform(samp)"
   ]
  },
  {
   "cell_type": "code",
   "execution_count": 14,
   "metadata": {},
   "outputs": [
    {
     "data": {
      "text/plain": [
       "(101, 929)"
      ]
     },
     "execution_count": 14,
     "metadata": {},
     "output_type": "execute_result"
    }
   ],
   "source": [
    "output.shape"
   ]
  },
  {
   "cell_type": "code",
   "execution_count": null,
   "metadata": {},
   "outputs": [],
   "source": []
  }
 ],
 "metadata": {
  "kernelspec": {
   "display_name": "ZRP (Q1 2022)",
   "language": "python",
   "name": "zrp_q1_22"
  },
  "language_info": {
   "codemirror_mode": {
    "name": "ipython",
    "version": 3
   },
   "file_extension": ".py",
   "mimetype": "text/x-python",
   "name": "python",
   "nbconvert_exporter": "python",
   "pygments_lexer": "ipython3",
   "version": "3.7.7"
  }
 },
 "nbformat": 4,
 "nbformat_minor": 4
}
