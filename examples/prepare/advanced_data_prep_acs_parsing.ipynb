{
 "cells": [
  {
   "cell_type": "markdown",
   "metadata": {},
   "source": [
    "# How to Parse Raw ACS Data\n",
    "The purpose of this notebook is to parse American Community Survey data. As stated on the United States Census Bureau site, “The 5-year estimates from the ACS are \"period\" estimates that represent data collected over a period of time. The primary advantage of using multiyear estimates is the increased statistical reliability of the data for less populated areas and small population subgroups.\" This example will parse ACS data from Alabama and return each parsed table in a dictionary."
   ]
  },
  {
   "cell_type": "code",
   "execution_count": 1,
   "metadata": {},
   "outputs": [],
   "source": [
    "%load_ext autoreload\n",
    "%autoreload 2\n",
    "%config Completer.use_jedi=False"
   ]
  },
  {
   "cell_type": "code",
   "execution_count": 2,
   "metadata": {},
   "outputs": [],
   "source": [
    "from os.path import join, expanduser, dirname\n",
    "import pandas as pd\n",
    "import sys\n",
    "import os\n",
    "import re\n",
    "import warnings"
   ]
  },
  {
   "cell_type": "code",
   "execution_count": 3,
   "metadata": {},
   "outputs": [],
   "source": [
    "warnings.filterwarnings(action='ignore')\n",
    "home = expanduser('~')\n",
    "\n",
    "src_path = '{}/zrp'.format(home)\n",
    "sys.path.append(src_path)"
   ]
  },
  {
   "cell_type": "code",
   "execution_count": 4,
   "metadata": {},
   "outputs": [],
   "source": [
    "from zrp.prepare import ProcessStrings\n"
   ]
  },
  {
   "cell_type": "markdown",
   "metadata": {},
   "source": [
    "Predefine paths & required parameters"
   ]
  },
  {
   "cell_type": "code",
   "execution_count": 5,
   "metadata": {},
   "outputs": [],
   "source": [
    "# Support files path pointing to where the raw ACS data is stored\n",
    "support_files_path = \"INSERT-PATH-HERE\"\n",
    "# Year of ACS data\n",
    "year = \"2019\"\n",
    "# Span of ACS data. The ACS data is available in 1 or 5 year spans. \n",
    "span = \"5\"\n",
    "# State\n",
    "state_level = \"al\"\n",
    "# State County FIPs Code\n",
    "st_cty_code = \"01001\""
   ]
  },
  {
   "cell_type": "markdown",
   "metadata": {},
   "source": [
    "Import ACS Lookup Functions"
   ]
  },
  {
   "cell_type": "code",
   "execution_count": 6,
   "metadata": {},
   "outputs": [],
   "source": [
    "from zrp.prepare.acs_lookup import *\n"
   ]
  },
  {
   "cell_type": "markdown",
   "metadata": {},
   "source": [
    "### Initialize `ACS_Parser`\n",
    "This class constructs American Community Survey lookup tables that enables race approximation. Census American Community Survey data is required for this module to run. You can retrieve 2019 data from\n",
    "- https://www2.census.gov/programs-surveys/acs/summary_file/2019/data/2019_5yr_Summary_FileTemplates.zip\n",
    "- https://www2.census.gov/programs-surveys/acs/summary_file/2019/data/5_year_entire_sf/2019_ACS_Geography_Files.zip\n",
    "- https://www2.census.gov/programs-surveys/acs/summary_file/2019/data/5_year_entire_sf/All_Geographies_Not_Tracts_Block_Groups.zip\n",
    "- https://www2.census.gov/programs-surveys/acs/summary_file/2019/data/5_year_entire_sf/Tracts_Block_Groups_Only.zip\n"
   ]
  },
  {
   "cell_type": "code",
   "execution_count": 7,
   "metadata": {},
   "outputs": [],
   "source": [
    "acs_parse = ACS_Parser(support_files_path = support_files_path, year = year, span = span, state_level = state_level, n_jobs=-1 )"
   ]
  },
  {
   "cell_type": "markdown",
   "metadata": {},
   "source": [
    "### Run `ACS_Parser`\n",
    "Lookup tables are saved by default. "
   ]
  },
  {
   "cell_type": "code",
   "execution_count": 9,
   "metadata": {},
   "outputs": [
    {
     "name": "stderr",
     "output_type": "stream",
     "text": [
      "  0%|          | 0/141 [00:00<?, ?it/s][Parallel(n_jobs=-1)]: Using backend LokyBackend with 15 concurrent workers.\n",
      " 32%|███▏      | 45/141 [00:43<01:10,  1.36it/s] [Parallel(n_jobs=-1)]: Done  20 tasks      | elapsed:   44.6s\n",
      "100%|██████████| 141/141 [02:40<00:00,  1.14s/it]\n"
     ]
    },
    {
     "name": "stdout",
     "output_type": "stream",
     "text": [
      "CPU times: user 15.7 s, sys: 5.2 s, total: 20.9 s\n",
      "Wall time: 3min 23s\n"
     ]
    },
    {
     "name": "stderr",
     "output_type": "stream",
     "text": [
      "[Parallel(n_jobs=-1)]: Done 141 out of 141 | elapsed:  3.4min finished\n"
     ]
    }
   ],
   "source": [
    "%%time \n",
    "output = acs_parse.transform(save_table = False)"
   ]
  },
  {
   "cell_type": "markdown",
   "metadata": {},
   "source": [
    "### Preview "
   ]
  },
  {
   "cell_type": "code",
   "execution_count": 10,
   "metadata": {},
   "outputs": [
    {
     "data": {
      "text/plain": [
       "dict_keys(['1', '2', '3', '4', '5', '6', '7', '8', '9', '10', '11', '12', '13', '14', '15', '16', '17', '18', '19', '20', '21', '22', '23', '24', '25', '26', '27', '28', '29', '30', '31', '32', '33', '34', '35', '36', '37', '38', '39', '40', '41', '42', '43', '44', '45', '46', '47', '48', '49', '50', '51', '52', '53', '54', '55', '56', '57', '58', '59', '60', '61', '62', '63', '64', '65', '66', '67', '68', '69', '70', '71', '72', '73', '74', '75', '76', '77', '78', '79', '80', '81', '82', '83', '84', '85', '86', '87', '88', '89', '90', '91', '92', '93', '94', '95', '96', '97', '98', '99', '100', '101', '102', '103', '104', '105', '106', '107', '108', '109', '110', '111', '112', '113', '114', '115', '116', '117', '118', '119', '120', '121', '122', '123', '124', '125', '126', '127', '128', '129', '130', '131', '132', '133', '134', '135', '136', '137', '138', '139', '140', '141'])"
      ]
     },
     "execution_count": 10,
     "metadata": {},
     "output_type": "execute_result"
    }
   ],
   "source": [
    "output.keys()"
   ]
  },
  {
   "cell_type": "code",
   "execution_count": 11,
   "metadata": {},
   "outputs": [
    {
     "data": {
      "text/plain": [
       "dict_keys(['data', 'sequence', 'headers', 'Tracts_Block_Groups', 'Not_Tracts_Block_Groups', 'description'])"
      ]
     },
     "execution_count": 11,
     "metadata": {},
     "output_type": "execute_result"
    }
   ],
   "source": [
    "output['1'].keys()"
   ]
  },
  {
   "cell_type": "code",
   "execution_count": 12,
   "metadata": {},
   "outputs": [
    {
     "data": {
      "text/plain": [
       "'2019_5yr_Summary_FileTemplates/seq1.xlsx'"
      ]
     },
     "execution_count": 12,
     "metadata": {},
     "output_type": "execute_result"
    }
   ],
   "source": [
    "output['1']['sequence']"
   ]
  },
  {
   "cell_type": "code",
   "execution_count": 13,
   "metadata": {},
   "outputs": [
    {
     "name": "stdout",
     "output_type": "stream",
     "text": [
      "(8857, 244)\n"
     ]
    },
    {
     "data": {
      "text/html": [
       "<div>\n",
       "<style scoped>\n",
       "    .dataframe tbody tr th:only-of-type {\n",
       "        vertical-align: middle;\n",
       "    }\n",
       "\n",
       "    .dataframe tbody tr th {\n",
       "        vertical-align: top;\n",
       "    }\n",
       "\n",
       "    .dataframe thead th {\n",
       "        text-align: right;\n",
       "    }\n",
       "</style>\n",
       "<table border=\"1\" class=\"dataframe\">\n",
       "  <thead>\n",
       "    <tr style=\"text-align: right;\">\n",
       "      <th></th>\n",
       "      <th>FILEID</th>\n",
       "      <th>FILETYPE</th>\n",
       "      <th>STUSAB</th>\n",
       "      <th>CHARITER</th>\n",
       "      <th>SEQUENCE</th>\n",
       "      <th>LOGRECNO</th>\n",
       "      <th>B01001_001</th>\n",
       "      <th>B01001_002</th>\n",
       "      <th>B01001_003</th>\n",
       "      <th>B01001_004</th>\n",
       "      <th>...</th>\n",
       "      <th>B01001F_025</th>\n",
       "      <th>B01001F_026</th>\n",
       "      <th>B01001F_027</th>\n",
       "      <th>B01001F_028</th>\n",
       "      <th>B01001F_029</th>\n",
       "      <th>B01001F_030</th>\n",
       "      <th>B01001F_031</th>\n",
       "      <th>State</th>\n",
       "      <th>GEOID</th>\n",
       "      <th>Geography Name</th>\n",
       "    </tr>\n",
       "  </thead>\n",
       "  <tbody>\n",
       "    <tr>\n",
       "      <th>0</th>\n",
       "      <td>ACSSF</td>\n",
       "      <td>2019e5</td>\n",
       "      <td>al</td>\n",
       "      <td>000</td>\n",
       "      <td>0001</td>\n",
       "      <td>0001772</td>\n",
       "      <td>1993</td>\n",
       "      <td>907</td>\n",
       "      <td>34</td>\n",
       "      <td>55</td>\n",
       "      <td>...</td>\n",
       "      <td>0</td>\n",
       "      <td>0</td>\n",
       "      <td>0</td>\n",
       "      <td>0</td>\n",
       "      <td>0</td>\n",
       "      <td>0</td>\n",
       "      <td>0</td>\n",
       "      <td>AL</td>\n",
       "      <td>14000US01001020100</td>\n",
       "      <td>Census Tract 201, Autauga County, Alabama</td>\n",
       "    </tr>\n",
       "    <tr>\n",
       "      <th>1</th>\n",
       "      <td>ACSSF</td>\n",
       "      <td>2019e5</td>\n",
       "      <td>al</td>\n",
       "      <td>000</td>\n",
       "      <td>0001</td>\n",
       "      <td>0001773</td>\n",
       "      <td>1959</td>\n",
       "      <td>1058</td>\n",
       "      <td>79</td>\n",
       "      <td>115</td>\n",
       "      <td>...</td>\n",
       "      <td>0</td>\n",
       "      <td>0</td>\n",
       "      <td>0</td>\n",
       "      <td>0</td>\n",
       "      <td>0</td>\n",
       "      <td>0</td>\n",
       "      <td>0</td>\n",
       "      <td>AL</td>\n",
       "      <td>14000US01001020200</td>\n",
       "      <td>Census Tract 202, Autauga County, Alabama</td>\n",
       "    </tr>\n",
       "    <tr>\n",
       "      <th>2</th>\n",
       "      <td>ACSSF</td>\n",
       "      <td>2019e5</td>\n",
       "      <td>al</td>\n",
       "      <td>000</td>\n",
       "      <td>0001</td>\n",
       "      <td>0001774</td>\n",
       "      <td>3507</td>\n",
       "      <td>1731</td>\n",
       "      <td>62</td>\n",
       "      <td>143</td>\n",
       "      <td>...</td>\n",
       "      <td>0</td>\n",
       "      <td>0</td>\n",
       "      <td>0</td>\n",
       "      <td>33</td>\n",
       "      <td>0</td>\n",
       "      <td>0</td>\n",
       "      <td>0</td>\n",
       "      <td>AL</td>\n",
       "      <td>14000US01001020300</td>\n",
       "      <td>Census Tract 203, Autauga County, Alabama</td>\n",
       "    </tr>\n",
       "    <tr>\n",
       "      <th>3</th>\n",
       "      <td>ACSSF</td>\n",
       "      <td>2019e5</td>\n",
       "      <td>al</td>\n",
       "      <td>000</td>\n",
       "      <td>0001</td>\n",
       "      <td>0001775</td>\n",
       "      <td>3878</td>\n",
       "      <td>1949</td>\n",
       "      <td>64</td>\n",
       "      <td>159</td>\n",
       "      <td>...</td>\n",
       "      <td>0</td>\n",
       "      <td>0</td>\n",
       "      <td>0</td>\n",
       "      <td>0</td>\n",
       "      <td>0</td>\n",
       "      <td>0</td>\n",
       "      <td>0</td>\n",
       "      <td>AL</td>\n",
       "      <td>14000US01001020400</td>\n",
       "      <td>Census Tract 204, Autauga County, Alabama</td>\n",
       "    </tr>\n",
       "    <tr>\n",
       "      <th>4</th>\n",
       "      <td>ACSSF</td>\n",
       "      <td>2019e5</td>\n",
       "      <td>al</td>\n",
       "      <td>000</td>\n",
       "      <td>0001</td>\n",
       "      <td>0001776</td>\n",
       "      <td>10596</td>\n",
       "      <td>5256</td>\n",
       "      <td>229</td>\n",
       "      <td>488</td>\n",
       "      <td>...</td>\n",
       "      <td>0</td>\n",
       "      <td>20</td>\n",
       "      <td>0</td>\n",
       "      <td>0</td>\n",
       "      <td>0</td>\n",
       "      <td>0</td>\n",
       "      <td>0</td>\n",
       "      <td>AL</td>\n",
       "      <td>14000US01001020500</td>\n",
       "      <td>Census Tract 205, Autauga County, Alabama</td>\n",
       "    </tr>\n",
       "  </tbody>\n",
       "</table>\n",
       "<p>5 rows × 244 columns</p>\n",
       "</div>"
      ],
      "text/plain": [
       "  FILEID FILETYPE STUSAB CHARITER SEQUENCE LOGRECNO B01001_001 B01001_002  \\\n",
       "0  ACSSF   2019e5     al      000     0001  0001772       1993        907   \n",
       "1  ACSSF   2019e5     al      000     0001  0001773       1959       1058   \n",
       "2  ACSSF   2019e5     al      000     0001  0001774       3507       1731   \n",
       "3  ACSSF   2019e5     al      000     0001  0001775       3878       1949   \n",
       "4  ACSSF   2019e5     al      000     0001  0001776      10596       5256   \n",
       "\n",
       "  B01001_003 B01001_004  ... B01001F_025 B01001F_026 B01001F_027 B01001F_028  \\\n",
       "0         34         55  ...           0           0           0           0   \n",
       "1         79        115  ...           0           0           0           0   \n",
       "2         62        143  ...           0           0           0          33   \n",
       "3         64        159  ...           0           0           0           0   \n",
       "4        229        488  ...           0          20           0           0   \n",
       "\n",
       "  B01001F_029 B01001F_030 B01001F_031 State               GEOID  \\\n",
       "0           0           0           0    AL  14000US01001020100   \n",
       "1           0           0           0    AL  14000US01001020200   \n",
       "2           0           0           0    AL  14000US01001020300   \n",
       "3           0           0           0    AL  14000US01001020400   \n",
       "4           0           0           0    AL  14000US01001020500   \n",
       "\n",
       "                              Geography Name  \n",
       "0  Census Tract 201, Autauga County, Alabama  \n",
       "1  Census Tract 202, Autauga County, Alabama  \n",
       "2  Census Tract 203, Autauga County, Alabama  \n",
       "3  Census Tract 204, Autauga County, Alabama  \n",
       "4  Census Tract 205, Autauga County, Alabama  \n",
       "\n",
       "[5 rows x 244 columns]"
      ]
     },
     "execution_count": 13,
     "metadata": {},
     "output_type": "execute_result"
    }
   ],
   "source": [
    "print(output['1']['data'].shape)\n",
    "output['1']['data'].head()"
   ]
  },
  {
   "cell_type": "code",
   "execution_count": null,
   "metadata": {},
   "outputs": [],
   "source": []
  }
 ],
 "metadata": {
  "kernelspec": {
   "display_name": "zrp_v033",
   "language": "python",
   "name": "zrp_v033"
  },
  "language_info": {
   "codemirror_mode": {
    "name": "ipython",
    "version": 3
   },
   "file_extension": ".py",
   "mimetype": "text/x-python",
   "name": "python",
   "nbconvert_exporter": "python",
   "pygments_lexer": "ipython3",
   "version": "3.7.7"
  },
  "widgets": {
   "application/vnd.jupyter.widget-state+json": {
    "state": {},
    "version_major": 2,
    "version_minor": 0
   }
  }
 },
 "nbformat": 4,
 "nbformat_minor": 4
}
