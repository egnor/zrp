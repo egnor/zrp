{
 "cells": [
  {
   "cell_type": "markdown",
   "metadata": {},
   "source": [
    "# How to Parse Raw ACS Data\n",
    "The purpose of this notebook is to parse American Community Survey data. As stated on the United States Census Bureau site, “The 5-year estimates from the ACS are \"period\" estimates that represent data collected over a period of time. The primary advantage of using multiyear estimates is the increased statistical reliability of the data for less populated areas and small population subgroups.\" This example will parse ACS data from Alabama and return each parsed table in a dictionary."
   ]
  },
  {
   "cell_type": "code",
   "execution_count": 1,
   "metadata": {},
   "outputs": [],
   "source": [
    "%load_ext autoreload\n",
    "%autoreload 2\n",
    "%config Completer.use_jedi=False"
   ]
  },
  {
   "cell_type": "code",
   "execution_count": 2,
   "metadata": {},
   "outputs": [],
   "source": [
    "from os.path import join, expanduser, dirname\n",
    "import pandas as pd\n",
    "import sys\n",
    "import os\n",
    "import re\n",
    "import warnings"
   ]
  },
  {
   "cell_type": "code",
   "execution_count": 3,
   "metadata": {},
   "outputs": [],
   "source": [
    "warnings.filterwarnings(action='ignore')\n",
    "home = expanduser('~')\n",
    "\n",
    "src_path = '{}/zrp'.format(home)\n",
    "sys.path.append(src_path)"
   ]
  },
  {
   "cell_type": "code",
   "execution_count": 4,
   "metadata": {},
   "outputs": [
    {
     "name": "stderr",
     "output_type": "stream",
     "text": [
      "/home/kam/.conda/envs/zrp_q1_22/lib/python3.7/importlib/_bootstrap.py:219: RuntimeWarning: numpy.ufunc size changed, may indicate binary incompatibility. Expected 192 from C header, got 216 from PyObject\n",
      "  return f(*args, **kwds)\n"
     ]
    }
   ],
   "source": [
    "from zrp.prepare import ProcessStrings\n"
   ]
  },
  {
   "cell_type": "markdown",
   "metadata": {},
   "source": [
    "Predefine paths & required parameters"
   ]
  },
  {
   "cell_type": "code",
   "execution_count": 4,
   "metadata": {},
   "outputs": [],
   "source": [
    "# Support files path pointing to where the raw ACS data is stored\n",
    "support_files_path = \"INSERT-PATH-HERE\"\n",
    "# Year of ACS data\n",
    "year = \"2019\"\n",
    "# Span of ACS data. The ACS data is available in 1 or 5 year spans. \n",
    "span = \"5\"\n",
    "# State\n",
    "state_level = \"al\"\n",
    "# State County FIPs Code\n",
    "st_cty_code = \"01001\""
   ]
  },
  {
   "cell_type": "markdown",
   "metadata": {},
   "source": [
    "Import ACS Lookup Functions"
   ]
  },
  {
   "cell_type": "code",
   "execution_count": 9,
   "metadata": {},
   "outputs": [],
   "source": [
    "from zrp.prepare.acs_lookup import *\n"
   ]
  },
  {
   "cell_type": "markdown",
   "metadata": {},
   "source": [
    "### Initialize `ACS_Parser`\n",
    "This class constructs American Community Survey lookup tables that enables race approximation. Census American Community Survey data is required for this module to run. You can retrieve 2019 data from\n",
    "- https://www2.census.gov/programs-surveys/acs/summary_file/2019/data/2019_5yr_Summary_FileTemplates.zip\n",
    "- https://www2.census.gov/programs-surveys/acs/summary_file/2019/data/5_year_entire_sf/2019_ACS_Geography_Files.zip\n",
    "- https://www2.census.gov/programs-surveys/acs/summary_file/2019/data/5_year_entire_sf/All_Geographies_Not_Tracts_Block_Groups.zip\n",
    "- https://www2.census.gov/programs-surveys/acs/summary_file/2019/data/5_year_entire_sf/Tracts_Block_Groups_Only.zip\n"
   ]
  },
  {
   "cell_type": "code",
   "execution_count": 10,
   "metadata": {},
   "outputs": [],
   "source": [
    "acs_parse = ACS_Parser(support_files_path = support_files_path, year = year, span = span, state_level = state_level, n_jobs=-1 )"
   ]
  },
  {
   "cell_type": "markdown",
   "metadata": {},
   "source": [
    "### Run `ACS_Parser`\n",
    "Lookup tables are saved by default. "
   ]
  },
  {
   "cell_type": "code",
   "execution_count": 11,
   "metadata": {},
   "outputs": [
    {
     "name": "stderr",
     "output_type": "stream",
     "text": [
      "\n",
      "  0%|          | 0/141 [00:00<?, ?it/s]\u001b[A[Parallel(n_jobs=-1)]: Using backend LokyBackend with 15 concurrent workers.\n",
      "\n",
      " 11%|█         | 15/141 [00:00<00:00, 138.08it/s]\u001b[A\n",
      " 11%|█         | 15/141 [00:19<00:00, 138.08it/s]\u001b[A\n",
      " 21%|██▏       | 30/141 [00:44<01:39,  1.11it/s] \u001b[A\n",
      " 32%|███▏      | 45/141 [01:25<02:18,  1.44s/it]\u001b[A[Parallel(n_jobs=-1)]: Done  20 tasks      | elapsed:  1.4min\n",
      "\n",
      " 43%|████▎     | 60/141 [02:05<02:27,  1.82s/it]\u001b[A\n",
      " 53%|█████▎    | 75/141 [02:45<02:16,  2.07s/it]\u001b[A\n",
      " 64%|██████▍   | 90/141 [03:26<01:54,  2.25s/it]\u001b[A\n",
      " 74%|███████▍  | 105/141 [04:06<01:25,  2.38s/it]\u001b[A\n",
      " 85%|████████▌ | 120/141 [04:46<00:51,  2.47s/it]\u001b[A\n",
      "100%|██████████| 141/141 [05:26<00:00,  2.32s/it]\u001b[A\n"
     ]
    },
    {
     "name": "stdout",
     "output_type": "stream",
     "text": [
      "CPU times: user 16.4 s, sys: 5.07 s, total: 21.5 s\n",
      "Wall time: 6min 54s\n"
     ]
    },
    {
     "name": "stderr",
     "output_type": "stream",
     "text": [
      "[Parallel(n_jobs=-1)]: Done 141 out of 141 | elapsed:  6.9min finished\n"
     ]
    }
   ],
   "source": [
    "%%time \n",
    "output = acs_parse.transform(save_table = False)"
   ]
  },
  {
   "cell_type": "markdown",
   "metadata": {},
   "source": [
    "### Preview "
   ]
  },
  {
   "cell_type": "code",
   "execution_count": 12,
   "metadata": {},
   "outputs": [
    {
     "data": {
      "text/plain": [
       "dict_keys(['1', '2', '3', '4', '5', '6', '7', '8', '9', '10', '11', '12', '13', '14', '15', '16', '17', '18', '19', '20', '21', '22', '23', '24', '25', '26', '27', '28', '29', '30', '31', '32', '33', '34', '35', '36', '37', '38', '39', '40', '41', '42', '43', '44', '45', '46', '47', '48', '49', '50', '51', '52', '53', '54', '55', '56', '57', '58', '59', '60', '61', '62', '63', '64', '65', '66', '67', '68', '69', '70', '71', '72', '73', '74', '75', '76', '77', '78', '79', '80', '81', '82', '83', '84', '85', '86', '87', '88', '89', '90', '91', '92', '93', '94', '95', '96', '97', '98', '99', '100', '101', '102', '103', '104', '105', '106', '107', '108', '109', '110', '111', '112', '113', '114', '115', '116', '117', '118', '119', '120', '121', '122', '123', '124', '125', '126', '127', '128', '129', '130', '131', '132', '133', '134', '135', '136', '137', '138', '139', '140', '141'])"
      ]
     },
     "execution_count": 12,
     "metadata": {},
     "output_type": "execute_result"
    }
   ],
   "source": [
    "output.keys()"
   ]
  },
  {
   "cell_type": "code",
   "execution_count": 13,
   "metadata": {},
   "outputs": [
    {
     "name": "stdout",
     "output_type": "stream",
     "text": [
      "(8857, 244)\n"
     ]
    }
   ],
   "source": [
    "output['1']['data'].head()\n",
    "print(output['1']['data'].shape)"
   ]
  },
  {
   "cell_type": "code",
   "execution_count": 14,
   "metadata": {},
   "outputs": [
    {
     "name": "stdout",
     "output_type": "stream",
     "text": [
      "  FILEID FILETYPE STUSAB CHARITER SEQUENCE LOGRECNO B24123_246 B24123_247  \\\n",
      "0  ACSSF   2019e5     al      000     0100  0001772        NaN        NaN   \n",
      "1  ACSSF   2019e5     al      000     0100  0001773        NaN        NaN   \n",
      "2  ACSSF   2019e5     al      000     0100  0001774        NaN        NaN   \n",
      "3  ACSSF   2019e5     al      000     0100  0001775        NaN        NaN   \n",
      "4  ACSSF   2019e5     al      000     0100  0001776        NaN        NaN   \n",
      "\n",
      "  B24123_248 B24123_249  ... B24123_484 B24123_485 B24123_486 B24123_487  \\\n",
      "0        NaN        NaN  ...        NaN        NaN        NaN        NaN   \n",
      "1        NaN        NaN  ...        NaN        NaN        NaN        NaN   \n",
      "2        NaN        NaN  ...        NaN        NaN        NaN        NaN   \n",
      "3        NaN        NaN  ...        NaN        NaN        NaN        NaN   \n",
      "4        NaN        NaN  ...        NaN        NaN        NaN        NaN   \n",
      "\n",
      "  B24123_488 B24123_489 B24123_490 State               GEOID  \\\n",
      "0        NaN        NaN        NaN    AL  14000US01001020100   \n",
      "1        NaN        NaN        NaN    AL  14000US01001020200   \n",
      "2        NaN        NaN        NaN    AL  14000US01001020300   \n",
      "3        NaN        NaN        NaN    AL  14000US01001020400   \n",
      "4        NaN        NaN        NaN    AL  14000US01001020500   \n",
      "\n",
      "                              Geography Name  \n",
      "0  Census Tract 201, Autauga County, Alabama  \n",
      "1  Census Tract 202, Autauga County, Alabama  \n",
      "2  Census Tract 203, Autauga County, Alabama  \n",
      "3  Census Tract 204, Autauga County, Alabama  \n",
      "4  Census Tract 205, Autauga County, Alabama  \n",
      "\n",
      "[5 rows x 254 columns]\n"
     ]
    }
   ],
   "source": [
    "output['100']['data'].head()\n",
    "print(output['100']['data'].head())"
   ]
  },
  {
   "cell_type": "code",
   "execution_count": null,
   "metadata": {},
   "outputs": [],
   "source": []
  },
  {
   "cell_type": "code",
   "execution_count": null,
   "metadata": {},
   "outputs": [],
   "source": []
  },
  {
   "cell_type": "code",
   "execution_count": null,
   "metadata": {},
   "outputs": [],
   "source": []
  },
  {
   "cell_type": "code",
   "execution_count": null,
   "metadata": {},
   "outputs": [],
   "source": []
  }
 ],
 "metadata": {
  "kernelspec": {
   "display_name": "ZRP (Q1 2022)",
   "language": "python",
   "name": "zrp_q1_22"
  },
  "language_info": {
   "codemirror_mode": {
    "name": "ipython",
    "version": 3
   },
   "file_extension": ".py",
   "mimetype": "text/x-python",
   "name": "python",
   "nbconvert_exporter": "python",
   "pygments_lexer": "ipython3",
   "version": "3.7.7"
  }
 },
 "nbformat": 4,
 "nbformat_minor": 4
}
