{
 "cells": [
  {
   "cell_type": "markdown",
   "metadata": {},
   "source": [
    "# How to Parse Raw ACS Data\n",
    "The purpose of this notebook is to parse American Community Survey data. As stated on the United States Census Bureau site, “The 5-year estimates from the ACS are \"period\" estimates that represent data collected over a period of time. The primary advantage of using multiyear estimates is the increased statistical reliability of the data for less populated areas and small population subgroups.\" This example will parse ACS data from Alabama and return each parsed table in a dictionary."
   ]
  },
  {
   "cell_type": "code",
   "execution_count": 1,
   "metadata": {},
   "outputs": [],
   "source": [
    "%load_ext autoreload\n",
    "%autoreload 2\n",
    "%config Completer.use_jedi=False"
   ]
  },
  {
   "cell_type": "code",
   "execution_count": 2,
   "metadata": {},
   "outputs": [],
   "source": [
    "from os.path import join, expanduser\n",
    "import datetime as dt\n",
    "import pandas as pd\n",
    "import numpy as np\n",
    "import warnings\n",
    "import glob\n",
    "import json\n",
    "import sys\n",
    "import os\n",
    "import re"
   ]
  },
  {
   "cell_type": "code",
   "execution_count": 3,
   "metadata": {},
   "outputs": [],
   "source": [
    "warnings.filterwarnings(action='once')\n",
    "home = expanduser('~')"
   ]
  },
  {
   "cell_type": "code",
   "execution_count": 4,
   "metadata": {},
   "outputs": [],
   "source": [
    "src_path = '{}/zest-race-predictor/playground/kam/zrp'.format(home)\n",
    "sys.path.append(src_path)"
   ]
  },
  {
   "cell_type": "markdown",
   "metadata": {},
   "source": [
    "Predefine paths & required parameters"
   ]
  },
  {
   "cell_type": "code",
   "execution_count": 5,
   "metadata": {},
   "outputs": [],
   "source": [
    "# Support files path pointing to where the raw ACS data is stored\n",
    "support_files_path = \"/d/shared/zrp/shared_data\"\n",
    "# Year of ACS data\n",
    "year = \"2019\"\n",
    "# Span of ACS data. The ACS data is available in 1 or 5 year spans. \n",
    "span = \"5\"\n",
    "# State\n",
    "state_level = \"al\"\n",
    "# State County FIPs Code\n",
    "st_cty_code = \"01001\""
   ]
  },
  {
   "cell_type": "markdown",
   "metadata": {},
   "source": [
    "Import ACS Lookup Functions"
   ]
  },
  {
   "cell_type": "code",
   "execution_count": 6,
   "metadata": {},
   "outputs": [],
   "source": [
    "from prepare.acs_lookup import *\n"
   ]
  },
  {
   "cell_type": "markdown",
   "metadata": {},
   "source": [
    "### Initialize `ACS_Parser`\n",
    "This class constructs American Community Survey lookup tables that enables race approximation."
   ]
  },
  {
   "cell_type": "code",
   "execution_count": 7,
   "metadata": {},
   "outputs": [],
   "source": [
    "acs_parse = ACS_Parser(support_files_path = support_files_path, year = year, span = span, state_level = state_level, n_jobs=-1 )"
   ]
  },
  {
   "cell_type": "markdown",
   "metadata": {},
   "source": [
    "### Run `ACS_Parser`\n",
    "Lookup tables are saved by default. "
   ]
  },
  {
   "cell_type": "code",
   "execution_count": 8,
   "metadata": {},
   "outputs": [
    {
     "name": "stderr",
     "output_type": "stream",
     "text": [
      "  0%|          | 0/141 [00:00<?, ?it/s][Parallel(n_jobs=-1)]: Using backend LokyBackend with 60 concurrent workers.\n",
      " 85%|████████▌ | 120/141 [00:57<00:06,  3.45it/s]sys:1: ResourceWarning: unclosed socket <zmq.Socket(zmq.PUSH) at 0x7f9a9d33a4b0>\n",
      "ResourceWarning: Enable tracemalloc to get the object allocation traceback\n",
      "100%|██████████| 141/141 [00:57<00:00,  2.45it/s]\n"
     ]
    },
    {
     "name": "stdout",
     "output_type": "stream",
     "text": [
      "CPU times: user 20.7 s, sys: 6.07 s, total: 26.8 s\n",
      "Wall time: 2min 38s\n"
     ]
    },
    {
     "name": "stderr",
     "output_type": "stream",
     "text": [
      "[Parallel(n_jobs=-1)]: Done 141 out of 141 | elapsed:  2.6min finished\n"
     ]
    }
   ],
   "source": [
    "%%time \n",
    "output = acs_parse.transform(False)"
   ]
  },
  {
   "cell_type": "markdown",
   "metadata": {},
   "source": [
    "### Preview "
   ]
  },
  {
   "cell_type": "code",
   "execution_count": 9,
   "metadata": {},
   "outputs": [
    {
     "data": {
      "text/plain": [
       "dict_keys(['1', '2', '3', '4', '5', '6', '7', '8', '9', '10', '11', '12', '13', '14', '15', '16', '17', '18', '19', '20', '21', '22', '23', '24', '25', '26', '27', '28', '29', '30', '31', '32', '33', '34', '35', '36', '37', '38', '39', '40', '41', '42', '43', '44', '45', '46', '47', '48', '49', '50', '51', '52', '53', '54', '55', '56', '57', '58', '59', '60', '61', '62', '63', '64', '65', '66', '67', '68', '69', '70', '71', '72', '73', '74', '75', '76', '77', '78', '79', '80', '81', '82', '83', '84', '85', '86', '87', '88', '89', '90', '91', '92', '93', '94', '95', '96', '97', '98', '99', '100', '101', '102', '103', '104', '105', '106', '107', '108', '109', '110', '111', '112', '113', '114', '115', '116', '117', '118', '119', '120', '121', '122', '123', '124', '125', '126', '127', '128', '129', '130', '131', '132', '133', '134', '135', '136', '137', '138', '139', '140', '141'])"
      ]
     },
     "execution_count": 9,
     "metadata": {},
     "output_type": "execute_result"
    }
   ],
   "source": [
    "output.keys()"
   ]
  },
  {
   "cell_type": "code",
   "execution_count": 10,
   "metadata": {},
   "outputs": [
    {
     "name": "stdout",
     "output_type": "stream",
     "text": [
      "(8857, 244)\n"
     ]
    }
   ],
   "source": [
    "output['1']['data'].head()\n",
    "print(output['1']['data'].shape)"
   ]
  },
  {
   "cell_type": "code",
   "execution_count": 11,
   "metadata": {},
   "outputs": [
    {
     "name": "stdout",
     "output_type": "stream",
     "text": [
      "  FILEID FILETYPE STUSAB CHARITER SEQUENCE LOGRECNO B24123_246 B24123_247  \\\n",
      "0  ACSSF   2019e5     al      000     0100  0001772        NaN        NaN   \n",
      "1  ACSSF   2019e5     al      000     0100  0001773        NaN        NaN   \n",
      "2  ACSSF   2019e5     al      000     0100  0001774        NaN        NaN   \n",
      "3  ACSSF   2019e5     al      000     0100  0001775        NaN        NaN   \n",
      "4  ACSSF   2019e5     al      000     0100  0001776        NaN        NaN   \n",
      "\n",
      "  B24123_248 B24123_249  ... B24123_484 B24123_485 B24123_486 B24123_487  \\\n",
      "0        NaN        NaN  ...        NaN        NaN        NaN        NaN   \n",
      "1        NaN        NaN  ...        NaN        NaN        NaN        NaN   \n",
      "2        NaN        NaN  ...        NaN        NaN        NaN        NaN   \n",
      "3        NaN        NaN  ...        NaN        NaN        NaN        NaN   \n",
      "4        NaN        NaN  ...        NaN        NaN        NaN        NaN   \n",
      "\n",
      "  B24123_488 B24123_489 B24123_490 State               GEOID  \\\n",
      "0        NaN        NaN        NaN    AL  14000US01001020100   \n",
      "1        NaN        NaN        NaN    AL  14000US01001020200   \n",
      "2        NaN        NaN        NaN    AL  14000US01001020300   \n",
      "3        NaN        NaN        NaN    AL  14000US01001020400   \n",
      "4        NaN        NaN        NaN    AL  14000US01001020500   \n",
      "\n",
      "                              Geography Name  \n",
      "0  Census Tract 201, Autauga County, Alabama  \n",
      "1  Census Tract 202, Autauga County, Alabama  \n",
      "2  Census Tract 203, Autauga County, Alabama  \n",
      "3  Census Tract 204, Autauga County, Alabama  \n",
      "4  Census Tract 205, Autauga County, Alabama  \n",
      "\n",
      "[5 rows x 254 columns]\n"
     ]
    }
   ],
   "source": [
    "output['100']['data'].head()\n",
    "print(output['100']['data'].head())"
   ]
  },
  {
   "cell_type": "code",
   "execution_count": null,
   "metadata": {},
   "outputs": [],
   "source": []
  },
  {
   "cell_type": "code",
   "execution_count": null,
   "metadata": {},
   "outputs": [],
   "source": []
  },
  {
   "cell_type": "code",
   "execution_count": null,
   "metadata": {},
   "outputs": [],
   "source": []
  },
  {
   "cell_type": "code",
   "execution_count": null,
   "metadata": {},
   "outputs": [],
   "source": []
  }
 ],
 "metadata": {
  "kernelspec": {
   "display_name": "Python 3",
   "language": "python",
   "name": "python3"
  },
  "language_info": {
   "codemirror_mode": {
    "name": "ipython",
    "version": 3
   },
   "file_extension": ".py",
   "mimetype": "text/x-python",
   "name": "python",
   "nbconvert_exporter": "python",
   "pygments_lexer": "ipython3",
   "version": "3.7.4"
  }
 },
 "nbformat": 4,
 "nbformat_minor": 4
}
