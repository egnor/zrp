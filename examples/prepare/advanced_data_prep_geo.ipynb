{
 "cells": [
  {
   "cell_type": "markdown",
   "metadata": {},
   "source": [
    "# How to Build a Geo Lookup Table\n",
    "The purpose of this notebook is to illustrate how to build a Geo-Lookup table, to use for geocoding addresses. In the ZRP pipeline, data is inputted as a dataframe with the following column: first name, middle name, last name, house number, street address (street name), city, state, zip code, and zest key. The 'zest key' must be specified to establish correspondence between inputs and outputs; it's effectively used as an index for the data table. The address data is mapped to a geocoded location (block group, census tract, or zipcode) using the lookup tables generated via the processes demonstrated in this example. This geocoded address will then be cross referenced with the ACS tables to determine the ACS features that will be a part of the feature vector ultimately trained on. In this example Alabama county level Census Tigerline shapefiles will be used generate a lookup table."
   ]
  },
  {
   "cell_type": "code",
   "execution_count": 1,
   "metadata": {},
   "outputs": [],
   "source": [
    "%load_ext autoreload\n",
    "%autoreload 2\n",
    "%config Completer.use_jedi=False"
   ]
  },
  {
   "cell_type": "code",
   "execution_count": 2,
   "metadata": {},
   "outputs": [],
   "source": [
    "from os.path import join, expanduser, dirname\n",
    "import pandas as pd\n",
    "import sys\n",
    "import os\n",
    "import re\n",
    "import warnings"
   ]
  },
  {
   "cell_type": "code",
   "execution_count": 3,
   "metadata": {},
   "outputs": [],
   "source": [
    "warnings.filterwarnings(action='ignore')\n",
    "home = expanduser('~')\n",
    "\n",
    "src_path = '{}/zrp'.format(home)\n",
    "sys.path.append(src_path)"
   ]
  },
  {
   "cell_type": "markdown",
   "metadata": {},
   "source": [
    "Predefine paths & required parameters"
   ]
  },
  {
   "cell_type": "code",
   "execution_count": 4,
   "metadata": {},
   "outputs": [],
   "source": [
    "# Support files path pointing to where the raw tigerline shapefile data is stored\n",
    "support_files_path = \"INSERT-PATH-HERE\"\n",
    "# Year of shapefile data\n",
    "year = \"2019\"\n",
    "# Geo level to build lookup table at\n",
    "st_cty_code = \"01001\""
   ]
  },
  {
   "cell_type": "markdown",
   "metadata": {},
   "source": [
    "Import Geo Lookup Functions"
   ]
  },
  {
   "cell_type": "code",
   "execution_count": 5,
   "metadata": {},
   "outputs": [],
   "source": [
    "from zrp.prepare.geo_lookup import *"
   ]
  },
  {
   "cell_type": "markdown",
   "metadata": {},
   "source": [
    "### Initialize `GeoLookUpBuilder`\n",
    "This class constructs geographic lookup tables that enable geocoding. Census Tigerline shapefiles are required for this module to run. You can retrieve 2019 shapefiles from [https://www2.census.gov/geo/tiger/TIGER2019/](https://www2.census.gov/geo/tiger/TIGER2019/)"
   ]
  },
  {
   "cell_type": "code",
   "execution_count": 6,
   "metadata": {},
   "outputs": [],
   "source": [
    "geo_build = GeoLookUpBuilder(support_files_path = support_files_path, year = year, output_folder_suffix='_out00')"
   ]
  },
  {
   "cell_type": "markdown",
   "metadata": {},
   "source": [
    "### Run `GeoLookUpBuilder`\n",
    "Provide the state-county fips code to build a county level lookup table.\n",
    "- No data is out because `save_table` is set to False. If True then the data will be saved to a file "
   ]
  },
  {
   "cell_type": "code",
   "execution_count": 7,
   "metadata": {},
   "outputs": [
    {
     "name": "stdout",
     "output_type": "stream",
     "text": [
      "Directory already exists\n",
      "Directory already exists\n",
      "Shapefile input: /d/shared/zrp/shared_data/raw/geo/2019\n",
      "Lookup Table output: /d/shared/zrp/shared_data/processed/geo/2019__out00\n",
      "\n",
      " ... Loading requirements\n",
      " ... Creating lookup table\n",
      " ... Formatting lookup table\n",
      "   [Start] Processing lookup data\n",
      "     ...processing\n",
      "         ...Base\n",
      "         ...Map street suffixes...\n",
      "         ...Mapped & split by street suffixes...\n",
      "         ...Number processing...\n",
      "\n",
      "         Address dataframe expansion is complete! (n=7169)\n",
      "   [Completed] Processing lookup data\n",
      "     Number of observations: 7174\n",
      "     Is key unique: False\n",
      "No tables were saved\n",
      "CPU times: user 17 s, sys: 180 ms, total: 17.2 s\n",
      "Wall time: 17.2 s\n"
     ]
    }
   ],
   "source": [
    "%%time\n",
    "output = geo_build.transform(st_cty_code, save_table = False)"
   ]
  },
  {
   "cell_type": "markdown",
   "metadata": {},
   "source": [
    "### Inspect the output\n"
   ]
  },
  {
   "cell_type": "code",
   "execution_count": 8,
   "metadata": {},
   "outputs": [
    {
     "data": {
      "text/html": [
       "<div>\n",
       "<style scoped>\n",
       "    .dataframe tbody tr th:only-of-type {\n",
       "        vertical-align: middle;\n",
       "    }\n",
       "\n",
       "    .dataframe tbody tr th {\n",
       "        vertical-align: top;\n",
       "    }\n",
       "\n",
       "    .dataframe thead th {\n",
       "        text-align: right;\n",
       "    }\n",
       "</style>\n",
       "<table border=\"1\" class=\"dataframe\">\n",
       "  <thead>\n",
       "    <tr style=\"text-align: right;\">\n",
       "      <th></th>\n",
       "      <th>STATEFP</th>\n",
       "      <th>COUNTYFP</th>\n",
       "      <th>TRACTCE</th>\n",
       "      <th>BLKGRPCE</th>\n",
       "      <th>ZEST_FULLNAME</th>\n",
       "      <th>FROMHN</th>\n",
       "      <th>TOHN</th>\n",
       "      <th>ZEST_ZIP</th>\n",
       "      <th>ZCTA5CE</th>\n",
       "      <th>ZCTA5CE10</th>\n",
       "      <th>FROMHN_LEFT</th>\n",
       "      <th>FROMHN_RIGHT</th>\n",
       "      <th>TOHN_LEFT</th>\n",
       "      <th>TOHN_RIGHT</th>\n",
       "      <th>PARITY</th>\n",
       "    </tr>\n",
       "  </thead>\n",
       "  <tbody>\n",
       "    <tr>\n",
       "      <th>0</th>\n",
       "      <td>01</td>\n",
       "      <td>001</td>\n",
       "      <td>021100</td>\n",
       "      <td>3</td>\n",
       "      <td>ACADEMY ST</td>\n",
       "      <td>2498</td>\n",
       "      <td>2400</td>\n",
       "      <td>36003</td>\n",
       "      <td>36003</td>\n",
       "      <td>36003</td>\n",
       "      <td></td>\n",
       "      <td>2400</td>\n",
       "      <td></td>\n",
       "      <td>2498</td>\n",
       "      <td>E</td>\n",
       "    </tr>\n",
       "    <tr>\n",
       "      <th>1</th>\n",
       "      <td>01</td>\n",
       "      <td>001</td>\n",
       "      <td>021100</td>\n",
       "      <td>2</td>\n",
       "      <td>ANDREWS DR</td>\n",
       "      <td>3698</td>\n",
       "      <td>3600</td>\n",
       "      <td>36003</td>\n",
       "      <td>36003</td>\n",
       "      <td>36003</td>\n",
       "      <td></td>\n",
       "      <td>3600</td>\n",
       "      <td></td>\n",
       "      <td>3698</td>\n",
       "      <td>E</td>\n",
       "    </tr>\n",
       "    <tr>\n",
       "      <th>2</th>\n",
       "      <td>01</td>\n",
       "      <td>001</td>\n",
       "      <td>021100</td>\n",
       "      <td>2</td>\n",
       "      <td>AUTAUGA COUNTY 101</td>\n",
       "      <td>420</td>\n",
       "      <td>438</td>\n",
       "      <td>36003</td>\n",
       "      <td>36003</td>\n",
       "      <td>36003</td>\n",
       "      <td></td>\n",
       "      <td>420</td>\n",
       "      <td></td>\n",
       "      <td>438</td>\n",
       "      <td>E</td>\n",
       "    </tr>\n",
       "    <tr>\n",
       "      <th>3</th>\n",
       "      <td>01</td>\n",
       "      <td>001</td>\n",
       "      <td>021100</td>\n",
       "      <td>2</td>\n",
       "      <td>AUTAUGA COUNTY 101</td>\n",
       "      <td>500</td>\n",
       "      <td>598</td>\n",
       "      <td>36003</td>\n",
       "      <td>36003</td>\n",
       "      <td>36003</td>\n",
       "      <td></td>\n",
       "      <td>500</td>\n",
       "      <td></td>\n",
       "      <td>598</td>\n",
       "      <td>E</td>\n",
       "    </tr>\n",
       "    <tr>\n",
       "      <th>4</th>\n",
       "      <td>01</td>\n",
       "      <td>001</td>\n",
       "      <td>021100</td>\n",
       "      <td>3</td>\n",
       "      <td>AUTAUGA COUNTY 133</td>\n",
       "      <td>232</td>\n",
       "      <td>100</td>\n",
       "      <td>36003</td>\n",
       "      <td>36003</td>\n",
       "      <td>36003</td>\n",
       "      <td></td>\n",
       "      <td>100</td>\n",
       "      <td></td>\n",
       "      <td>232</td>\n",
       "      <td>E</td>\n",
       "    </tr>\n",
       "  </tbody>\n",
       "</table>\n",
       "</div>"
      ],
      "text/plain": [
       "  STATEFP COUNTYFP TRACTCE BLKGRPCE       ZEST_FULLNAME FROMHN  TOHN ZEST_ZIP  \\\n",
       "0      01      001  021100        3          ACADEMY ST   2498  2400    36003   \n",
       "1      01      001  021100        2          ANDREWS DR   3698  3600    36003   \n",
       "2      01      001  021100        2  AUTAUGA COUNTY 101    420   438    36003   \n",
       "3      01      001  021100        2  AUTAUGA COUNTY 101    500   598    36003   \n",
       "4      01      001  021100        3  AUTAUGA COUNTY 133    232   100    36003   \n",
       "\n",
       "  ZCTA5CE ZCTA5CE10 FROMHN_LEFT  FROMHN_RIGHT TOHN_LEFT  TOHN_RIGHT PARITY  \n",
       "0   36003     36003                      2400                  2498      E  \n",
       "1   36003     36003                      3600                  3698      E  \n",
       "2   36003     36003                       420                   438      E  \n",
       "3   36003     36003                       500                   598      E  \n",
       "4   36003     36003                       100                   232      E  "
      ]
     },
     "execution_count": 8,
     "metadata": {},
     "output_type": "execute_result"
    }
   ],
   "source": [
    "output.head()"
   ]
  },
  {
   "cell_type": "code",
   "execution_count": 9,
   "metadata": {},
   "outputs": [
    {
     "data": {
      "text/html": [
       "<div>\n",
       "<style scoped>\n",
       "    .dataframe tbody tr th:only-of-type {\n",
       "        vertical-align: middle;\n",
       "    }\n",
       "\n",
       "    .dataframe tbody tr th {\n",
       "        vertical-align: top;\n",
       "    }\n",
       "\n",
       "    .dataframe thead th {\n",
       "        text-align: right;\n",
       "    }\n",
       "</style>\n",
       "<table border=\"1\" class=\"dataframe\">\n",
       "  <thead>\n",
       "    <tr style=\"text-align: right;\">\n",
       "      <th></th>\n",
       "      <th>STATEFP</th>\n",
       "      <th>COUNTYFP</th>\n",
       "      <th>TRACTCE</th>\n",
       "      <th>BLKGRPCE</th>\n",
       "      <th>ZEST_FULLNAME</th>\n",
       "      <th>FROMHN</th>\n",
       "      <th>TOHN</th>\n",
       "      <th>ZEST_ZIP</th>\n",
       "      <th>ZCTA5CE</th>\n",
       "      <th>ZCTA5CE10</th>\n",
       "      <th>FROMHN_LEFT</th>\n",
       "      <th>FROMHN_RIGHT</th>\n",
       "      <th>TOHN_LEFT</th>\n",
       "      <th>TOHN_RIGHT</th>\n",
       "      <th>PARITY</th>\n",
       "    </tr>\n",
       "  </thead>\n",
       "  <tbody>\n",
       "    <tr>\n",
       "      <th>7169</th>\n",
       "      <td>01</td>\n",
       "      <td>001</td>\n",
       "      <td>021000</td>\n",
       "      <td>1</td>\n",
       "      <td>FISCHER LN</td>\n",
       "      <td>4463</td>\n",
       "      <td>4401</td>\n",
       "      <td>36758</td>\n",
       "      <td>36758</td>\n",
       "      <td>36758</td>\n",
       "      <td></td>\n",
       "      <td>4401</td>\n",
       "      <td></td>\n",
       "      <td>4463</td>\n",
       "      <td>O</td>\n",
       "    </tr>\n",
       "    <tr>\n",
       "      <th>7170</th>\n",
       "      <td>01</td>\n",
       "      <td>001</td>\n",
       "      <td>021000</td>\n",
       "      <td>1</td>\n",
       "      <td>FISCHER LN</td>\n",
       "      <td>4499</td>\n",
       "      <td>4467</td>\n",
       "      <td>36758</td>\n",
       "      <td>36758</td>\n",
       "      <td>36758</td>\n",
       "      <td></td>\n",
       "      <td>4467</td>\n",
       "      <td></td>\n",
       "      <td>4499</td>\n",
       "      <td>O</td>\n",
       "    </tr>\n",
       "    <tr>\n",
       "      <th>7171</th>\n",
       "      <td>01</td>\n",
       "      <td>001</td>\n",
       "      <td>021000</td>\n",
       "      <td>1</td>\n",
       "      <td>KENT LN</td>\n",
       "      <td>4099</td>\n",
       "      <td>4001</td>\n",
       "      <td>36758</td>\n",
       "      <td>36758</td>\n",
       "      <td>36758</td>\n",
       "      <td></td>\n",
       "      <td>4001</td>\n",
       "      <td></td>\n",
       "      <td>4099</td>\n",
       "      <td>O</td>\n",
       "    </tr>\n",
       "    <tr>\n",
       "      <th>7172</th>\n",
       "      <td>01</td>\n",
       "      <td>001</td>\n",
       "      <td>021000</td>\n",
       "      <td>1</td>\n",
       "      <td>MARVIN CT</td>\n",
       "      <td>4401</td>\n",
       "      <td>4499</td>\n",
       "      <td>36758</td>\n",
       "      <td>36758</td>\n",
       "      <td>36758</td>\n",
       "      <td></td>\n",
       "      <td>4401</td>\n",
       "      <td></td>\n",
       "      <td>4499</td>\n",
       "      <td>O</td>\n",
       "    </tr>\n",
       "    <tr>\n",
       "      <th>7173</th>\n",
       "      <td>01</td>\n",
       "      <td>001</td>\n",
       "      <td>021000</td>\n",
       "      <td>1</td>\n",
       "      <td>VERNON SHEPPARD RD</td>\n",
       "      <td>1601</td>\n",
       "      <td>1699</td>\n",
       "      <td>36758</td>\n",
       "      <td>36758</td>\n",
       "      <td>36758</td>\n",
       "      <td></td>\n",
       "      <td>1601</td>\n",
       "      <td></td>\n",
       "      <td>1699</td>\n",
       "      <td>O</td>\n",
       "    </tr>\n",
       "  </tbody>\n",
       "</table>\n",
       "</div>"
      ],
      "text/plain": [
       "     STATEFP COUNTYFP TRACTCE BLKGRPCE       ZEST_FULLNAME FROMHN  TOHN  \\\n",
       "7169      01      001  021000        1          FISCHER LN   4463  4401   \n",
       "7170      01      001  021000        1          FISCHER LN   4499  4467   \n",
       "7171      01      001  021000        1             KENT LN   4099  4001   \n",
       "7172      01      001  021000        1           MARVIN CT   4401  4499   \n",
       "7173      01      001  021000        1  VERNON SHEPPARD RD   1601  1699   \n",
       "\n",
       "     ZEST_ZIP ZCTA5CE ZCTA5CE10 FROMHN_LEFT  FROMHN_RIGHT TOHN_LEFT  \\\n",
       "7169    36758   36758     36758                      4401             \n",
       "7170    36758   36758     36758                      4467             \n",
       "7171    36758   36758     36758                      4001             \n",
       "7172    36758   36758     36758                      4401             \n",
       "7173    36758   36758     36758                      1601             \n",
       "\n",
       "      TOHN_RIGHT PARITY  \n",
       "7169        4463      O  \n",
       "7170        4499      O  \n",
       "7171        4099      O  \n",
       "7172        4499      O  \n",
       "7173        1699      O  "
      ]
     },
     "execution_count": 9,
     "metadata": {},
     "output_type": "execute_result"
    }
   ],
   "source": [
    "output.tail()"
   ]
  },
  {
   "cell_type": "code",
   "execution_count": null,
   "metadata": {},
   "outputs": [],
   "source": []
  }
 ],
 "metadata": {
  "kernelspec": {
   "display_name": "zrp_v033",
   "language": "python",
   "name": "zrp_v033"
  },
  "language_info": {
   "codemirror_mode": {
    "name": "ipython",
    "version": 3
   },
   "file_extension": ".py",
   "mimetype": "text/x-python",
   "name": "python",
   "nbconvert_exporter": "python",
   "pygments_lexer": "ipython3",
   "version": "3.7.7"
  },
  "widgets": {
   "application/vnd.jupyter.widget-state+json": {
    "state": {},
    "version_major": 2,
    "version_minor": 0
   }
  }
 },
 "nbformat": 4,
 "nbformat_minor": 4
}
