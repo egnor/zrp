{
 "cells": [
  {
   "cell_type": "markdown",
   "metadata": {},
   "source": [
    "# How to Generate Race & Ethnicity Predictions using ZRP\n",
    "## Geographic Identifier Level\n",
    "The purpose of this notebook is to illustrate how to use ZRP submodules to generates race & ethnicity predictions. It is recommended to use `ZRP_Predict` to generate predictions, for the best coverage. There are three geographic identifier (GEOID) specific predict methods.  \n",
    "- `ZRP_Predict_BlockGroup()`\n",
    "- `ZRP_Predict_CensusTract()`\n",
    "- `ZRP_Predict_BlockGroup()`\n",
    "\n",
    "In this example we will illustrate how to generate predictions using `ZRP_Predict_BlockGroup`"
   ]
  },
  {
   "cell_type": "code",
   "execution_count": 1,
   "metadata": {},
   "outputs": [],
   "source": [
    "%load_ext autoreload\n",
    "%autoreload 2\n",
    "%config Completer.use_jedi=False"
   ]
  },
  {
   "cell_type": "code",
   "execution_count": 2,
   "metadata": {},
   "outputs": [],
   "source": [
    "from os.path import join, expanduser, dirname\n",
    "import pandas as pd\n",
    "import sys\n",
    "import os\n",
    "import re\n",
    "import warnings"
   ]
  },
  {
   "cell_type": "code",
   "execution_count": 3,
   "metadata": {},
   "outputs": [],
   "source": [
    "warnings.filterwarnings(action='once')\n",
    "home = expanduser('~')\n",
    "\n",
    "src_path = '{}/zrp'.format(home)\n",
    "sys.path.append(src_path)"
   ]
  },
  {
   "cell_type": "code",
   "execution_count": 4,
   "metadata": {},
   "outputs": [],
   "source": [
    "from zrp.modeling.predict import ZRP_Predict_BlockGroup\n",
    "from zrp.prepare.prepare import ZRP_Prepare\n",
    "from zrp.prepare.utils import load_file, load_json"
   ]
  },
  {
   "cell_type": "markdown",
   "metadata": {},
   "source": [
    "## Load sample data for prediction\n",
    "Load processed list of New Jersey Mayors downloaded from https://www.nj.gov/dca/home/2022mayors.csv "
   ]
  },
  {
   "cell_type": "code",
   "execution_count": 5,
   "metadata": {},
   "outputs": [
    {
     "data": {
      "text/plain": [
       "(462, 9)"
      ]
     },
     "execution_count": 5,
     "metadata": {},
     "output_type": "execute_result"
    }
   ],
   "source": [
    "nj_mayors = load_file(\"../2022-nj-mayors-sample.csv\")\n",
    "nj_mayors.shape"
   ]
  },
  {
   "cell_type": "code",
   "execution_count": 6,
   "metadata": {},
   "outputs": [
    {
     "data": {
      "text/html": [
       "<div>\n",
       "<style scoped>\n",
       "    .dataframe tbody tr th:only-of-type {\n",
       "        vertical-align: middle;\n",
       "    }\n",
       "\n",
       "    .dataframe tbody tr th {\n",
       "        vertical-align: top;\n",
       "    }\n",
       "\n",
       "    .dataframe thead th {\n",
       "        text-align: right;\n",
       "    }\n",
       "</style>\n",
       "<table border=\"1\" class=\"dataframe\">\n",
       "  <thead>\n",
       "    <tr style=\"text-align: right;\">\n",
       "      <th></th>\n",
       "      <th>first_name</th>\n",
       "      <th>middle_name</th>\n",
       "      <th>last_name</th>\n",
       "      <th>house_number</th>\n",
       "      <th>street_address</th>\n",
       "      <th>city</th>\n",
       "      <th>state</th>\n",
       "      <th>zip_code</th>\n",
       "      <th>ZEST_KEY</th>\n",
       "    </tr>\n",
       "  </thead>\n",
       "  <tbody>\n",
       "    <tr>\n",
       "      <th>0</th>\n",
       "      <td>Gabe</td>\n",
       "      <td>NaN</td>\n",
       "      <td>Plumer</td>\n",
       "      <td>782</td>\n",
       "      <td>Frenchtown Road</td>\n",
       "      <td>Milford</td>\n",
       "      <td>NJ</td>\n",
       "      <td>08848</td>\n",
       "      <td>2</td>\n",
       "    </tr>\n",
       "    <tr>\n",
       "      <th>1</th>\n",
       "      <td>Ari</td>\n",
       "      <td>NaN</td>\n",
       "      <td>Bernstein</td>\n",
       "      <td>500</td>\n",
       "      <td>West Crescent Avenue</td>\n",
       "      <td>Allendale</td>\n",
       "      <td>NJ</td>\n",
       "      <td>07401</td>\n",
       "      <td>4</td>\n",
       "    </tr>\n",
       "    <tr>\n",
       "      <th>2</th>\n",
       "      <td>David</td>\n",
       "      <td>J.</td>\n",
       "      <td>Mclaughlin</td>\n",
       "      <td>125</td>\n",
       "      <td>Corlies Avenue</td>\n",
       "      <td>Allenhurst</td>\n",
       "      <td>NJ</td>\n",
       "      <td>07711-1049</td>\n",
       "      <td>5</td>\n",
       "    </tr>\n",
       "    <tr>\n",
       "      <th>3</th>\n",
       "      <td>Thomas</td>\n",
       "      <td>C.</td>\n",
       "      <td>Fritts</td>\n",
       "      <td>8</td>\n",
       "      <td>North Main Street</td>\n",
       "      <td>Allentown</td>\n",
       "      <td>NJ</td>\n",
       "      <td>08501-1607</td>\n",
       "      <td>6</td>\n",
       "    </tr>\n",
       "    <tr>\n",
       "      <th>4</th>\n",
       "      <td>P.</td>\n",
       "      <td>NaN</td>\n",
       "      <td>McCkelvey</td>\n",
       "      <td>49</td>\n",
       "      <td>South Greenwich Street</td>\n",
       "      <td>Alloway</td>\n",
       "      <td>NJ</td>\n",
       "      <td>08001-0425</td>\n",
       "      <td>7</td>\n",
       "    </tr>\n",
       "    <tr>\n",
       "      <th>...</th>\n",
       "      <td>...</td>\n",
       "      <td>...</td>\n",
       "      <td>...</td>\n",
       "      <td>...</td>\n",
       "      <td>...</td>\n",
       "      <td>...</td>\n",
       "      <td>...</td>\n",
       "      <td>...</td>\n",
       "      <td>...</td>\n",
       "    </tr>\n",
       "    <tr>\n",
       "      <th>457</th>\n",
       "      <td>William</td>\n",
       "      <td>NaN</td>\n",
       "      <td>Degroff</td>\n",
       "      <td>3943</td>\n",
       "      <td>Route</td>\n",
       "      <td>Chatsworth</td>\n",
       "      <td>NJ</td>\n",
       "      <td>08019</td>\n",
       "      <td>558</td>\n",
       "    </tr>\n",
       "    <tr>\n",
       "      <th>458</th>\n",
       "      <td>Joseph</td>\n",
       "      <td>NaN</td>\n",
       "      <td>Chukwueke</td>\n",
       "      <td>200</td>\n",
       "      <td>Cooper Avenue</td>\n",
       "      <td>Woodlynne</td>\n",
       "      <td>NJ</td>\n",
       "      <td>08107-2108</td>\n",
       "      <td>559</td>\n",
       "    </tr>\n",
       "    <tr>\n",
       "      <th>459</th>\n",
       "      <td>Paul</td>\n",
       "      <td>NaN</td>\n",
       "      <td>Sarlo</td>\n",
       "      <td>85</td>\n",
       "      <td>Humboldt Street</td>\n",
       "      <td>Wood-Ridge</td>\n",
       "      <td>NJ</td>\n",
       "      <td>07075-2344</td>\n",
       "      <td>560</td>\n",
       "    </tr>\n",
       "    <tr>\n",
       "      <th>460</th>\n",
       "      <td>Craig</td>\n",
       "      <td>NaN</td>\n",
       "      <td>Frederick</td>\n",
       "      <td>120</td>\n",
       "      <td>Village Green Drive</td>\n",
       "      <td>Woolwich Township</td>\n",
       "      <td>NJ</td>\n",
       "      <td>08085-3180</td>\n",
       "      <td>562</td>\n",
       "    </tr>\n",
       "    <tr>\n",
       "      <th>461</th>\n",
       "      <td>Donald</td>\n",
       "      <td>NaN</td>\n",
       "      <td>Cottrell</td>\n",
       "      <td>21</td>\n",
       "      <td>Saylors Pond Road</td>\n",
       "      <td>Wrightstown</td>\n",
       "      <td>NJ</td>\n",
       "      <td>08562</td>\n",
       "      <td>563</td>\n",
       "    </tr>\n",
       "  </tbody>\n",
       "</table>\n",
       "<p>462 rows × 9 columns</p>\n",
       "</div>"
      ],
      "text/plain": [
       "    first_name middle_name   last_name house_number           street_address  \\\n",
       "0         Gabe         NaN      Plumer          782          Frenchtown Road   \n",
       "1          Ari         NaN   Bernstein          500     West Crescent Avenue   \n",
       "2        David          J.  Mclaughlin          125           Corlies Avenue   \n",
       "3       Thomas          C.      Fritts            8        North Main Street   \n",
       "4           P.         NaN   McCkelvey           49   South Greenwich Street   \n",
       "..         ...         ...         ...          ...                      ...   \n",
       "457    William         NaN     Degroff         3943                   Route    \n",
       "458     Joseph         NaN   Chukwueke          200            Cooper Avenue   \n",
       "459       Paul         NaN       Sarlo           85          Humboldt Street   \n",
       "460      Craig         NaN   Frederick          120      Village Green Drive   \n",
       "461     Donald         NaN    Cottrell           21        Saylors Pond Road   \n",
       "\n",
       "                  city state    zip_code ZEST_KEY  \n",
       "0              Milford    NJ       08848        2  \n",
       "1            Allendale    NJ       07401        4  \n",
       "2           Allenhurst    NJ  07711-1049        5  \n",
       "3            Allentown    NJ  08501-1607        6  \n",
       "4              Alloway    NJ  08001-0425        7  \n",
       "..                 ...   ...         ...      ...  \n",
       "457         Chatsworth    NJ       08019      558  \n",
       "458          Woodlynne    NJ  08107-2108      559  \n",
       "459         Wood-Ridge    NJ  07075-2344      560  \n",
       "460  Woolwich Township    NJ  08085-3180      562  \n",
       "461        Wrightstown    NJ       08562      563  \n",
       "\n",
       "[462 rows x 9 columns]"
      ]
     },
     "execution_count": 6,
     "metadata": {},
     "output_type": "execute_result"
    }
   ],
   "source": [
    "nj_mayors"
   ]
  },
  {
   "cell_type": "markdown",
   "metadata": {},
   "source": [
    "#### ZRP Prepare  \n",
    "Predictions can only be generated from prepared data that is processed, Census GEOIDs (ie census tract), and has American Community Survey mapped to each unique record. To prepare the data we will use ZRP_Prepare"
   ]
  },
  {
   "cell_type": "code",
   "execution_count": 7,
   "metadata": {},
   "outputs": [
    {
     "name": "stderr",
     "output_type": "stream",
     "text": [
      "  0%|          | 0/1 [00:00<?, ?it/s]\n",
      "  0%|          | 0/462 [00:00<?, ?it/s]\u001b[A[Parallel(n_jobs=-1)]: Using backend ThreadingBackend with 15 concurrent workers.\n",
      "[Parallel(n_jobs=-1)]: Done  20 tasks      | elapsed:    0.0s\n",
      "[Parallel(n_jobs=-1)]: Done 170 tasks      | elapsed:    0.0s\n",
      "[Parallel(n_jobs=-1)]: Done 420 tasks      | elapsed:    0.0s\n",
      "100%|██████████| 462/462 [00:00<00:00, 15478.00it/s]"
     ]
    },
    {
     "name": "stdout",
     "output_type": "stream",
     "text": [
      "Data is loaded\n",
      "   [Start] Validating input data\n",
      "     Number of observations: 462\n",
      "     Is key unique: True\n",
      "       (Warning!!) middle_name is 68.3982683982684% missing\n",
      "Directory already exists\n",
      "   [Completed] Validating input data\n",
      "\n",
      "   Formatting P1\n",
      "   Formatting P2\n",
      "   reduce whitespace\n",
      "\n",
      "[Start] Preparing geo data\n",
      "\n",
      "  The following states are included in the data: ['NJ']\n",
      "   ... on state: NJ\n",
      "\n",
      "   Data is loaded\n",
      "   [Start] Processing geo data\n",
      "      ...address cleaning\n"
     ]
    },
    {
     "name": "stderr",
     "output_type": "stream",
     "text": [
      "\n",
      "[Parallel(n_jobs=-1)]: Done 462 out of 462 | elapsed:    0.0s finished\n"
     ]
    },
    {
     "name": "stdout",
     "output_type": "stream",
     "text": [
      "      ...replicating address\n",
      "         ...Base\n",
      "         ...Number processing...\n",
      "         House number dataframe expansion is complete! (n=462)\n",
      "         ...Base\n",
      "         ...Map street suffixes...\n",
      "         ...Mapped & split by street suffixes...\n",
      "         ...Number processing...\n",
      "\n",
      "         Address dataframe expansion is complete! (n=900)\n",
      "      ...formatting\n",
      "   [Completed] Processing geo data\n",
      "   [Start] Mapping geo data\n",
      "      ...merge user input & lookup table\n",
      "      ...mapping\n"
     ]
    },
    {
     "name": "stderr",
     "output_type": "stream",
     "text": [
      "100%|██████████| 1/1 [00:05<00:00,  5.03s/it]"
     ]
    },
    {
     "name": "stdout",
     "output_type": "stream",
     "text": [
      "   [Completed] Validating input geo data\n",
      "Directory already exists\n",
      "...Output saved\n",
      "   [Completed] Mapping geo data\n",
      "\n",
      "[Completed] Preparing geo data\n",
      "\n",
      "[Start] Preparing ACS data\n",
      "   [Start] Validating ACS input data\n",
      "     Number of observations: 462\n",
      "     Is key unique: True\n",
      "       (Warning!!) middle_name is 68.3982683982684% missing\n",
      "\n",
      "   [Completed] Validating ACS input data\n",
      "\n",
      "   ...loading ACS lookup tables\n"
     ]
    },
    {
     "name": "stderr",
     "output_type": "stream",
     "text": [
      "\n"
     ]
    },
    {
     "name": "stdout",
     "output_type": "stream",
     "text": [
      "   ... combining ACS & user input data\n",
      " ...Copy dataframes\n",
      " ...Block group\n",
      " ...Census tract\n",
      " ...Zip code\n",
      " ...No match\n",
      " ...Merge\n",
      " ...Merging complete\n",
      "[Complete] Preparing ACS data\n",
      "\n",
      "CPU times: user 27.6 s, sys: 2.38 s, total: 30 s\n",
      "Wall time: 30 s\n"
     ]
    }
   ],
   "source": [
    "%%time\n",
    "zest_race_predictor = ZRP_Prepare()\n",
    "zest_race_predictor.fit(nj_mayors)\n",
    "prepared = zest_race_predictor.transform(nj_mayors)"
   ]
  },
  {
   "cell_type": "markdown",
   "metadata": {},
   "source": [
    "### Invoke the ZRP_Predict_BlockGroup on the sample data\n",
    "To generate predictions, provide the path to the preferred pipeline directory in the `__init__`. Here we provide the default local path from a git clone."
   ]
  },
  {
   "cell_type": "code",
   "execution_count": 8,
   "metadata": {},
   "outputs": [],
   "source": [
    "curpath = os.getcwd()\n",
    "pipe_path = join(curpath, \"../../zrp/modeling/models\")"
   ]
  },
  {
   "cell_type": "code",
   "execution_count": 9,
   "metadata": {},
   "outputs": [],
   "source": [
    "zrp_predict =  ZRP_Predict_BlockGroup(pipe_path)"
   ]
  },
  {
   "cell_type": "markdown",
   "metadata": {},
   "source": [
    "#### Load Feature List\n",
    "Features are subset by GEOID\n",
    "- zp: zip code\n",
    "- bg: block group\n",
    "- ct: census tract"
   ]
  },
  {
   "cell_type": "code",
   "execution_count": 10,
   "metadata": {},
   "outputs": [],
   "source": [
    "feature_list = load_json(os.path.join(curpath, \"../../zrp/modeling/feature_list_bg.json\"))"
   ]
  },
  {
   "cell_type": "markdown",
   "metadata": {},
   "source": [
    "We only need zip code related data so let's filter the prepared data"
   ]
  },
  {
   "cell_type": "code",
   "execution_count": 11,
   "metadata": {},
   "outputs": [],
   "source": [
    "block_group_only = prepared[prepared.acs_source=='BG'].filter(feature_list)"
   ]
  },
  {
   "cell_type": "markdown",
   "metadata": {},
   "source": [
    "To transform the data/generate predictions, provide the prepared data from ZRP_Prepare to the transform filtered to the `feature_list` columns"
   ]
  },
  {
   "cell_type": "code",
   "execution_count": 12,
   "metadata": {},
   "outputs": [
    {
     "name": "stderr",
     "output_type": "stream",
     "text": [
      "  0%|          | 0/1 [00:00<?, ?it/s][Parallel(n_jobs=-1)]: Using backend ThreadingBackend with 15 concurrent workers.\n",
      "100%|██████████| 1/1 [00:00<00:00, 1120.27it/s]\n",
      "[Parallel(n_jobs=-1)]: Done   1 out of   1 | elapsed:    0.0s finished\n"
     ]
    }
   ],
   "source": [
    "zrp_predict.fit()\n",
    "zrp_output = zrp_predict.transform(prepared.filter(block_group_only))\n",
    "zrp_output = zrp_output[~zrp_output.index.duplicated(keep='first')]"
   ]
  },
  {
   "cell_type": "markdown",
   "metadata": {},
   "source": [
    "#### Troubleshooting\n",
    "If you run into a <font color='red'>FileNotFoundError</font>, it is likely that an incorrect `pipe_path` was provided.\n",
    "\n",
    "The pipelines are downloaded upon installation when `python -m zrp download` is ran in the terminal. Please refer to the ReadMe if you missed this step. Otherwise, the current notebook is configured to run when the pipeline is downloaded to your local zrp folder. To check if the data is downloaded to your local git cloned zrp folder run the following command."
   ]
  },
  {
   "cell_type": "code",
   "execution_count": 13,
   "metadata": {},
   "outputs": [
    {
     "name": "stdout",
     "output_type": "stream",
     "text": [
      "/home/kam/zrp/examples/modeling/../../zrp/modeling/models/block_group/pipe.pkl\n",
      "/home/kam/zrp/examples/modeling/../../zrp/modeling/models/census_tract/pipe.pkl\n",
      "/home/kam/zrp/examples/modeling/../../zrp/modeling/models/zip_code/pipe.pkl\n"
     ]
    }
   ],
   "source": [
    "!find {pipe_path}  -print | grep -i 'pipe.pkl'"
   ]
  },
  {
   "cell_type": "markdown",
   "metadata": {},
   "source": [
    "The expected output will be similar to the following "
   ]
  },
  {
   "cell_type": "raw",
   "metadata": {},
   "source": [
    "~/zrp/examples/modeling/../../zrp/modeling/models/block_group/pipe.pkl\n",
    "~/zrp/examples/modeling/../../zrp/modeling/models/census_tract/pipe.pkl\n",
    "~/zrp/examples/modeling/../../zrp/modeling/models/zip_code/pipe.pkl"
   ]
  },
  {
   "cell_type": "markdown",
   "metadata": {},
   "source": [
    "If`!find {pipe_path}  -print | grep -i 'pipe.pkl'` returns nothing, then update your `pipe_path` to point to your virtual (conda) environment. An example is included below, where the virtal environment is named \"zrp_v0.3.3\":\n",
    "- `pipe_path = os.path.join(home, \".conda/envs/zrp_v0.3.3/lib/python3.7/site-packages/zrp/modeling/models\")`\n"
   ]
  },
  {
   "cell_type": "markdown",
   "metadata": {},
   "source": [
    "### Inspect the output\n",
    "- Preview the data\n",
    "    - only one source column is expected in the output, since these predictions are GEOID specific\n",
    "- View what artifacts are saved"
   ]
  },
  {
   "cell_type": "code",
   "execution_count": 14,
   "metadata": {},
   "outputs": [
    {
     "data": {
      "text/html": [
       "<div>\n",
       "<style scoped>\n",
       "    .dataframe tbody tr th:only-of-type {\n",
       "        vertical-align: middle;\n",
       "    }\n",
       "\n",
       "    .dataframe tbody tr th {\n",
       "        vertical-align: top;\n",
       "    }\n",
       "\n",
       "    .dataframe thead th {\n",
       "        text-align: right;\n",
       "    }\n",
       "</style>\n",
       "<table border=\"1\" class=\"dataframe\">\n",
       "  <thead>\n",
       "    <tr style=\"text-align: right;\">\n",
       "      <th></th>\n",
       "      <th>AAPI</th>\n",
       "      <th>AIAN</th>\n",
       "      <th>BLACK</th>\n",
       "      <th>HISPANIC</th>\n",
       "      <th>WHITE</th>\n",
       "      <th>race_proxy</th>\n",
       "      <th>source_zrp_block_group</th>\n",
       "    </tr>\n",
       "    <tr>\n",
       "      <th>ZEST_KEY</th>\n",
       "      <th></th>\n",
       "      <th></th>\n",
       "      <th></th>\n",
       "      <th></th>\n",
       "      <th></th>\n",
       "      <th></th>\n",
       "      <th></th>\n",
       "    </tr>\n",
       "  </thead>\n",
       "  <tbody>\n",
       "    <tr>\n",
       "      <th>10</th>\n",
       "      <td>0.007710</td>\n",
       "      <td>0.011133</td>\n",
       "      <td>0.019986</td>\n",
       "      <td>0.014749</td>\n",
       "      <td>0.946421</td>\n",
       "      <td>WHITE</td>\n",
       "      <td>1</td>\n",
       "    </tr>\n",
       "    <tr>\n",
       "      <th>100</th>\n",
       "      <td>0.010805</td>\n",
       "      <td>0.024995</td>\n",
       "      <td>0.047780</td>\n",
       "      <td>0.022430</td>\n",
       "      <td>0.893989</td>\n",
       "      <td>WHITE</td>\n",
       "      <td>1</td>\n",
       "    </tr>\n",
       "    <tr>\n",
       "      <th>102</th>\n",
       "      <td>0.000132</td>\n",
       "      <td>0.000109</td>\n",
       "      <td>0.000454</td>\n",
       "      <td>0.000486</td>\n",
       "      <td>0.998819</td>\n",
       "      <td>WHITE</td>\n",
       "      <td>1</td>\n",
       "    </tr>\n",
       "    <tr>\n",
       "      <th>103</th>\n",
       "      <td>0.078547</td>\n",
       "      <td>0.000614</td>\n",
       "      <td>0.001572</td>\n",
       "      <td>0.033324</td>\n",
       "      <td>0.885943</td>\n",
       "      <td>WHITE</td>\n",
       "      <td>1</td>\n",
       "    </tr>\n",
       "    <tr>\n",
       "      <th>104</th>\n",
       "      <td>0.001839</td>\n",
       "      <td>0.000730</td>\n",
       "      <td>0.008079</td>\n",
       "      <td>0.044049</td>\n",
       "      <td>0.945302</td>\n",
       "      <td>WHITE</td>\n",
       "      <td>1</td>\n",
       "    </tr>\n",
       "    <tr>\n",
       "      <th>...</th>\n",
       "      <td>...</td>\n",
       "      <td>...</td>\n",
       "      <td>...</td>\n",
       "      <td>...</td>\n",
       "      <td>...</td>\n",
       "      <td>...</td>\n",
       "      <td>...</td>\n",
       "    </tr>\n",
       "    <tr>\n",
       "      <th>93</th>\n",
       "      <td>0.038076</td>\n",
       "      <td>0.002857</td>\n",
       "      <td>0.031983</td>\n",
       "      <td>0.087664</td>\n",
       "      <td>0.839420</td>\n",
       "      <td>WHITE</td>\n",
       "      <td>1</td>\n",
       "    </tr>\n",
       "    <tr>\n",
       "      <th>94</th>\n",
       "      <td>0.022781</td>\n",
       "      <td>0.009774</td>\n",
       "      <td>0.002786</td>\n",
       "      <td>0.019116</td>\n",
       "      <td>0.945542</td>\n",
       "      <td>WHITE</td>\n",
       "      <td>1</td>\n",
       "    </tr>\n",
       "    <tr>\n",
       "      <th>95</th>\n",
       "      <td>0.033175</td>\n",
       "      <td>0.021278</td>\n",
       "      <td>0.078732</td>\n",
       "      <td>0.085143</td>\n",
       "      <td>0.781673</td>\n",
       "      <td>WHITE</td>\n",
       "      <td>1</td>\n",
       "    </tr>\n",
       "    <tr>\n",
       "      <th>96</th>\n",
       "      <td>0.000679</td>\n",
       "      <td>0.000458</td>\n",
       "      <td>0.042498</td>\n",
       "      <td>0.003170</td>\n",
       "      <td>0.953195</td>\n",
       "      <td>WHITE</td>\n",
       "      <td>1</td>\n",
       "    </tr>\n",
       "    <tr>\n",
       "      <th>97</th>\n",
       "      <td>0.004629</td>\n",
       "      <td>0.000309</td>\n",
       "      <td>0.071412</td>\n",
       "      <td>0.096353</td>\n",
       "      <td>0.827297</td>\n",
       "      <td>WHITE</td>\n",
       "      <td>1</td>\n",
       "    </tr>\n",
       "  </tbody>\n",
       "</table>\n",
       "<p>462 rows × 7 columns</p>\n",
       "</div>"
      ],
      "text/plain": [
       "              AAPI      AIAN     BLACK  HISPANIC     WHITE race_proxy  \\\n",
       "ZEST_KEY                                                                \n",
       "10        0.007710  0.011133  0.019986  0.014749  0.946421      WHITE   \n",
       "100       0.010805  0.024995  0.047780  0.022430  0.893989      WHITE   \n",
       "102       0.000132  0.000109  0.000454  0.000486  0.998819      WHITE   \n",
       "103       0.078547  0.000614  0.001572  0.033324  0.885943      WHITE   \n",
       "104       0.001839  0.000730  0.008079  0.044049  0.945302      WHITE   \n",
       "...            ...       ...       ...       ...       ...        ...   \n",
       "93        0.038076  0.002857  0.031983  0.087664  0.839420      WHITE   \n",
       "94        0.022781  0.009774  0.002786  0.019116  0.945542      WHITE   \n",
       "95        0.033175  0.021278  0.078732  0.085143  0.781673      WHITE   \n",
       "96        0.000679  0.000458  0.042498  0.003170  0.953195      WHITE   \n",
       "97        0.004629  0.000309  0.071412  0.096353  0.827297      WHITE   \n",
       "\n",
       "          source_zrp_block_group  \n",
       "ZEST_KEY                          \n",
       "10                             1  \n",
       "100                            1  \n",
       "102                            1  \n",
       "103                            1  \n",
       "104                            1  \n",
       "...                          ...  \n",
       "93                             1  \n",
       "94                             1  \n",
       "95                             1  \n",
       "96                             1  \n",
       "97                             1  \n",
       "\n",
       "[462 rows x 7 columns]"
      ]
     },
     "execution_count": 14,
     "metadata": {},
     "output_type": "execute_result"
    }
   ],
   "source": [
    "zrp_output"
   ]
  },
  {
   "cell_type": "markdown",
   "metadata": {},
   "source": [
    "### Check Coverage\n",
    "A quick glance at the `ZRP_Predict_BlockGroup`  output we can see all records with a proper zip code that maps to American Community Survey data have a proxy"
   ]
  },
  {
   "cell_type": "code",
   "execution_count": 15,
   "metadata": {},
   "outputs": [
    {
     "data": {
      "text/plain": [
       "AAPI          0.0\n",
       "AIAN          0.0\n",
       "BLACK         0.0\n",
       "HISPANIC      0.0\n",
       "WHITE         0.0\n",
       "race_proxy    0.0\n",
       "dtype: float64"
      ]
     },
     "execution_count": 15,
     "metadata": {},
     "output_type": "execute_result"
    }
   ],
   "source": [
    "zrp_output.filter(regex='[A-Z]|race').isna().mean()"
   ]
  },
  {
   "cell_type": "markdown",
   "metadata": {},
   "source": [
    "Checking the distribution of predicted race & ethnicity "
   ]
  },
  {
   "cell_type": "code",
   "execution_count": 16,
   "metadata": {},
   "outputs": [
    {
     "data": {
      "text/plain": [
       "WHITE       0.857143\n",
       "BLACK       0.077922\n",
       "HISPANIC    0.032468\n",
       "AAPI        0.032468\n",
       "Name: race_proxy, dtype: float64"
      ]
     },
     "execution_count": 16,
     "metadata": {},
     "output_type": "execute_result"
    }
   ],
   "source": [
    "zrp_output.race_proxy.value_counts(normalize=True, dropna=False)"
   ]
  },
  {
   "cell_type": "code",
   "execution_count": 17,
   "metadata": {},
   "outputs": [
    {
     "data": {
      "text/plain": [
       "(462, 7)"
      ]
     },
     "execution_count": 17,
     "metadata": {},
     "output_type": "execute_result"
    }
   ],
   "source": [
    "zrp_output.shape"
   ]
  },
  {
   "cell_type": "markdown",
   "metadata": {},
   "source": [
    "Please refer to the source columns to determine which geographic identifier or method was used to generate the proxy "
   ]
  },
  {
   "cell_type": "markdown",
   "metadata": {},
   "source": [
    "`ZRP_Predict_BlockGroup` automatically saves the proxies to `proxy_output.feather`"
   ]
  },
  {
   "cell_type": "code",
   "execution_count": null,
   "metadata": {},
   "outputs": [],
   "source": []
  }
 ],
 "metadata": {
  "kernelspec": {
   "display_name": "ZRP v0.3.3",
   "language": "python",
   "name": "zrp_v0.3.3"
  },
  "language_info": {
   "codemirror_mode": {
    "name": "ipython",
    "version": 3
   },
   "file_extension": ".py",
   "mimetype": "text/x-python",
   "name": "python",
   "nbconvert_exporter": "python",
   "pygments_lexer": "ipython3",
   "version": "3.7.7"
  },
  "widgets": {
   "application/vnd.jupyter.widget-state+json": {
    "state": {},
    "version_major": 2,
    "version_minor": 0
   }
  }
 },
 "nbformat": 4,
 "nbformat_minor": 4
}
