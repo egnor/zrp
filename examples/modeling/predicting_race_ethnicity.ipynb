{
 "cells": [
  {
   "cell_type": "markdown",
   "metadata": {},
   "source": [
    "# How to Generate Race & Ethnicity Predictions using ZRP\n",
    "The purpose of this notebook is to illustrate how to use ZRP_Predict, a module that generates race & ethnicity predictions"
   ]
  },
  {
   "cell_type": "code",
   "execution_count": 1,
   "metadata": {},
   "outputs": [],
   "source": [
    "%load_ext autoreload\n",
    "%autoreload 2\n",
    "%config Completer.use_jedi=False"
   ]
  },
  {
   "cell_type": "code",
   "execution_count": 2,
   "metadata": {},
   "outputs": [],
   "source": [
    "from os.path import join, expanduser, dirname\n",
    "import pandas as pd\n",
    "import sys\n",
    "import os\n",
    "import re\n",
    "import warnings"
   ]
  },
  {
   "cell_type": "code",
   "execution_count": 3,
   "metadata": {},
   "outputs": [],
   "source": [
    "warnings.filterwarnings(action='ignore')\n",
    "home = expanduser('~')\n",
    "\n",
    "src_path = '{}/zrp'.format(home)\n",
    "sys.path.append(src_path)"
   ]
  },
  {
   "cell_type": "code",
   "execution_count": 4,
   "metadata": {},
   "outputs": [
    {
     "name": "stderr",
     "output_type": "stream",
     "text": [
      "/home/kam/.conda/envs/zrp_q1_22/lib/python3.7/importlib/_bootstrap.py:219: RuntimeWarning: numpy.ufunc size changed, may indicate binary incompatibility. Expected 192 from C header, got 216 from PyObject\n",
      "  return f(*args, **kwds)\n"
     ]
    }
   ],
   "source": [
    "from zrp.modeling.predict import ZRP_Predict\n",
    "from zrp.prepare.prepare import ZRP_Prepare\n",
    "from zrp.prepare.utils import load_file"
   ]
  },
  {
   "cell_type": "markdown",
   "metadata": {},
   "source": [
    "## Load sample data for prediction\n",
    "Load processed list of New Jersey Mayors downloaded from https://www.nj.gov/dca/home/2022mayors.csv "
   ]
  },
  {
   "cell_type": "code",
   "execution_count": 5,
   "metadata": {},
   "outputs": [
    {
     "data": {
      "text/plain": [
       "(462, 9)"
      ]
     },
     "execution_count": 5,
     "metadata": {},
     "output_type": "execute_result"
    }
   ],
   "source": [
    "nj_mayors = load_file(\"../2022-nj-mayors-sample.csv\")\n",
    "nj_mayors.shape"
   ]
  },
  {
   "cell_type": "code",
   "execution_count": 6,
   "metadata": {},
   "outputs": [
    {
     "data": {
      "text/html": [
       "<div>\n",
       "<style scoped>\n",
       "    .dataframe tbody tr th:only-of-type {\n",
       "        vertical-align: middle;\n",
       "    }\n",
       "\n",
       "    .dataframe tbody tr th {\n",
       "        vertical-align: top;\n",
       "    }\n",
       "\n",
       "    .dataframe thead th {\n",
       "        text-align: right;\n",
       "    }\n",
       "</style>\n",
       "<table border=\"1\" class=\"dataframe\">\n",
       "  <thead>\n",
       "    <tr style=\"text-align: right;\">\n",
       "      <th></th>\n",
       "      <th>first_name</th>\n",
       "      <th>middle_name</th>\n",
       "      <th>last_name</th>\n",
       "      <th>house_number</th>\n",
       "      <th>street_address</th>\n",
       "      <th>city</th>\n",
       "      <th>state</th>\n",
       "      <th>zip_code</th>\n",
       "      <th>ZEST_KEY</th>\n",
       "    </tr>\n",
       "  </thead>\n",
       "  <tbody>\n",
       "    <tr>\n",
       "      <th>0</th>\n",
       "      <td>Gabe</td>\n",
       "      <td>NaN</td>\n",
       "      <td>Plumer</td>\n",
       "      <td>782</td>\n",
       "      <td>Frenchtown Road</td>\n",
       "      <td>Milford</td>\n",
       "      <td>NJ</td>\n",
       "      <td>08848</td>\n",
       "      <td>2</td>\n",
       "    </tr>\n",
       "    <tr>\n",
       "      <th>1</th>\n",
       "      <td>Ari</td>\n",
       "      <td>NaN</td>\n",
       "      <td>Bernstein</td>\n",
       "      <td>500</td>\n",
       "      <td>West Crescent Avenue</td>\n",
       "      <td>Allendale</td>\n",
       "      <td>NJ</td>\n",
       "      <td>07401</td>\n",
       "      <td>4</td>\n",
       "    </tr>\n",
       "    <tr>\n",
       "      <th>2</th>\n",
       "      <td>David</td>\n",
       "      <td>J.</td>\n",
       "      <td>Mclaughlin</td>\n",
       "      <td>125</td>\n",
       "      <td>Corlies Avenue</td>\n",
       "      <td>Allenhurst</td>\n",
       "      <td>NJ</td>\n",
       "      <td>07711-1049</td>\n",
       "      <td>5</td>\n",
       "    </tr>\n",
       "    <tr>\n",
       "      <th>3</th>\n",
       "      <td>Thomas</td>\n",
       "      <td>C.</td>\n",
       "      <td>Fritts</td>\n",
       "      <td>8</td>\n",
       "      <td>North Main Street</td>\n",
       "      <td>Allentown</td>\n",
       "      <td>NJ</td>\n",
       "      <td>08501-1607</td>\n",
       "      <td>6</td>\n",
       "    </tr>\n",
       "    <tr>\n",
       "      <th>4</th>\n",
       "      <td>P.</td>\n",
       "      <td>NaN</td>\n",
       "      <td>McCkelvey</td>\n",
       "      <td>49</td>\n",
       "      <td>South Greenwich Street</td>\n",
       "      <td>Alloway</td>\n",
       "      <td>NJ</td>\n",
       "      <td>08001-0425</td>\n",
       "      <td>7</td>\n",
       "    </tr>\n",
       "    <tr>\n",
       "      <th>...</th>\n",
       "      <td>...</td>\n",
       "      <td>...</td>\n",
       "      <td>...</td>\n",
       "      <td>...</td>\n",
       "      <td>...</td>\n",
       "      <td>...</td>\n",
       "      <td>...</td>\n",
       "      <td>...</td>\n",
       "      <td>...</td>\n",
       "    </tr>\n",
       "    <tr>\n",
       "      <th>457</th>\n",
       "      <td>William</td>\n",
       "      <td>NaN</td>\n",
       "      <td>Degroff</td>\n",
       "      <td>3943</td>\n",
       "      <td>Route</td>\n",
       "      <td>Chatsworth</td>\n",
       "      <td>NJ</td>\n",
       "      <td>08019</td>\n",
       "      <td>558</td>\n",
       "    </tr>\n",
       "    <tr>\n",
       "      <th>458</th>\n",
       "      <td>Joseph</td>\n",
       "      <td>NaN</td>\n",
       "      <td>Chukwueke</td>\n",
       "      <td>200</td>\n",
       "      <td>Cooper Avenue</td>\n",
       "      <td>Woodlynne</td>\n",
       "      <td>NJ</td>\n",
       "      <td>08107-2108</td>\n",
       "      <td>559</td>\n",
       "    </tr>\n",
       "    <tr>\n",
       "      <th>459</th>\n",
       "      <td>Paul</td>\n",
       "      <td>NaN</td>\n",
       "      <td>Sarlo</td>\n",
       "      <td>85</td>\n",
       "      <td>Humboldt Street</td>\n",
       "      <td>Wood-Ridge</td>\n",
       "      <td>NJ</td>\n",
       "      <td>07075-2344</td>\n",
       "      <td>560</td>\n",
       "    </tr>\n",
       "    <tr>\n",
       "      <th>460</th>\n",
       "      <td>Craig</td>\n",
       "      <td>NaN</td>\n",
       "      <td>Frederick</td>\n",
       "      <td>120</td>\n",
       "      <td>Village Green Drive</td>\n",
       "      <td>Woolwich Township</td>\n",
       "      <td>NJ</td>\n",
       "      <td>08085-3180</td>\n",
       "      <td>562</td>\n",
       "    </tr>\n",
       "    <tr>\n",
       "      <th>461</th>\n",
       "      <td>Donald</td>\n",
       "      <td>NaN</td>\n",
       "      <td>Cottrell</td>\n",
       "      <td>21</td>\n",
       "      <td>Saylors Pond Road</td>\n",
       "      <td>Wrightstown</td>\n",
       "      <td>NJ</td>\n",
       "      <td>08562</td>\n",
       "      <td>563</td>\n",
       "    </tr>\n",
       "  </tbody>\n",
       "</table>\n",
       "<p>462 rows × 9 columns</p>\n",
       "</div>"
      ],
      "text/plain": [
       "    first_name middle_name   last_name house_number           street_address  \\\n",
       "0         Gabe         NaN      Plumer          782          Frenchtown Road   \n",
       "1          Ari         NaN   Bernstein          500     West Crescent Avenue   \n",
       "2        David          J.  Mclaughlin          125           Corlies Avenue   \n",
       "3       Thomas          C.      Fritts            8        North Main Street   \n",
       "4           P.         NaN   McCkelvey           49   South Greenwich Street   \n",
       "..         ...         ...         ...          ...                      ...   \n",
       "457    William         NaN     Degroff         3943                   Route    \n",
       "458     Joseph         NaN   Chukwueke          200            Cooper Avenue   \n",
       "459       Paul         NaN       Sarlo           85          Humboldt Street   \n",
       "460      Craig         NaN   Frederick          120      Village Green Drive   \n",
       "461     Donald         NaN    Cottrell           21        Saylors Pond Road   \n",
       "\n",
       "                  city state    zip_code ZEST_KEY  \n",
       "0              Milford    NJ       08848        2  \n",
       "1            Allendale    NJ       07401        4  \n",
       "2           Allenhurst    NJ  07711-1049        5  \n",
       "3            Allentown    NJ  08501-1607        6  \n",
       "4              Alloway    NJ  08001-0425        7  \n",
       "..                 ...   ...         ...      ...  \n",
       "457         Chatsworth    NJ       08019      558  \n",
       "458          Woodlynne    NJ  08107-2108      559  \n",
       "459         Wood-Ridge    NJ  07075-2344      560  \n",
       "460  Woolwich Township    NJ  08085-3180      562  \n",
       "461        Wrightstown    NJ       08562      563  \n",
       "\n",
       "[462 rows x 9 columns]"
      ]
     },
     "execution_count": 6,
     "metadata": {},
     "output_type": "execute_result"
    }
   ],
   "source": [
    "nj_mayors"
   ]
  },
  {
   "cell_type": "markdown",
   "metadata": {},
   "source": [
    "#### ZRP Prepare  \n",
    "Predictions can only be generated from prepared data that is processed, Census GEOIDs (ie census tract), and has American Community Survey mapped to each unique record. To prepare the data we will use ZRP_Prepare"
   ]
  },
  {
   "cell_type": "code",
   "execution_count": 7,
   "metadata": {},
   "outputs": [
    {
     "name": "stderr",
     "output_type": "stream",
     "text": [
      "  0%|          | 0/1 [00:00<?, ?it/s]\n",
      "  0%|          | 0/462 [00:00<?, ?it/s]\u001b[A[Parallel(n_jobs=49)]: Using backend ThreadingBackend with 49 concurrent workers.\n",
      "[Parallel(n_jobs=49)]: Done 102 tasks      | elapsed:    0.0s\n",
      "100%|██████████| 462/462 [00:00<00:00, 13880.96it/s]"
     ]
    },
    {
     "name": "stdout",
     "output_type": "stream",
     "text": [
      "Data is loaded\n",
      "   [Start] Validating input data\n",
      "     Number of observations: 462\n",
      "     Is key unique: True\n",
      "       (Warning!!) middle_name is 68.3982683982684% missing, this may impact the ability to return race approximations\n",
      "Directory already exists\n",
      "   [Completed] Validating input data\n",
      "\n",
      "   Formatting P1\n",
      "   Formatting P2\n",
      "   reduce whitespace\n",
      "\n",
      "[Start] Preparing geo data\n",
      "\n",
      "  The following states are included in the data: ['NJ']\n",
      "   ... on state: NJ\n",
      "\n",
      "   Data is loaded\n",
      "   [Start] Processing geo data\n",
      "      ...address cleaning\n"
     ]
    },
    {
     "name": "stderr",
     "output_type": "stream",
     "text": [
      "\n",
      "[Parallel(n_jobs=49)]: Done 352 tasks      | elapsed:    0.0s\n",
      "[Parallel(n_jobs=49)]: Done 462 out of 462 | elapsed:    0.0s finished\n"
     ]
    },
    {
     "name": "stdout",
     "output_type": "stream",
     "text": [
      "      ...replicating address\n",
      "         ...Base\n",
      "         ...Map street suffixes...\n",
      "         ...Mapped & split by street suffixes...\n",
      "         ...Number processing...\n",
      "\n",
      "         Address dataframe expansion is complete! (n=900)\n",
      "         ...Base\n",
      "         ...Number processing...\n",
      "         House number dataframe expansion is complete! (n=900)\n",
      "      ...formatting\n",
      "   [Completed] Processing geo data\n",
      "   [Start] Mapping geo data\n",
      "      ...merge user input & lookup table\n",
      "      ...mapping\n"
     ]
    },
    {
     "name": "stderr",
     "output_type": "stream",
     "text": [
      "100%|██████████| 1/1 [00:05<00:00,  5.38s/it]"
     ]
    },
    {
     "name": "stdout",
     "output_type": "stream",
     "text": [
      "   [Completed] Validating input geo data\n",
      "Directory already exists\n",
      "Output saved\n",
      "   [Completed] Mapping geo data\n",
      "\n",
      "[Completed] Preparing geo data\n",
      "\n",
      "[Start] Preparing ACS data\n",
      "   [Start] Validating ACS input data\n",
      "     Number of observations: 462\n",
      "     Is key unique: True\n",
      "       (Warning!!) middle_name is 68.3982683982684% missing, this may impact the ability to return race approximations\n"
     ]
    },
    {
     "name": "stderr",
     "output_type": "stream",
     "text": [
      "\n"
     ]
    },
    {
     "name": "stdout",
     "output_type": "stream",
     "text": [
      "\n",
      "   [Completed] Validating ACS input data\n",
      "\n",
      "   ...loading ACS lookup tables\n",
      "   ... combining ACS & user input data\n",
      " ...Copy dataframes\n",
      " ...Block group\n",
      " ...Census tract\n",
      " ...Zip code\n",
      " ...No match\n",
      " ...Merge\n",
      " ...Merging complete\n",
      "[Complete] Preparing ACS data\n",
      "\n",
      "CPU times: user 35.4 s, sys: 12 s, total: 47.5 s\n",
      "Wall time: 28 s\n"
     ]
    }
   ],
   "source": [
    "%%time\n",
    "zest_race_predictor = ZRP_Prepare()\n",
    "zest_race_predictor.fit(nj_mayors)\n",
    "prepared = zest_race_predictor.transform(nj_mayors)"
   ]
  },
  {
   "cell_type": "markdown",
   "metadata": {},
   "source": [
    "### Invoke the ZRP_Predict on the sample data\n",
    "To generate predictions, you can:\n",
    "1. Provide the path to the preferred pipeline directory in the `__init__`. \n",
    "    - Here we provide the default path"
   ]
  },
  {
   "cell_type": "code",
   "execution_count": 8,
   "metadata": {},
   "outputs": [],
   "source": [
    "curpath = os.getcwd()\n",
    "pipe_path = join(curpath, \"../../zrp/modeling/models\")"
   ]
  },
  {
   "cell_type": "code",
   "execution_count": 9,
   "metadata": {},
   "outputs": [],
   "source": [
    "zrp_predict = ZRP_Predict(pipe_path)"
   ]
  },
  {
   "cell_type": "markdown",
   "metadata": {},
   "source": [
    "To transform the data/generate predictions, provide the prepared data from ZRP_Prepare to the transform"
   ]
  },
  {
   "cell_type": "code",
   "execution_count": 10,
   "metadata": {},
   "outputs": [
    {
     "name": "stdout",
     "output_type": "stream",
     "text": [
      "   [Start] Validating pipeline input data\n",
      "     Number of observations: 1427\n",
      "     Is key unique: False\n",
      "       (Warning!!) middle_name is 67.20392431674841% missing, this may impact the ability to return race approximations\n",
      "   [Completed] Validating pipeline input data\n",
      "\n"
     ]
    },
    {
     "name": "stderr",
     "output_type": "stream",
     "text": [
      "  0%|          | 0/1 [00:00<?, ?it/s][Parallel(n_jobs=-1)]: Using backend ThreadingBackend with 4 concurrent workers.\n",
      "100%|██████████| 1/1 [00:00<00:00, 1035.63it/s]\n",
      "[Parallel(n_jobs=-1)]: Done   1 out of   1 | elapsed:    0.0s finished\n",
      "  0%|          | 0/1 [00:00<?, ?it/s][Parallel(n_jobs=-1)]: Using backend ThreadingBackend with 4 concurrent workers.\n",
      "100%|██████████| 1/1 [00:00<00:00, 993.91it/s]\n",
      "[Parallel(n_jobs=-1)]: Done   1 out of   1 | elapsed:    0.0s finished\n",
      "  0%|          | 0/1 [00:00<?, ?it/s][Parallel(n_jobs=-1)]: Using backend ThreadingBackend with 4 concurrent workers.\n",
      "100%|██████████| 1/1 [00:00<00:00, 866.23it/s]\n",
      "[Parallel(n_jobs=-1)]: Done   1 out of   1 | elapsed:    0.0s finished\n"
     ]
    },
    {
     "name": "stdout",
     "output_type": "stream",
     "text": [
      "Directory already exists\n",
      "Output saved\n"
     ]
    }
   ],
   "source": [
    "zrp_predict.fit(prepared)\n",
    "zrp_output = zrp_predict.transform(prepared)"
   ]
  },
  {
   "cell_type": "markdown",
   "metadata": {},
   "source": [
    "### Inspect the output\n",
    "- Preview the data\n",
    "- View what artifacts are saved"
   ]
  },
  {
   "cell_type": "code",
   "execution_count": 11,
   "metadata": {},
   "outputs": [
    {
     "data": {
      "text/html": [
       "<div>\n",
       "<style scoped>\n",
       "    .dataframe tbody tr th:only-of-type {\n",
       "        vertical-align: middle;\n",
       "    }\n",
       "\n",
       "    .dataframe tbody tr th {\n",
       "        vertical-align: top;\n",
       "    }\n",
       "\n",
       "    .dataframe thead th {\n",
       "        text-align: right;\n",
       "    }\n",
       "</style>\n",
       "<table border=\"1\" class=\"dataframe\">\n",
       "  <thead>\n",
       "    <tr style=\"text-align: right;\">\n",
       "      <th></th>\n",
       "      <th>AAPI</th>\n",
       "      <th>AIAN</th>\n",
       "      <th>BLACK</th>\n",
       "      <th>HISPANIC</th>\n",
       "      <th>WHITE</th>\n",
       "      <th>race_proxy</th>\n",
       "      <th>source_block_group</th>\n",
       "      <th>source_census_tract</th>\n",
       "      <th>source_zip_code</th>\n",
       "      <th>source_bisg</th>\n",
       "    </tr>\n",
       "    <tr>\n",
       "      <th>ZEST_KEY</th>\n",
       "      <th></th>\n",
       "      <th></th>\n",
       "      <th></th>\n",
       "      <th></th>\n",
       "      <th></th>\n",
       "      <th></th>\n",
       "      <th></th>\n",
       "      <th></th>\n",
       "      <th></th>\n",
       "      <th></th>\n",
       "    </tr>\n",
       "  </thead>\n",
       "  <tbody>\n",
       "    <tr>\n",
       "      <th>559</th>\n",
       "      <td>0.004409</td>\n",
       "      <td>0.001062</td>\n",
       "      <td>0.915445</td>\n",
       "      <td>0.052111</td>\n",
       "      <td>0.026974</td>\n",
       "      <td>BLACK</td>\n",
       "      <td>1.0</td>\n",
       "      <td>0.0</td>\n",
       "      <td>0.0</td>\n",
       "      <td>0.0</td>\n",
       "    </tr>\n",
       "    <tr>\n",
       "      <th>419</th>\n",
       "      <td>0.000306</td>\n",
       "      <td>0.000229</td>\n",
       "      <td>0.000952</td>\n",
       "      <td>0.001160</td>\n",
       "      <td>0.997353</td>\n",
       "      <td>WHITE</td>\n",
       "      <td>1.0</td>\n",
       "      <td>0.0</td>\n",
       "      <td>0.0</td>\n",
       "      <td>0.0</td>\n",
       "    </tr>\n",
       "    <tr>\n",
       "      <th>421</th>\n",
       "      <td>0.060321</td>\n",
       "      <td>0.011445</td>\n",
       "      <td>0.030831</td>\n",
       "      <td>0.036595</td>\n",
       "      <td>0.860807</td>\n",
       "      <td>WHITE</td>\n",
       "      <td>1.0</td>\n",
       "      <td>0.0</td>\n",
       "      <td>0.0</td>\n",
       "      <td>0.0</td>\n",
       "    </tr>\n",
       "    <tr>\n",
       "      <th>422</th>\n",
       "      <td>0.076223</td>\n",
       "      <td>0.000318</td>\n",
       "      <td>0.001026</td>\n",
       "      <td>0.019656</td>\n",
       "      <td>0.902777</td>\n",
       "      <td>WHITE</td>\n",
       "      <td>1.0</td>\n",
       "      <td>0.0</td>\n",
       "      <td>0.0</td>\n",
       "      <td>0.0</td>\n",
       "    </tr>\n",
       "    <tr>\n",
       "      <th>423</th>\n",
       "      <td>0.028568</td>\n",
       "      <td>0.012289</td>\n",
       "      <td>0.654524</td>\n",
       "      <td>0.023888</td>\n",
       "      <td>0.280731</td>\n",
       "      <td>BLACK</td>\n",
       "      <td>1.0</td>\n",
       "      <td>0.0</td>\n",
       "      <td>0.0</td>\n",
       "      <td>0.0</td>\n",
       "    </tr>\n",
       "    <tr>\n",
       "      <th>...</th>\n",
       "      <td>...</td>\n",
       "      <td>...</td>\n",
       "      <td>...</td>\n",
       "      <td>...</td>\n",
       "      <td>...</td>\n",
       "      <td>...</td>\n",
       "      <td>...</td>\n",
       "      <td>...</td>\n",
       "      <td>...</td>\n",
       "      <td>...</td>\n",
       "    </tr>\n",
       "    <tr>\n",
       "      <th>277</th>\n",
       "      <td>0.054039</td>\n",
       "      <td>0.010743</td>\n",
       "      <td>0.018480</td>\n",
       "      <td>0.030987</td>\n",
       "      <td>0.885752</td>\n",
       "      <td>WHITE</td>\n",
       "      <td>0.0</td>\n",
       "      <td>0.0</td>\n",
       "      <td>1.0</td>\n",
       "      <td>0.0</td>\n",
       "    </tr>\n",
       "    <tr>\n",
       "      <th>279</th>\n",
       "      <td>0.000806</td>\n",
       "      <td>0.001535</td>\n",
       "      <td>0.088218</td>\n",
       "      <td>0.026714</td>\n",
       "      <td>0.882727</td>\n",
       "      <td>WHITE</td>\n",
       "      <td>0.0</td>\n",
       "      <td>0.0</td>\n",
       "      <td>1.0</td>\n",
       "      <td>0.0</td>\n",
       "    </tr>\n",
       "    <tr>\n",
       "      <th>281</th>\n",
       "      <td>0.012340</td>\n",
       "      <td>0.004350</td>\n",
       "      <td>0.005831</td>\n",
       "      <td>0.029696</td>\n",
       "      <td>0.947782</td>\n",
       "      <td>WHITE</td>\n",
       "      <td>0.0</td>\n",
       "      <td>0.0</td>\n",
       "      <td>1.0</td>\n",
       "      <td>0.0</td>\n",
       "    </tr>\n",
       "    <tr>\n",
       "      <th>282</th>\n",
       "      <td>0.015886</td>\n",
       "      <td>0.005495</td>\n",
       "      <td>0.004929</td>\n",
       "      <td>0.022326</td>\n",
       "      <td>0.951364</td>\n",
       "      <td>WHITE</td>\n",
       "      <td>0.0</td>\n",
       "      <td>0.0</td>\n",
       "      <td>1.0</td>\n",
       "      <td>0.0</td>\n",
       "    </tr>\n",
       "    <tr>\n",
       "      <th>90</th>\n",
       "      <td>0.000529</td>\n",
       "      <td>0.000344</td>\n",
       "      <td>0.000952</td>\n",
       "      <td>0.015651</td>\n",
       "      <td>0.982523</td>\n",
       "      <td>WHITE</td>\n",
       "      <td>0.0</td>\n",
       "      <td>1.0</td>\n",
       "      <td>0.0</td>\n",
       "      <td>0.0</td>\n",
       "    </tr>\n",
       "  </tbody>\n",
       "</table>\n",
       "<p>462 rows × 10 columns</p>\n",
       "</div>"
      ],
      "text/plain": [
       "              AAPI      AIAN     BLACK  HISPANIC     WHITE race_proxy  \\\n",
       "ZEST_KEY                                                                \n",
       "559       0.004409  0.001062  0.915445  0.052111  0.026974      BLACK   \n",
       "419       0.000306  0.000229  0.000952  0.001160  0.997353      WHITE   \n",
       "421       0.060321  0.011445  0.030831  0.036595  0.860807      WHITE   \n",
       "422       0.076223  0.000318  0.001026  0.019656  0.902777      WHITE   \n",
       "423       0.028568  0.012289  0.654524  0.023888  0.280731      BLACK   \n",
       "...            ...       ...       ...       ...       ...        ...   \n",
       "277       0.054039  0.010743  0.018480  0.030987  0.885752      WHITE   \n",
       "279       0.000806  0.001535  0.088218  0.026714  0.882727      WHITE   \n",
       "281       0.012340  0.004350  0.005831  0.029696  0.947782      WHITE   \n",
       "282       0.015886  0.005495  0.004929  0.022326  0.951364      WHITE   \n",
       "90        0.000529  0.000344  0.000952  0.015651  0.982523      WHITE   \n",
       "\n",
       "          source_block_group  source_census_tract  source_zip_code  \\\n",
       "ZEST_KEY                                                             \n",
       "559                      1.0                  0.0              0.0   \n",
       "419                      1.0                  0.0              0.0   \n",
       "421                      1.0                  0.0              0.0   \n",
       "422                      1.0                  0.0              0.0   \n",
       "423                      1.0                  0.0              0.0   \n",
       "...                      ...                  ...              ...   \n",
       "277                      0.0                  0.0              1.0   \n",
       "279                      0.0                  0.0              1.0   \n",
       "281                      0.0                  0.0              1.0   \n",
       "282                      0.0                  0.0              1.0   \n",
       "90                       0.0                  1.0              0.0   \n",
       "\n",
       "          source_bisg  \n",
       "ZEST_KEY               \n",
       "559               0.0  \n",
       "419               0.0  \n",
       "421               0.0  \n",
       "422               0.0  \n",
       "423               0.0  \n",
       "...               ...  \n",
       "277               0.0  \n",
       "279               0.0  \n",
       "281               0.0  \n",
       "282               0.0  \n",
       "90                0.0  \n",
       "\n",
       "[462 rows x 10 columns]"
      ]
     },
     "execution_count": 11,
     "metadata": {},
     "output_type": "execute_result"
    }
   ],
   "source": [
    "zrp_output.sort_values(\"source_block_group\", ascending=False)"
   ]
  },
  {
   "cell_type": "markdown",
   "metadata": {},
   "source": [
    "### Check Coverage\n",
    "A quick glance at the ZRP output we can see a low missing rate. `ZRP_Predict` uses a waterfall method that predicts by using block group, census_tract, then zip_code. "
   ]
  },
  {
   "cell_type": "code",
   "execution_count": 12,
   "metadata": {},
   "outputs": [
    {
     "data": {
      "text/plain": [
       "AAPI          0.017316\n",
       "AIAN          0.017316\n",
       "BLACK         0.017316\n",
       "HISPANIC      0.017316\n",
       "WHITE         0.017316\n",
       "race_proxy    0.017316\n",
       "dtype: float64"
      ]
     },
     "execution_count": 12,
     "metadata": {},
     "output_type": "execute_result"
    }
   ],
   "source": [
    "zrp_output.filter(regex='[A-Z]|race').isna().mean()"
   ]
  },
  {
   "cell_type": "markdown",
   "metadata": {},
   "source": [
    "Checking the distribution of predicted race & ethnicity "
   ]
  },
  {
   "cell_type": "code",
   "execution_count": 13,
   "metadata": {},
   "outputs": [
    {
     "data": {
      "text/plain": [
       "WHITE       0.876623\n",
       "BLACK       0.049784\n",
       "HISPANIC    0.034632\n",
       "AAPI        0.021645\n",
       "NaN         0.017316\n",
       "Name: race_proxy, dtype: float64"
      ]
     },
     "execution_count": 13,
     "metadata": {},
     "output_type": "execute_result"
    }
   ],
   "source": [
    "zrp_output.race_proxy.value_counts(normalize=True, dropna=False)"
   ]
  },
  {
   "cell_type": "code",
   "execution_count": 14,
   "metadata": {},
   "outputs": [
    {
     "data": {
      "text/plain": [
       "(462, 10)"
      ]
     },
     "execution_count": 14,
     "metadata": {},
     "output_type": "execute_result"
    }
   ],
   "source": [
    "zrp_output.shape"
   ]
  },
  {
   "cell_type": "markdown",
   "metadata": {},
   "source": [
    "Please refer to the source columns to determine which geographic identifier or method was used to generate the proxy "
   ]
  },
  {
   "cell_type": "markdown",
   "metadata": {},
   "source": [
    "`ZRP_Predict` generates multiple artifacts that are automatically saved:\n",
    "- Dataframe with proxies\n",
    "    - `proxy_output.feather`\n",
    "- Validation dictionary for input data\n",
    "    - `input_predict_validator.json`\n"
   ]
  },
  {
   "cell_type": "code",
   "execution_count": null,
   "metadata": {},
   "outputs": [],
   "source": []
  }
 ],
 "metadata": {
  "kernelspec": {
   "display_name": "ZRP (Q1 2022)",
   "language": "python",
   "name": "zrp_q1_22"
  },
  "language_info": {
   "codemirror_mode": {
    "name": "ipython",
    "version": 3
   },
   "file_extension": ".py",
   "mimetype": "text/x-python",
   "name": "python",
   "nbconvert_exporter": "python",
   "pygments_lexer": "ipython3",
   "version": "3.7.7"
  }
 },
 "nbformat": 4,
 "nbformat_minor": 4
}
