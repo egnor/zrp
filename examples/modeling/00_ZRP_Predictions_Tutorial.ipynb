{
 "cells": [
  {
   "cell_type": "markdown",
   "metadata": {},
   "source": [
    "# How to Generate Race & Ethnicity Predictions using ZRP\n",
    "The purpose of this notebook is to illustrate how to use ZRP_Predict, a class that generates race & ethnicity predictions"
   ]
  },
  {
   "cell_type": "code",
   "execution_count": 1,
   "metadata": {},
   "outputs": [],
   "source": [
    "%load_ext autoreload\n",
    "%autoreload 2\n",
    "%config Completer.use_jedi=False"
   ]
  },
  {
   "cell_type": "code",
   "execution_count": 2,
   "metadata": {},
   "outputs": [],
   "source": [
    "from os.path import join, expanduser\n",
    "import pandas as pd\n",
    "import sys\n",
    "import os\n",
    "import re\n",
    "import warnings"
   ]
  },
  {
   "cell_type": "code",
   "execution_count": 3,
   "metadata": {},
   "outputs": [],
   "source": [
    "warnings.filterwarnings(action='once')\n",
    "home = expanduser('~')"
   ]
  },
  {
   "cell_type": "code",
   "execution_count": 4,
   "metadata": {},
   "outputs": [],
   "source": [
    "src_path = '{}/zrp'.format(home)\n",
    "sys.path.append(src_path)"
   ]
  },
  {
   "cell_type": "code",
   "execution_count": 5,
   "metadata": {},
   "outputs": [],
   "source": [
    "test_ids = ['GA_10961114',  'GA_07588296', 'GA_11951308', 'GA_03567641',  \n",
    "            'GA_11493478', 'GA_08063136', 'GA_02144077', 'GA_06757359', \n",
    "            'GA_10561962', 'GA_07690722',   'GA_11003386'\n",
    "           ]"
   ]
  },
  {
   "cell_type": "code",
   "execution_count": 7,
   "metadata": {},
   "outputs": [],
   "source": [
    "from zrp.modeling.predict import ZRP_Predict\n",
    "from zrp.prepare.prepare import *\n",
    "from zrp.prepare.utils import *"
   ]
  },
  {
   "cell_type": "markdown",
   "metadata": {},
   "source": [
    "## load data\n",
    "simulating user input data"
   ]
  },
  {
   "cell_type": "code",
   "execution_count": 8,
   "metadata": {},
   "outputs": [],
   "source": [
    "support_files_path = \"/d/shared/zrp/shared_data\"\n",
    "key ='ZEST_KEY'"
   ]
  },
  {
   "cell_type": "code",
   "execution_count": 9,
   "metadata": {},
   "outputs": [
    {
     "name": "stderr",
     "output_type": "stream",
     "text": [
      "/home/kam/.conda/envs/zrp_q1_22/lib/python3.7/site-packages/pandas/compat/_optional.py:116: DeprecationWarning: distutils Version classes are deprecated. Use packaging.version instead.\n",
      "  if distutils.version.LooseVersion(version) < minimum_version:\n",
      "/home/kam/.conda/envs/zrp_q1_22/lib/python3.7/site-packages/setuptools/_distutils/version.py:351: DeprecationWarning: distutils Version classes are deprecated. Use packaging.version instead.\n",
      "  other = LooseVersion(other)\n",
      "/home/kam/.conda/envs/zrp_q1_22/lib/python3.7/site-packages/pandas/core/arrays/_arrow_utils.py:9: DeprecationWarning: distutils Version classes are deprecated. Use packaging.version instead.\n",
      "  _pyarrow_version_ge_015 = LooseVersion(pyarrow.__version__) >= LooseVersion(\"0.15\")\n"
     ]
    },
    {
     "data": {
      "text/plain": [
       "(7517881, 14)"
      ]
     },
     "execution_count": 9,
     "metadata": {},
     "output_type": "execute_result"
    }
   ],
   "source": [
    "df = load_file(\"/d/shared/zrp/shared_data/processed/data/state_level/voters/base_ga_2022q1.parquet\")\n",
    "df.shape"
   ]
  },
  {
   "cell_type": "markdown",
   "metadata": {},
   "source": [
    "### sample data\n",
    "sample for test case"
   ]
  },
  {
   "cell_type": "code",
   "execution_count": 10,
   "metadata": {},
   "outputs": [
    {
     "data": {
      "text/plain": [
       "(11, 14)"
      ]
     },
     "execution_count": 10,
     "metadata": {},
     "output_type": "execute_result"
    }
   ],
   "source": [
    "samp = df.copy()\n",
    "samp = samp[samp[key].isin(test_ids)]\n",
    "samp.shape"
   ]
  },
  {
   "cell_type": "markdown",
   "metadata": {},
   "source": [
    "## ZRP Prepare  \n",
    "prepare the data"
   ]
  },
  {
   "cell_type": "code",
   "execution_count": 11,
   "metadata": {},
   "outputs": [
    {
     "name": "stdout",
     "output_type": "stream",
     "text": [
      "Data is loaded\n",
      "Data is loaded\n",
      "   Formatting P1\n",
      "   Formatting P2\n",
      "reduce whitespace\n",
      "\n",
      "[Start] Preparing geo data\n",
      "  The following states are included in the data: ['GA']\n",
      "   ... on state: GA\n",
      "\n",
      "   Data is loaded\n",
      "   [Start] Processing geo data\n",
      "/d/shared/zrp/shared_data\n"
     ]
    },
    {
     "name": "stderr",
     "output_type": "stream",
     "text": [
      "  0%|          | 0/11 [00:00<?, ?it/s][Parallel(n_jobs=49)]: Using backend ThreadingBackend with 49 concurrent workers.\n",
      "100%|██████████| 11/11 [00:00<00:00, 1439.45it/s]"
     ]
    },
    {
     "name": "stdout",
     "output_type": "stream",
     "text": [
      "      ...address cleaning\n"
     ]
    },
    {
     "name": "stderr",
     "output_type": "stream",
     "text": [
      "\n",
      "[Parallel(n_jobs=49)]: Done  11 out of  11 | elapsed:    0.2s finished\n"
     ]
    },
    {
     "name": "stdout",
     "output_type": "stream",
     "text": [
      "      ...replicating address\n",
      "         ...Base\n",
      "         ...Map street suffixes...\n",
      "         ...Mapped & split by street suffixes...\n",
      "         ...Number processing...\n",
      "\n",
      "     Address dataframe expansion is complete! (n=17)\n",
      "      ...formatting\n",
      "   [Completed] Processing geo data\n",
      "   [Start] Mapping geo data\n",
      "      ...merge user input & lookup table\n",
      "      ...mapping\n",
      "Output saved\n",
      "   [Completed] Mapping geo data\n"
     ]
    },
    {
     "name": "stderr",
     "output_type": "stream",
     "text": [
      "/home/kam/.conda/envs/zrp_q1_22/lib/python3.7/site-packages/pandas/compat/_optional.py:116: DeprecationWarning: distutils Version classes are deprecated. Use packaging.version instead.\n",
      "  if distutils.version.LooseVersion(version) < minimum_version:\n",
      "/home/kam/.conda/envs/zrp_q1_22/lib/python3.7/site-packages/setuptools/_distutils/version.py:351: DeprecationWarning: distutils Version classes are deprecated. Use packaging.version instead.\n",
      "  other = LooseVersion(other)\n"
     ]
    },
    {
     "name": "stdout",
     "output_type": "stream",
     "text": [
      "[Completed] Preparing geo data\n",
      "\n",
      "[Start] Preparing ACS data\n",
      "User input data is loaded\n",
      "   ...loading ACS lookup tables\n",
      "   ... combining ACS & user input data\n",
      "ZEST_KEY\n",
      " ...Copy dataframes\n",
      " ...Block group\n",
      " ...Census tract\n",
      " ...Zip code\n",
      " ...No match\n",
      " ...Merge\n",
      " ...Merging complete\n",
      "[Complete] Preparing ACS data\n",
      "CPU times: user 44.2 s, sys: 11.2 s, total: 55.4 s\n",
      "Wall time: 59.2 s\n"
     ]
    }
   ],
   "source": [
    "%%time\n",
    "zest_race_predictor = ZRP_Prepare()\n",
    "zest_race_predictor.fit(samp)\n",
    "output = zest_race_predictor.transform(samp)"
   ]
  },
  {
   "cell_type": "markdown",
   "metadata": {},
   "source": [
    "## ZRP_Predict\n",
    "To generate predictions, assuming the data was prepared by ZRP_Prepare:\n",
    "1. Provide the path to the preferred pipeline directory in the `__init__`.\n",
    "2. No parameters are required for the `fit`.\n",
    "3. To transform the data,generate predictions, provide the prepared data from ZRP_Prepare. \n",
    "\n",
    "By default proxy probabilities are returned."
   ]
  },
  {
   "cell_type": "code",
   "execution_count": 13,
   "metadata": {},
   "outputs": [],
   "source": [
    "pipe_path = \"/d/shared/zrp/model_artifacts/experiment/exp_011\""
   ]
  },
  {
   "cell_type": "code",
   "execution_count": 14,
   "metadata": {},
   "outputs": [
    {
     "name": "stdout",
     "output_type": "stream",
     "text": [
      "Handle Compounds (in transform): (11, 92)\n",
      "Handle Compounds (in transform reset): (11, 93)\n",
      "Handle Compounds (end transform): (12, 93)\n",
      "App FE (in transform) (12, 94)\n"
     ]
    },
    {
     "name": "stderr",
     "output_type": "stream",
     "text": [
      "  0%|          | 0/1 [00:00<?, ?it/s][Parallel(n_jobs=90)]: Using backend ThreadingBackend with 90 concurrent workers.\n",
      "100%|██████████| 1/1 [00:00<00:00, 115.28it/s]"
     ]
    },
    {
     "name": "stdout",
     "output_type": "stream",
     "text": [
      "App FE (in transform post data_fe 1) (12, 94)\n",
      "App FE (in transform post data_fe 2) (12, 105)\n",
      "App FE (end transform) (12, 105)\n",
      "Custom Ratios (in transform) (12, 105)\n",
      "Custom Ratios (end transform) (12, 126)\n",
      "Name Aggregation (in transform) (12, 126)\n"
     ]
    },
    {
     "name": "stderr",
     "output_type": "stream",
     "text": [
      "\n",
      "[Parallel(n_jobs=90)]: Done   1 out of   1 | elapsed:    1.2s finished\n"
     ]
    },
    {
     "name": "stdout",
     "output_type": "stream",
     "text": [
      "(11, 15)\n",
      "(11, 15)\n",
      "Empty DataFrame\n",
      "Columns: [HISPANIC_last_name, BLACK_middle_name, AAPI_middle_name, WHITE_last_name, BLACK_last_name, AAPI_last_name, AIAN_first_name, WHITE_middle_name, AAPI_first_name, HISPANIC_first_name, AIAN_middle_name, HISPANIC_middle_name, WHITE_first_name, AIAN_last_name, BLACK_first_name]\n",
      "Index: []\n",
      "\n",
      "(12, 126)\n",
      "\n",
      "(11, 110)\n",
      "\n",
      "(11, 15)\n",
      "\n"
     ]
    },
    {
     "name": "stderr",
     "output_type": "stream",
     "text": [
      "/home/kam/.conda/envs/zrp_q1_22/lib/python3.7/site-packages/pandas/compat/_optional.py:116: DeprecationWarning: distutils Version classes are deprecated. Use packaging.version instead.\n",
      "  if distutils.version.LooseVersion(version) < minimum_version:\n",
      "/home/kam/.conda/envs/zrp_q1_22/lib/python3.7/site-packages/setuptools/_distutils/version.py:351: DeprecationWarning: distutils Version classes are deprecated. Use packaging.version instead.\n",
      "  other = LooseVersion(other)\n"
     ]
    },
    {
     "name": "stdout",
     "output_type": "stream",
     "text": [
      "Output saved\n",
      "CPU times: user 7.99 s, sys: 533 ms, total: 8.53 s\n",
      "Wall time: 13.6 s\n"
     ]
    }
   ],
   "source": [
    "%%time\n",
    "zrp_predict = ZRP_Predict(pipe_path=pipe_path)\n",
    "zrp_predict.fit()\n",
    "out_predictions = zrp_predict.transform(output)"
   ]
  },
  {
   "cell_type": "code",
   "execution_count": 16,
   "metadata": {},
   "outputs": [
    {
     "data": {
      "text/html": [
       "<div>\n",
       "<style scoped>\n",
       "    .dataframe tbody tr th:only-of-type {\n",
       "        vertical-align: middle;\n",
       "    }\n",
       "\n",
       "    .dataframe tbody tr th {\n",
       "        vertical-align: top;\n",
       "    }\n",
       "\n",
       "    .dataframe thead th {\n",
       "        text-align: right;\n",
       "    }\n",
       "</style>\n",
       "<table border=\"1\" class=\"dataframe\">\n",
       "  <thead>\n",
       "    <tr style=\"text-align: right;\">\n",
       "      <th></th>\n",
       "      <th>AAPI</th>\n",
       "      <th>AIAN</th>\n",
       "      <th>BLACK</th>\n",
       "      <th>HISPANIC</th>\n",
       "      <th>WHITE</th>\n",
       "      <th>source_block_group</th>\n",
       "    </tr>\n",
       "  </thead>\n",
       "  <tbody>\n",
       "    <tr>\n",
       "      <th>0</th>\n",
       "      <td>0.003693</td>\n",
       "      <td>0.012285</td>\n",
       "      <td>0.689880</td>\n",
       "      <td>0.010139</td>\n",
       "      <td>0.284002</td>\n",
       "      <td>1</td>\n",
       "    </tr>\n",
       "    <tr>\n",
       "      <th>1</th>\n",
       "      <td>0.003317</td>\n",
       "      <td>0.008846</td>\n",
       "      <td>0.086520</td>\n",
       "      <td>0.006012</td>\n",
       "      <td>0.895306</td>\n",
       "      <td>1</td>\n",
       "    </tr>\n",
       "    <tr>\n",
       "      <th>2</th>\n",
       "      <td>0.015528</td>\n",
       "      <td>0.001163</td>\n",
       "      <td>0.001545</td>\n",
       "      <td>0.025489</td>\n",
       "      <td>0.956274</td>\n",
       "      <td>1</td>\n",
       "    </tr>\n",
       "    <tr>\n",
       "      <th>3</th>\n",
       "      <td>0.136450</td>\n",
       "      <td>0.035330</td>\n",
       "      <td>0.537617</td>\n",
       "      <td>0.071682</td>\n",
       "      <td>0.218921</td>\n",
       "      <td>1</td>\n",
       "    </tr>\n",
       "    <tr>\n",
       "      <th>4</th>\n",
       "      <td>0.009961</td>\n",
       "      <td>0.000892</td>\n",
       "      <td>0.948494</td>\n",
       "      <td>0.010603</td>\n",
       "      <td>0.030050</td>\n",
       "      <td>1</td>\n",
       "    </tr>\n",
       "    <tr>\n",
       "      <th>5</th>\n",
       "      <td>0.003140</td>\n",
       "      <td>0.000066</td>\n",
       "      <td>0.000432</td>\n",
       "      <td>0.994575</td>\n",
       "      <td>0.001788</td>\n",
       "      <td>1</td>\n",
       "    </tr>\n",
       "    <tr>\n",
       "      <th>6</th>\n",
       "      <td>0.003461</td>\n",
       "      <td>0.002152</td>\n",
       "      <td>0.013817</td>\n",
       "      <td>0.007392</td>\n",
       "      <td>0.973178</td>\n",
       "      <td>1</td>\n",
       "    </tr>\n",
       "    <tr>\n",
       "      <th>7</th>\n",
       "      <td>0.013305</td>\n",
       "      <td>0.010755</td>\n",
       "      <td>0.013567</td>\n",
       "      <td>0.024665</td>\n",
       "      <td>0.937708</td>\n",
       "      <td>1</td>\n",
       "    </tr>\n",
       "    <tr>\n",
       "      <th>8</th>\n",
       "      <td>0.013309</td>\n",
       "      <td>0.001035</td>\n",
       "      <td>0.003674</td>\n",
       "      <td>0.024191</td>\n",
       "      <td>0.957790</td>\n",
       "      <td>1</td>\n",
       "    </tr>\n",
       "    <tr>\n",
       "      <th>9</th>\n",
       "      <td>0.016148</td>\n",
       "      <td>0.000652</td>\n",
       "      <td>0.125726</td>\n",
       "      <td>0.012625</td>\n",
       "      <td>0.844849</td>\n",
       "      <td>1</td>\n",
       "    </tr>\n",
       "  </tbody>\n",
       "</table>\n",
       "</div>"
      ],
      "text/plain": [
       "       AAPI      AIAN     BLACK  HISPANIC     WHITE  source_block_group\n",
       "0  0.003693  0.012285  0.689880  0.010139  0.284002                   1\n",
       "1  0.003317  0.008846  0.086520  0.006012  0.895306                   1\n",
       "2  0.015528  0.001163  0.001545  0.025489  0.956274                   1\n",
       "3  0.136450  0.035330  0.537617  0.071682  0.218921                   1\n",
       "4  0.009961  0.000892  0.948494  0.010603  0.030050                   1\n",
       "5  0.003140  0.000066  0.000432  0.994575  0.001788                   1\n",
       "6  0.003461  0.002152  0.013817  0.007392  0.973178                   1\n",
       "7  0.013305  0.010755  0.013567  0.024665  0.937708                   1\n",
       "8  0.013309  0.001035  0.003674  0.024191  0.957790                   1\n",
       "9  0.016148  0.000652  0.125726  0.012625  0.844849                   1"
      ]
     },
     "execution_count": 16,
     "metadata": {},
     "output_type": "execute_result"
    }
   ],
   "source": [
    "out_predictions.reset_index(drop=True)"
   ]
  },
  {
   "cell_type": "code",
   "execution_count": null,
   "metadata": {},
   "outputs": [],
   "source": []
  },
  {
   "cell_type": "code",
   "execution_count": null,
   "metadata": {},
   "outputs": [],
   "source": []
  }
 ],
 "metadata": {
  "kernelspec": {
   "display_name": "Python 3.7 (py37)",
   "language": "python",
   "name": "py37"
  },
  "language_info": {
   "codemirror_mode": {
    "name": "ipython",
    "version": 3
   },
   "file_extension": ".py",
   "mimetype": "text/x-python",
   "name": "python",
   "nbconvert_exporter": "python",
   "pygments_lexer": "ipython3",
   "version": "3.7.7"
  }
 },
 "nbformat": 4,
 "nbformat_minor": 4
}
