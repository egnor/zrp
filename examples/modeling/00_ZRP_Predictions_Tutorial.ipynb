{
 "cells": [
  {
   "cell_type": "markdown",
   "metadata": {},
   "source": [
    "# How to Generate Race & Ethnicity Predictions using ZRP\n",
    "The purpose of this notebook is to illustrate how to use ZRP_Predict, a module that generates race & ethnicity predictions"
   ]
  },
  {
   "cell_type": "code",
   "execution_count": 1,
   "metadata": {},
   "outputs": [],
   "source": [
    "%load_ext autoreload\n",
    "%autoreload 2\n",
    "%config Completer.use_jedi=False"
   ]
  },
  {
   "cell_type": "code",
   "execution_count": 2,
   "metadata": {},
   "outputs": [],
   "source": [
    "from os.path import join, expanduser, dirname\n",
    "import pandas as pd\n",
    "import sys\n",
    "import os\n",
    "import re\n",
    "import warnings"
   ]
  },
  {
   "cell_type": "code",
   "execution_count": 3,
   "metadata": {},
   "outputs": [],
   "source": [
    "warnings.filterwarnings(action='once')\n",
    "home = expanduser('~')\n",
    "\n",
    "src_path = '{}/zrp'.format(home)\n",
    "sys.path.append(src_path)"
   ]
  },
  {
   "cell_type": "code",
   "execution_count": 4,
   "metadata": {},
   "outputs": [
    {
     "name": "stderr",
     "output_type": "stream",
     "text": [
      "/home/kam/.conda/envs/zrp_q1_22/lib/python3.7/site-packages/statsmodels/compat/pandas.py:35: DeprecationWarning: distutils Version classes are deprecated. Use packaging.version instead.\n",
      "  version = LooseVersion(pd.__version__)\n",
      "/home/kam/.conda/envs/zrp_q1_22/lib/python3.7/importlib/_bootstrap.py:219: RuntimeWarning: numpy.ufunc size changed, may indicate binary incompatibility. Expected 192 from C header, got 216 from PyObject\n",
      "  return f(*args, **kwds)\n"
     ]
    }
   ],
   "source": [
    "from zrp.modeling.predict import ZRP_Predict\n",
    "from zrp.prepare.prepare import ZRP_Prepare\n",
    "from zrp.prepare.utils import load_file"
   ]
  },
  {
   "cell_type": "markdown",
   "metadata": {},
   "source": [
    "## Load sample data for prediction\n",
    "Load processed list of New Jersey Mayors downloaded from https://www.nj.gov/dca/home/2022mayors.csv "
   ]
  },
  {
   "cell_type": "code",
   "execution_count": 5,
   "metadata": {},
   "outputs": [
    {
     "data": {
      "text/plain": [
       "(462, 9)"
      ]
     },
     "execution_count": 5,
     "metadata": {},
     "output_type": "execute_result"
    }
   ],
   "source": [
    "nj_mayors = load_file(\"../2022-nj-mayors-sample.csv\")\n",
    "nj_mayors.shape"
   ]
  },
  {
   "cell_type": "code",
   "execution_count": 6,
   "metadata": {},
   "outputs": [
    {
     "data": {
      "text/html": [
       "<div>\n",
       "<style scoped>\n",
       "    .dataframe tbody tr th:only-of-type {\n",
       "        vertical-align: middle;\n",
       "    }\n",
       "\n",
       "    .dataframe tbody tr th {\n",
       "        vertical-align: top;\n",
       "    }\n",
       "\n",
       "    .dataframe thead th {\n",
       "        text-align: right;\n",
       "    }\n",
       "</style>\n",
       "<table border=\"1\" class=\"dataframe\">\n",
       "  <thead>\n",
       "    <tr style=\"text-align: right;\">\n",
       "      <th></th>\n",
       "      <th>first_name</th>\n",
       "      <th>middle_name</th>\n",
       "      <th>last_name</th>\n",
       "      <th>house_number</th>\n",
       "      <th>street_address</th>\n",
       "      <th>city</th>\n",
       "      <th>state</th>\n",
       "      <th>zip_code</th>\n",
       "      <th>ZEST_KEY</th>\n",
       "    </tr>\n",
       "  </thead>\n",
       "  <tbody>\n",
       "    <tr>\n",
       "      <th>0</th>\n",
       "      <td>Gabe</td>\n",
       "      <td>NaN</td>\n",
       "      <td>Plumer</td>\n",
       "      <td>782</td>\n",
       "      <td>Frenchtown Road</td>\n",
       "      <td>Milford</td>\n",
       "      <td>NJ</td>\n",
       "      <td>08848</td>\n",
       "      <td>2</td>\n",
       "    </tr>\n",
       "    <tr>\n",
       "      <th>1</th>\n",
       "      <td>Ari</td>\n",
       "      <td>NaN</td>\n",
       "      <td>Bernstein</td>\n",
       "      <td>500</td>\n",
       "      <td>West Crescent Avenue</td>\n",
       "      <td>Allendale</td>\n",
       "      <td>NJ</td>\n",
       "      <td>07401</td>\n",
       "      <td>4</td>\n",
       "    </tr>\n",
       "    <tr>\n",
       "      <th>2</th>\n",
       "      <td>David</td>\n",
       "      <td>J.</td>\n",
       "      <td>Mclaughlin</td>\n",
       "      <td>125</td>\n",
       "      <td>Corlies Avenue</td>\n",
       "      <td>Allenhurst</td>\n",
       "      <td>NJ</td>\n",
       "      <td>07711-1049</td>\n",
       "      <td>5</td>\n",
       "    </tr>\n",
       "    <tr>\n",
       "      <th>3</th>\n",
       "      <td>Thomas</td>\n",
       "      <td>C.</td>\n",
       "      <td>Fritts</td>\n",
       "      <td>8</td>\n",
       "      <td>North Main Street</td>\n",
       "      <td>Allentown</td>\n",
       "      <td>NJ</td>\n",
       "      <td>08501-1607</td>\n",
       "      <td>6</td>\n",
       "    </tr>\n",
       "    <tr>\n",
       "      <th>4</th>\n",
       "      <td>P.</td>\n",
       "      <td>NaN</td>\n",
       "      <td>McCkelvey</td>\n",
       "      <td>49</td>\n",
       "      <td>South Greenwich Street</td>\n",
       "      <td>Alloway</td>\n",
       "      <td>NJ</td>\n",
       "      <td>08001-0425</td>\n",
       "      <td>7</td>\n",
       "    </tr>\n",
       "    <tr>\n",
       "      <th>...</th>\n",
       "      <td>...</td>\n",
       "      <td>...</td>\n",
       "      <td>...</td>\n",
       "      <td>...</td>\n",
       "      <td>...</td>\n",
       "      <td>...</td>\n",
       "      <td>...</td>\n",
       "      <td>...</td>\n",
       "      <td>...</td>\n",
       "    </tr>\n",
       "    <tr>\n",
       "      <th>457</th>\n",
       "      <td>William</td>\n",
       "      <td>NaN</td>\n",
       "      <td>Degroff</td>\n",
       "      <td>3943</td>\n",
       "      <td>Route</td>\n",
       "      <td>Chatsworth</td>\n",
       "      <td>NJ</td>\n",
       "      <td>08019</td>\n",
       "      <td>558</td>\n",
       "    </tr>\n",
       "    <tr>\n",
       "      <th>458</th>\n",
       "      <td>Joseph</td>\n",
       "      <td>NaN</td>\n",
       "      <td>Chukwueke</td>\n",
       "      <td>200</td>\n",
       "      <td>Cooper Avenue</td>\n",
       "      <td>Woodlynne</td>\n",
       "      <td>NJ</td>\n",
       "      <td>08107-2108</td>\n",
       "      <td>559</td>\n",
       "    </tr>\n",
       "    <tr>\n",
       "      <th>459</th>\n",
       "      <td>Paul</td>\n",
       "      <td>NaN</td>\n",
       "      <td>Sarlo</td>\n",
       "      <td>85</td>\n",
       "      <td>Humboldt Street</td>\n",
       "      <td>Wood-Ridge</td>\n",
       "      <td>NJ</td>\n",
       "      <td>07075-2344</td>\n",
       "      <td>560</td>\n",
       "    </tr>\n",
       "    <tr>\n",
       "      <th>460</th>\n",
       "      <td>Craig</td>\n",
       "      <td>NaN</td>\n",
       "      <td>Frederick</td>\n",
       "      <td>120</td>\n",
       "      <td>Village Green Drive</td>\n",
       "      <td>Woolwich Township</td>\n",
       "      <td>NJ</td>\n",
       "      <td>08085-3180</td>\n",
       "      <td>562</td>\n",
       "    </tr>\n",
       "    <tr>\n",
       "      <th>461</th>\n",
       "      <td>Donald</td>\n",
       "      <td>NaN</td>\n",
       "      <td>Cottrell</td>\n",
       "      <td>21</td>\n",
       "      <td>Saylors Pond Road</td>\n",
       "      <td>Wrightstown</td>\n",
       "      <td>NJ</td>\n",
       "      <td>08562</td>\n",
       "      <td>563</td>\n",
       "    </tr>\n",
       "  </tbody>\n",
       "</table>\n",
       "<p>462 rows × 9 columns</p>\n",
       "</div>"
      ],
      "text/plain": [
       "    first_name middle_name   last_name house_number           street_address  \\\n",
       "0         Gabe         NaN      Plumer          782          Frenchtown Road   \n",
       "1          Ari         NaN   Bernstein          500     West Crescent Avenue   \n",
       "2        David          J.  Mclaughlin          125           Corlies Avenue   \n",
       "3       Thomas          C.      Fritts            8        North Main Street   \n",
       "4           P.         NaN   McCkelvey           49   South Greenwich Street   \n",
       "..         ...         ...         ...          ...                      ...   \n",
       "457    William         NaN     Degroff         3943                   Route    \n",
       "458     Joseph         NaN   Chukwueke          200            Cooper Avenue   \n",
       "459       Paul         NaN       Sarlo           85          Humboldt Street   \n",
       "460      Craig         NaN   Frederick          120      Village Green Drive   \n",
       "461     Donald         NaN    Cottrell           21        Saylors Pond Road   \n",
       "\n",
       "                  city state    zip_code ZEST_KEY  \n",
       "0              Milford    NJ       08848        2  \n",
       "1            Allendale    NJ       07401        4  \n",
       "2           Allenhurst    NJ  07711-1049        5  \n",
       "3            Allentown    NJ  08501-1607        6  \n",
       "4              Alloway    NJ  08001-0425        7  \n",
       "..                 ...   ...         ...      ...  \n",
       "457         Chatsworth    NJ       08019      558  \n",
       "458          Woodlynne    NJ  08107-2108      559  \n",
       "459         Wood-Ridge    NJ  07075-2344      560  \n",
       "460  Woolwich Township    NJ  08085-3180      562  \n",
       "461        Wrightstown    NJ       08562      563  \n",
       "\n",
       "[462 rows x 9 columns]"
      ]
     },
     "execution_count": 6,
     "metadata": {},
     "output_type": "execute_result"
    }
   ],
   "source": [
    "nj_mayors"
   ]
  },
  {
   "cell_type": "markdown",
   "metadata": {},
   "source": [
    "#### ZRP Prepare  \n",
    "Predictions can only be generated from prepared data that is processed, Census GEOIDs (ie census tract), and has American Community Survey mapped to each unique record. To prepare the data we will use ZRP_Prepare"
   ]
  },
  {
   "cell_type": "code",
   "execution_count": 7,
   "metadata": {},
   "outputs": [
    {
     "name": "stderr",
     "output_type": "stream",
     "text": [
      "  0%|          | 0/1 [00:00<?, ?it/s]\n",
      "  0%|          | 0/462 [00:00<?, ?it/s]\u001b[A[Parallel(n_jobs=49)]: Using backend ThreadingBackend with 49 concurrent workers.\n",
      "[Parallel(n_jobs=49)]: Done 102 tasks      | elapsed:    0.0s\n",
      "100%|██████████| 462/462 [00:00<00:00, 13029.73it/s]"
     ]
    },
    {
     "name": "stdout",
     "output_type": "stream",
     "text": [
      "Data is loaded\n",
      "Directory already exists\n",
      "   [Start] Validating input data\n",
      "     Number of observations: 462\n",
      "     Is key unique: True\n",
      "       (Warning!!) middle_name is 68.3982683982684% missing, this may impact the ability to return race approximations\n",
      "   [Completed] Validating input data\n",
      "\n",
      "   Formatting P1\n",
      "   Formatting P2\n",
      "   reduce whitespace\n",
      "\n",
      "[Start] Preparing geo data\n",
      "\n",
      "  The following states are included in the data: ['NJ']\n",
      "   ... on state: NJ\n",
      "\n",
      "   Data is loaded\n",
      "   [Start] Processing geo data\n",
      "/home/kam/zrp/zrp/prepare/../data/processed\n",
      "      ...address cleaning\n"
     ]
    },
    {
     "name": "stderr",
     "output_type": "stream",
     "text": [
      "\n",
      "[Parallel(n_jobs=49)]: Done 352 tasks      | elapsed:    0.0s\n",
      "[Parallel(n_jobs=49)]: Done 462 out of 462 | elapsed:    0.0s finished\n",
      "sys:1: ResourceWarning: unclosed socket <zmq.Socket(zmq.PUSH) at 0x7fe88c2a1520>\n",
      "ResourceWarning: Enable tracemalloc to get the object allocation traceback\n"
     ]
    },
    {
     "name": "stdout",
     "output_type": "stream",
     "text": [
      "      ...replicating address\n",
      "         ...Base\n",
      "         ...Map street suffixes...\n",
      "         ...Mapped & split by street suffixes...\n",
      "         ...Number processing...\n",
      "\n",
      "         Address dataframe expansion is complete! (n=900)\n",
      "         ...Base\n",
      "         ...Number processing...\n",
      "         House number dataframe expansion is complete! (n=900)\n",
      "      ...formatting\n",
      "   [Completed] Processing geo data\n",
      "   [Start] Mapping geo data\n"
     ]
    },
    {
     "name": "stderr",
     "output_type": "stream",
     "text": [
      "/home/kam/.conda/envs/zrp_q1_22/lib/python3.7/site-packages/pandas/compat/_optional.py:116: DeprecationWarning: distutils Version classes are deprecated. Use packaging.version instead.\n",
      "  if distutils.version.LooseVersion(version) < minimum_version:\n",
      "/home/kam/.conda/envs/zrp_q1_22/lib/python3.7/site-packages/setuptools/_distutils/version.py:351: DeprecationWarning: distutils Version classes are deprecated. Use packaging.version instead.\n",
      "  other = LooseVersion(other)\n",
      "/home/kam/.conda/envs/zrp_q1_22/lib/python3.7/site-packages/pandas/core/arrays/_arrow_utils.py:9: DeprecationWarning: distutils Version classes are deprecated. Use packaging.version instead.\n",
      "  _pyarrow_version_ge_015 = LooseVersion(pyarrow.__version__) >= LooseVersion(\"0.15\")\n"
     ]
    },
    {
     "name": "stdout",
     "output_type": "stream",
     "text": [
      "      ...merge user input & lookup table\n",
      "      ...mapping\n"
     ]
    },
    {
     "name": "stderr",
     "output_type": "stream",
     "text": [
      "/home/kam/.conda/envs/zrp_q1_22/lib/python3.7/site-packages/pandas/compat/_optional.py:116: DeprecationWarning: distutils Version classes are deprecated. Use packaging.version instead.\n",
      "  if distutils.version.LooseVersion(version) < minimum_version:\n",
      "/home/kam/.conda/envs/zrp_q1_22/lib/python3.7/site-packages/setuptools/_distutils/version.py:351: DeprecationWarning: distutils Version classes are deprecated. Use packaging.version instead.\n",
      "  other = LooseVersion(other)\n",
      "100%|██████████| 1/1 [00:04<00:00,  4.83s/it]"
     ]
    },
    {
     "name": "stdout",
     "output_type": "stream",
     "text": [
      "Directory already exists\n",
      "Output saved\n",
      "   [Completed] Mapping geo data\n",
      "\n",
      "[Completed] Preparing geo data\n",
      "\n",
      "[Start] Preparing ACS data\n",
      "   [Start] Validating ACS input data\n",
      "     Number of observations: 462\n",
      "     Is key unique: True\n",
      "       (Warning!!) middle_name is 68.3982683982684% missing, this may impact the ability to return race approximations\n"
     ]
    },
    {
     "name": "stderr",
     "output_type": "stream",
     "text": [
      "\n",
      "/home/kam/.conda/envs/zrp_q1_22/lib/python3.7/site-packages/pandas/compat/_optional.py:116: DeprecationWarning: distutils Version classes are deprecated. Use packaging.version instead.\n",
      "  if distutils.version.LooseVersion(version) < minimum_version:\n",
      "/home/kam/.conda/envs/zrp_q1_22/lib/python3.7/site-packages/setuptools/_distutils/version.py:351: DeprecationWarning: distutils Version classes are deprecated. Use packaging.version instead.\n",
      "  other = LooseVersion(other)\n"
     ]
    },
    {
     "name": "stdout",
     "output_type": "stream",
     "text": [
      "\n",
      "   [Completed] Validating ACS input data\n",
      "\n",
      "   ...loading ACS lookup tables\n",
      "   ... combining ACS & user input data\n",
      " ...Copy dataframes\n",
      " ...Block group\n",
      " ...Census tract\n",
      " ...Zip code\n",
      " ...No match\n",
      " ...Merge\n",
      " ...Merging complete\n",
      "[Complete] Preparing ACS data\n",
      "\n",
      "CPU times: user 34.4 s, sys: 10.7 s, total: 45.1 s\n",
      "Wall time: 22.7 s\n"
     ]
    }
   ],
   "source": [
    "%%time\n",
    "zest_race_predictor = ZRP_Prepare()\n",
    "zest_race_predictor.fit(nj_mayors)\n",
    "prepared = zest_race_predictor.transform(nj_mayors)"
   ]
  },
  {
   "cell_type": "markdown",
   "metadata": {},
   "source": [
    "### Invoke the ZRP_Predict on the sample data\n",
    "To generate predictions, you can:\n",
    "1. Provide the path to the preferred pipeline directory in the `__init__`. \n",
    "    - Here we provide the default path"
   ]
  },
  {
   "cell_type": "code",
   "execution_count": 8,
   "metadata": {},
   "outputs": [],
   "source": [
    "curpath = os.getcwd()\n",
    "pipe_path = join(curpath, \"../../zrp/modeling/models\")"
   ]
  },
  {
   "cell_type": "code",
   "execution_count": 9,
   "metadata": {},
   "outputs": [],
   "source": [
    "zrp_predict = ZRP_Predict(pipe_path)"
   ]
  },
  {
   "cell_type": "markdown",
   "metadata": {},
   "source": [
    "To transform the data/generate predictions, provide the prepared data from ZRP_Prepare to the transform"
   ]
  },
  {
   "cell_type": "code",
   "execution_count": 11,
   "metadata": {},
   "outputs": [
    {
     "name": "stdout",
     "output_type": "stream",
     "text": [
      "   [Start] Validating pipeline input data\n",
      "     Number of observations: 1425\n",
      "     Is key unique: False\n",
      "       (Warning!!) middle_name is 67.15789473684211% missing, this may impact the ability to return race approximations\n",
      "   [Completed] Validating pipeline input data\n",
      "\n"
     ]
    },
    {
     "name": "stderr",
     "output_type": "stream",
     "text": [
      "  0%|          | 0/1 [00:00<?, ?it/s][Parallel(n_jobs=-1)]: Using backend ThreadingBackend with 15 concurrent workers.\n",
      "100%|██████████| 1/1 [00:00<00:00, 932.27it/s]\n",
      "[Parallel(n_jobs=-1)]: Done   1 out of   1 | elapsed:    0.0s finished\n",
      "  0%|          | 0/1 [00:00<?, ?it/s][Parallel(n_jobs=-1)]: Using backend ThreadingBackend with 15 concurrent workers.\n",
      "100%|██████████| 1/1 [00:00<00:00, 1116.10it/s]\n",
      "[Parallel(n_jobs=-1)]: Done   1 out of   1 | elapsed:    0.0s finished\n",
      "  0%|          | 0/1 [00:00<?, ?it/s][Parallel(n_jobs=-1)]: Using backend ThreadingBackend with 15 concurrent workers.\n",
      "100%|██████████| 1/1 [00:00<00:00, 1274.86it/s]\n",
      "[Parallel(n_jobs=-1)]: Done   1 out of   1 | elapsed:    0.0s finished\n"
     ]
    },
    {
     "name": "stdout",
     "output_type": "stream",
     "text": [
      "Directory already exists\n",
      "Output saved\n"
     ]
    },
    {
     "name": "stderr",
     "output_type": "stream",
     "text": [
      "/home/kam/.conda/envs/zrp_q1_22/lib/python3.7/site-packages/pandas/compat/_optional.py:116: DeprecationWarning: distutils Version classes are deprecated. Use packaging.version instead.\n",
      "  if distutils.version.LooseVersion(version) < minimum_version:\n",
      "/home/kam/.conda/envs/zrp_q1_22/lib/python3.7/site-packages/setuptools/_distutils/version.py:351: DeprecationWarning: distutils Version classes are deprecated. Use packaging.version instead.\n",
      "  other = LooseVersion(other)\n"
     ]
    }
   ],
   "source": [
    "zrp_predict.fit(prepared)\n",
    "zrp_output = zrp_predict.transform(prepared)"
   ]
  },
  {
   "cell_type": "markdown",
   "metadata": {},
   "source": [
    "### Inspect the output\n",
    "- Preview the data\n",
    "- View what artifacts are saved"
   ]
  },
  {
   "cell_type": "code",
   "execution_count": 18,
   "metadata": {},
   "outputs": [
    {
     "data": {
      "text/html": [
       "<div>\n",
       "<style scoped>\n",
       "    .dataframe tbody tr th:only-of-type {\n",
       "        vertical-align: middle;\n",
       "    }\n",
       "\n",
       "    .dataframe tbody tr th {\n",
       "        vertical-align: top;\n",
       "    }\n",
       "\n",
       "    .dataframe thead th {\n",
       "        text-align: right;\n",
       "    }\n",
       "</style>\n",
       "<table border=\"1\" class=\"dataframe\">\n",
       "  <thead>\n",
       "    <tr style=\"text-align: right;\">\n",
       "      <th></th>\n",
       "      <th>AAPI</th>\n",
       "      <th>AIAN</th>\n",
       "      <th>BLACK</th>\n",
       "      <th>HISPANIC</th>\n",
       "      <th>WHITE</th>\n",
       "      <th>race_proxy</th>\n",
       "      <th>source_block_group</th>\n",
       "      <th>source_census_tract</th>\n",
       "      <th>source_zip_code</th>\n",
       "      <th>source_bisg</th>\n",
       "    </tr>\n",
       "    <tr>\n",
       "      <th>ZEST_KEY</th>\n",
       "      <th></th>\n",
       "      <th></th>\n",
       "      <th></th>\n",
       "      <th></th>\n",
       "      <th></th>\n",
       "      <th></th>\n",
       "      <th></th>\n",
       "      <th></th>\n",
       "      <th></th>\n",
       "      <th></th>\n",
       "    </tr>\n",
       "  </thead>\n",
       "  <tbody>\n",
       "    <tr>\n",
       "      <th>138</th>\n",
       "      <td>0.002625</td>\n",
       "      <td>0.001921</td>\n",
       "      <td>0.480969</td>\n",
       "      <td>0.016531</td>\n",
       "      <td>0.497954</td>\n",
       "      <td>WHITE</td>\n",
       "      <td>1.0</td>\n",
       "      <td>0.0</td>\n",
       "      <td>0.0</td>\n",
       "      <td>0.0</td>\n",
       "    </tr>\n",
       "    <tr>\n",
       "      <th>322</th>\n",
       "      <td>0.017464</td>\n",
       "      <td>0.000595</td>\n",
       "      <td>0.002867</td>\n",
       "      <td>0.120008</td>\n",
       "      <td>0.859067</td>\n",
       "      <td>WHITE</td>\n",
       "      <td>1.0</td>\n",
       "      <td>0.0</td>\n",
       "      <td>0.0</td>\n",
       "      <td>0.0</td>\n",
       "    </tr>\n",
       "    <tr>\n",
       "      <th>320</th>\n",
       "      <td>0.080177</td>\n",
       "      <td>0.011591</td>\n",
       "      <td>0.024196</td>\n",
       "      <td>0.051094</td>\n",
       "      <td>0.832942</td>\n",
       "      <td>WHITE</td>\n",
       "      <td>1.0</td>\n",
       "      <td>0.0</td>\n",
       "      <td>0.0</td>\n",
       "      <td>0.0</td>\n",
       "    </tr>\n",
       "    <tr>\n",
       "      <th>319</th>\n",
       "      <td>0.001641</td>\n",
       "      <td>0.001610</td>\n",
       "      <td>0.021942</td>\n",
       "      <td>0.058487</td>\n",
       "      <td>0.916320</td>\n",
       "      <td>WHITE</td>\n",
       "      <td>1.0</td>\n",
       "      <td>0.0</td>\n",
       "      <td>0.0</td>\n",
       "      <td>0.0</td>\n",
       "    </tr>\n",
       "    <tr>\n",
       "      <th>318</th>\n",
       "      <td>0.027923</td>\n",
       "      <td>0.000558</td>\n",
       "      <td>0.222414</td>\n",
       "      <td>0.042709</td>\n",
       "      <td>0.706395</td>\n",
       "      <td>WHITE</td>\n",
       "      <td>1.0</td>\n",
       "      <td>0.0</td>\n",
       "      <td>0.0</td>\n",
       "      <td>0.0</td>\n",
       "    </tr>\n",
       "    <tr>\n",
       "      <th>...</th>\n",
       "      <td>...</td>\n",
       "      <td>...</td>\n",
       "      <td>...</td>\n",
       "      <td>...</td>\n",
       "      <td>...</td>\n",
       "      <td>...</td>\n",
       "      <td>...</td>\n",
       "      <td>...</td>\n",
       "      <td>...</td>\n",
       "      <td>...</td>\n",
       "    </tr>\n",
       "    <tr>\n",
       "      <th>435</th>\n",
       "      <td>0.021511</td>\n",
       "      <td>0.000899</td>\n",
       "      <td>0.009937</td>\n",
       "      <td>0.043853</td>\n",
       "      <td>0.923800</td>\n",
       "      <td>WHITE</td>\n",
       "      <td>0.0</td>\n",
       "      <td>0.0</td>\n",
       "      <td>1.0</td>\n",
       "      <td>0.0</td>\n",
       "    </tr>\n",
       "    <tr>\n",
       "      <th>434</th>\n",
       "      <td>0.000482</td>\n",
       "      <td>0.000465</td>\n",
       "      <td>0.001865</td>\n",
       "      <td>0.001348</td>\n",
       "      <td>0.995840</td>\n",
       "      <td>WHITE</td>\n",
       "      <td>0.0</td>\n",
       "      <td>0.0</td>\n",
       "      <td>1.0</td>\n",
       "      <td>0.0</td>\n",
       "    </tr>\n",
       "    <tr>\n",
       "      <th>43</th>\n",
       "      <td>0.161509</td>\n",
       "      <td>0.000540</td>\n",
       "      <td>0.001793</td>\n",
       "      <td>0.002106</td>\n",
       "      <td>0.834052</td>\n",
       "      <td>WHITE</td>\n",
       "      <td>0.0</td>\n",
       "      <td>0.0</td>\n",
       "      <td>1.0</td>\n",
       "      <td>0.0</td>\n",
       "    </tr>\n",
       "    <tr>\n",
       "      <th>428</th>\n",
       "      <td>0.028461</td>\n",
       "      <td>0.022185</td>\n",
       "      <td>0.516112</td>\n",
       "      <td>0.094207</td>\n",
       "      <td>0.339036</td>\n",
       "      <td>BLACK</td>\n",
       "      <td>0.0</td>\n",
       "      <td>0.0</td>\n",
       "      <td>1.0</td>\n",
       "      <td>0.0</td>\n",
       "    </tr>\n",
       "    <tr>\n",
       "      <th>29</th>\n",
       "      <td>NaN</td>\n",
       "      <td>NaN</td>\n",
       "      <td>NaN</td>\n",
       "      <td>NaN</td>\n",
       "      <td>NaN</td>\n",
       "      <td>NaN</td>\n",
       "      <td>0.0</td>\n",
       "      <td>0.0</td>\n",
       "      <td>0.0</td>\n",
       "      <td>1.0</td>\n",
       "    </tr>\n",
       "  </tbody>\n",
       "</table>\n",
       "<p>462 rows × 10 columns</p>\n",
       "</div>"
      ],
      "text/plain": [
       "              AAPI      AIAN     BLACK  HISPANIC     WHITE race_proxy  \\\n",
       "ZEST_KEY                                                                \n",
       "138       0.002625  0.001921  0.480969  0.016531  0.497954      WHITE   \n",
       "322       0.017464  0.000595  0.002867  0.120008  0.859067      WHITE   \n",
       "320       0.080177  0.011591  0.024196  0.051094  0.832942      WHITE   \n",
       "319       0.001641  0.001610  0.021942  0.058487  0.916320      WHITE   \n",
       "318       0.027923  0.000558  0.222414  0.042709  0.706395      WHITE   \n",
       "...            ...       ...       ...       ...       ...        ...   \n",
       "435       0.021511  0.000899  0.009937  0.043853  0.923800      WHITE   \n",
       "434       0.000482  0.000465  0.001865  0.001348  0.995840      WHITE   \n",
       "43        0.161509  0.000540  0.001793  0.002106  0.834052      WHITE   \n",
       "428       0.028461  0.022185  0.516112  0.094207  0.339036      BLACK   \n",
       "29             NaN       NaN       NaN       NaN       NaN        NaN   \n",
       "\n",
       "          source_block_group  source_census_tract  source_zip_code  \\\n",
       "ZEST_KEY                                                             \n",
       "138                      1.0                  0.0              0.0   \n",
       "322                      1.0                  0.0              0.0   \n",
       "320                      1.0                  0.0              0.0   \n",
       "319                      1.0                  0.0              0.0   \n",
       "318                      1.0                  0.0              0.0   \n",
       "...                      ...                  ...              ...   \n",
       "435                      0.0                  0.0              1.0   \n",
       "434                      0.0                  0.0              1.0   \n",
       "43                       0.0                  0.0              1.0   \n",
       "428                      0.0                  0.0              1.0   \n",
       "29                       0.0                  0.0              0.0   \n",
       "\n",
       "          source_bisg  \n",
       "ZEST_KEY               \n",
       "138               0.0  \n",
       "322               0.0  \n",
       "320               0.0  \n",
       "319               0.0  \n",
       "318               0.0  \n",
       "...               ...  \n",
       "435               0.0  \n",
       "434               0.0  \n",
       "43                0.0  \n",
       "428               0.0  \n",
       "29                1.0  \n",
       "\n",
       "[462 rows x 10 columns]"
      ]
     },
     "execution_count": 18,
     "metadata": {},
     "output_type": "execute_result"
    }
   ],
   "source": [
    "zrp_output.sort_values(\"source_block_group\", ascending=False)"
   ]
  },
  {
   "cell_type": "markdown",
   "metadata": {},
   "source": [
    "### Check Coverage\n",
    "A quick glance at the ZRP output we can see a low missing rate. `ZRP_Predict` uses a waterfall method that predicts by using block group, census_tract, then zip_code. "
   ]
  },
  {
   "cell_type": "code",
   "execution_count": 23,
   "metadata": {},
   "outputs": [
    {
     "data": {
      "text/plain": [
       "AAPI          0.017316\n",
       "AIAN          0.017316\n",
       "BLACK         0.017316\n",
       "HISPANIC      0.017316\n",
       "WHITE         0.017316\n",
       "race_proxy    0.017316\n",
       "dtype: float64"
      ]
     },
     "execution_count": 23,
     "metadata": {},
     "output_type": "execute_result"
    }
   ],
   "source": [
    "zrp_output.filter(regex='[A-Z]|race').isna().mean()"
   ]
  },
  {
   "cell_type": "markdown",
   "metadata": {},
   "source": [
    "Checking the distribution of predicted race & ethnicity "
   ]
  },
  {
   "cell_type": "code",
   "execution_count": 20,
   "metadata": {},
   "outputs": [
    {
     "data": {
      "text/plain": [
       "WHITE       0.876623\n",
       "BLACK       0.047619\n",
       "HISPANIC    0.034632\n",
       "AAPI        0.023810\n",
       "NaN         0.017316\n",
       "Name: race_proxy, dtype: float64"
      ]
     },
     "execution_count": 20,
     "metadata": {},
     "output_type": "execute_result"
    }
   ],
   "source": [
    "zrp_output.race_proxy.value_counts(normalize=True, dropna=False)"
   ]
  },
  {
   "cell_type": "code",
   "execution_count": 25,
   "metadata": {},
   "outputs": [
    {
     "data": {
      "text/plain": [
       "(462, 10)"
      ]
     },
     "execution_count": 25,
     "metadata": {},
     "output_type": "execute_result"
    }
   ],
   "source": [
    "zrp_output.shape"
   ]
  },
  {
   "cell_type": "markdown",
   "metadata": {},
   "source": [
    "Please refer to the source columns to determine which geographic identifier or method was used to generate the proxy "
   ]
  },
  {
   "cell_type": "markdown",
   "metadata": {},
   "source": [
    "`ZRP_Predict` generates multiple artifacts that are automatically saved:\n",
    "- Dataframe with proxies\n",
    "    - `proxy_output.feather`\n",
    "- Validation dictionary for input data\n",
    "    - `input_predict_validator.json`\n"
   ]
  },
  {
   "cell_type": "code",
   "execution_count": 14,
   "metadata": {},
   "outputs": [
    {
     "name": "stdout",
     "output_type": "stream",
     "text": [
      "input_acs_validator.json      proxy_output.feather\n",
      "input_predict_validator.json  Zest_Geocoded_test_2019__34.parquet\n",
      "input_validator.json\n"
     ]
    }
   ],
   "source": [
    "!ls artifacts"
   ]
  },
  {
   "cell_type": "code",
   "execution_count": null,
   "metadata": {},
   "outputs": [],
   "source": []
  }
 ],
 "metadata": {
  "kernelspec": {
   "display_name": "ZRP (Q1 2022)",
   "language": "python",
   "name": "zrp_q1_22"
  },
  "language_info": {
   "codemirror_mode": {
    "name": "ipython",
    "version": 3
   },
   "file_extension": ".py",
   "mimetype": "text/x-python",
   "name": "python",
   "nbconvert_exporter": "python",
   "pygments_lexer": "ipython3",
   "version": "3.7.7"
  }
 },
 "nbformat": 4,
 "nbformat_minor": 4
}
