{
 "cells": [
  {
   "cell_type": "markdown",
   "metadata": {},
   "source": [
    "# How to Build a ZRP Model Using Your Own Data "
   ]
  },
  {
   "cell_type": "markdown",
   "metadata": {},
   "source": [
    "The purpose of this notebook is to illustrate how to use ZRP_Build, a class that generates a new, custom ZRP model trained off of user input data. You must supply standard ZRP requirements including name and address, in addition to race to build the custom model-pipeline. The pipeline, model, and supporting data are saved automatically to \"./artifacts/experiments/{zrp_model_name}/\" in the support files path defined.\n",
    "\n",
    "This notebook is not intended to display ZRP performance. The dataset used is incredibly small for the purpose of displaying quickly how the model can be trained. To view a notebook displaying ZRP performance, see https://github.com/zestai/zrp/blob/main/examples/ZRP-Tutorial.ipynb."
   ]
  },
  {
   "cell_type": "code",
   "execution_count": 1,
   "metadata": {},
   "outputs": [],
   "source": [
    "%load_ext autoreload\n",
    "%autoreload 2\n",
    "%config Completer.use_jedi=False"
   ]
  },
  {
   "cell_type": "code",
   "execution_count": 2,
   "metadata": {},
   "outputs": [],
   "source": [
    "from os.path import join, expanduser, dirname\n",
    "import pandas as pd\n",
    "import sys\n",
    "import os\n",
    "import re\n",
    "import warnings"
   ]
  },
  {
   "cell_type": "code",
   "execution_count": 3,
   "metadata": {},
   "outputs": [],
   "source": [
    "warnings.filterwarnings(action='ignore')\n",
    "home = expanduser('~')\n",
    "\n",
    "src_path = os.getcwd()\n",
    "root = os.path.join(src_path, \"../..\")\n",
    "sys.path.append(src_path)"
   ]
  },
  {
   "cell_type": "code",
   "execution_count": 4,
   "metadata": {},
   "outputs": [],
   "source": [
    "from zrp import ZRP\n",
    "from zrp.modeling import ZRP_Build\n",
    "from zrp.prepare.utils import load_file"
   ]
  },
  {
   "cell_type": "markdown",
   "metadata": {},
   "source": [
    "# Load sample data for training"
   ]
  },
  {
   "cell_type": "code",
   "execution_count": 5,
   "metadata": {},
   "outputs": [
    {
     "data": {
      "text/plain": [
       "(5, 14)"
      ]
     },
     "execution_count": 5,
     "metadata": {},
     "output_type": "execute_result"
    }
   ],
   "source": [
    "input_sample = load_file(root + \"/tests/data/sm_1.csv\")\n",
    "input_sample['ZEST_KEY'] = input_sample.index.astype(str)  #must specify key to establish correspondence between inputs and outputs\n",
    "\n",
    "input_sample.shape"
   ]
  },
  {
   "cell_type": "code",
   "execution_count": 6,
   "metadata": {},
   "outputs": [
    {
     "data": {
      "text/html": [
       "<div>\n",
       "<style scoped>\n",
       "    .dataframe tbody tr th:only-of-type {\n",
       "        vertical-align: middle;\n",
       "    }\n",
       "\n",
       "    .dataframe tbody tr th {\n",
       "        vertical-align: top;\n",
       "    }\n",
       "\n",
       "    .dataframe thead th {\n",
       "        text-align: right;\n",
       "    }\n",
       "</style>\n",
       "<table border=\"1\" class=\"dataframe\">\n",
       "  <thead>\n",
       "    <tr style=\"text-align: right;\">\n",
       "      <th></th>\n",
       "      <th>ZEST_KEY</th>\n",
       "      <th>first_name</th>\n",
       "      <th>middle_name</th>\n",
       "      <th>last_name</th>\n",
       "      <th>house_number</th>\n",
       "      <th>street_address</th>\n",
       "      <th>city</th>\n",
       "      <th>state</th>\n",
       "      <th>zip_code</th>\n",
       "      <th>original_race</th>\n",
       "      <th>race</th>\n",
       "      <th>original_sex</th>\n",
       "      <th>sex</th>\n",
       "      <th>age</th>\n",
       "    </tr>\n",
       "  </thead>\n",
       "  <tbody>\n",
       "    <tr>\n",
       "      <th>0</th>\n",
       "      <td>0</td>\n",
       "      <td>SAMANTHA</td>\n",
       "      <td>S</td>\n",
       "      <td>FERGUSON</td>\n",
       "      <td>121</td>\n",
       "      <td>GRAYS MARKET RD</td>\n",
       "      <td>EARLY BRANCH</td>\n",
       "      <td>SC</td>\n",
       "      <td>29916</td>\n",
       "      <td>WHITE</td>\n",
       "      <td>WHITE</td>\n",
       "      <td>FEMALE</td>\n",
       "      <td>FEMALE</td>\n",
       "      <td>29</td>\n",
       "    </tr>\n",
       "    <tr>\n",
       "      <th>1</th>\n",
       "      <td>1</td>\n",
       "      <td>HUOI</td>\n",
       "      <td>NaN</td>\n",
       "      <td>A</td>\n",
       "      <td>632</td>\n",
       "      <td>SANDBAR PT</td>\n",
       "      <td>CLOVER</td>\n",
       "      <td>SC</td>\n",
       "      <td>29710</td>\n",
       "      <td>ASIAN</td>\n",
       "      <td>AAPI</td>\n",
       "      <td>MALE</td>\n",
       "      <td>MALE</td>\n",
       "      <td>38</td>\n",
       "    </tr>\n",
       "    <tr>\n",
       "      <th>2</th>\n",
       "      <td>2</td>\n",
       "      <td>GAIL</td>\n",
       "      <td>A</td>\n",
       "      <td>ABRUNZO</td>\n",
       "      <td>605</td>\n",
       "      <td>KERSHAW ST</td>\n",
       "      <td>CHERAW</td>\n",
       "      <td>SC</td>\n",
       "      <td>29520</td>\n",
       "      <td>WHITE</td>\n",
       "      <td>WHITE</td>\n",
       "      <td>FEMALE</td>\n",
       "      <td>FEMALE</td>\n",
       "      <td>66</td>\n",
       "    </tr>\n",
       "    <tr>\n",
       "      <th>3</th>\n",
       "      <td>3</td>\n",
       "      <td>JOHN</td>\n",
       "      <td>M</td>\n",
       "      <td>AHERN</td>\n",
       "      <td>3401</td>\n",
       "      <td>DUNCAN ST</td>\n",
       "      <td>COLUMBIA</td>\n",
       "      <td>SC</td>\n",
       "      <td>29205</td>\n",
       "      <td>WHITE</td>\n",
       "      <td>WHITE</td>\n",
       "      <td>MALE</td>\n",
       "      <td>MALE</td>\n",
       "      <td>20</td>\n",
       "    </tr>\n",
       "    <tr>\n",
       "      <th>4</th>\n",
       "      <td>4</td>\n",
       "      <td>PARIS</td>\n",
       "      <td>K</td>\n",
       "      <td>ASANI</td>\n",
       "      <td>26</td>\n",
       "      <td>PECAN CIR</td>\n",
       "      <td>YORK</td>\n",
       "      <td>SC</td>\n",
       "      <td>29745</td>\n",
       "      <td>BLACK/AFRICAN</td>\n",
       "      <td>BLACK</td>\n",
       "      <td>FEMALE</td>\n",
       "      <td>FEMALE</td>\n",
       "      <td>18</td>\n",
       "    </tr>\n",
       "  </tbody>\n",
       "</table>\n",
       "</div>"
      ],
      "text/plain": [
       "  ZEST_KEY first_name middle_name last_name house_number   street_address  \\\n",
       "0        0   SAMANTHA           S  FERGUSON          121  GRAYS MARKET RD   \n",
       "1        1       HUOI         NaN         A          632       SANDBAR PT   \n",
       "2        2       GAIL           A   ABRUNZO          605       KERSHAW ST   \n",
       "3        3       JOHN           M     AHERN         3401        DUNCAN ST   \n",
       "4        4      PARIS           K     ASANI           26        PECAN CIR   \n",
       "\n",
       "           city state zip_code  original_race   race original_sex     sex age  \n",
       "0  EARLY BRANCH    SC    29916          WHITE  WHITE       FEMALE  FEMALE  29  \n",
       "1        CLOVER    SC    29710          ASIAN   AAPI         MALE    MALE  38  \n",
       "2        CHERAW    SC    29520          WHITE  WHITE       FEMALE  FEMALE  66  \n",
       "3      COLUMBIA    SC    29205          WHITE  WHITE         MALE    MALE  20  \n",
       "4          YORK    SC    29745  BLACK/AFRICAN  BLACK       FEMALE  FEMALE  18  "
      ]
     },
     "execution_count": 6,
     "metadata": {},
     "output_type": "execute_result"
    }
   ],
   "source": [
    "input_sample"
   ]
  },
  {
   "cell_type": "markdown",
   "metadata": {},
   "source": [
    "Note the input sample columns. As detailed in ZRP Build docstrings, the following columns are needed: first_name, middle_name, last_name, house_number, street_address, city, state, zip_code, race."
   ]
  },
  {
   "cell_type": "markdown",
   "metadata": {},
   "source": [
    "# Invoke ZRP Build on the sample data"
   ]
  },
  {
   "cell_type": "markdown",
   "metadata": {},
   "source": [
    "ZRP Build provides functionality for you to specify where to put artifacts folder & its files (pipeline, model(s), and supporting data), generated during intermediate steps. This is the parameter, 'file_path' If this is not specified, the artifacts folder is dumped in the same folder where the function is called from. \n",
    "\n",
    "The ZRP consists of a waterfall of 3 models: block group, census tract, and zip code. For a refresher on this architecture, please see https://github.com/zestai/zrp/blob/main/model_report.rst#prediction-process. When building your own ZRP model using ZRP Build, these three models are trained. To reflect the structure of the ZRP module, ZRP Build places the 3 generated models and associated files in distinct folders named for the geo level. These three folders are stored in the following directory: '[file_path]/artifacts/experiments/[zrp_model_name/]', where 'file_path' is the user defined or default path to the 'artifacts' parent directory. \n",
    "\n",
    "'zrp_model_name' is another relevant parameter into ZRP Build that specifies the name of this new model you are building. Ultimately, uniquely defining 'file_path' and 'zrp_model_name' will avoid overwriting previously built models in subsequent runs of ZRP Build."
   ]
  },
  {
   "cell_type": "code",
   "execution_count": 6,
   "metadata": {},
   "outputs": [
    {
     "name": "stderr",
     "output_type": "stream",
     "text": [
      "  0%|          | 0/1 [00:00<?, ?it/s]\n",
      "  0%|          | 0/5 [00:00<?, ?it/s]\u001b[A[Parallel(n_jobs=-1)]: Using backend ThreadingBackend with 4 concurrent workers.\n",
      "100%|██████████| 5/5 [00:00<00:00, 819.23it/s]"
     ]
    },
    {
     "name": "stdout",
     "output_type": "stream",
     "text": [
      "Data is loaded\n",
      "   [Start] Validating input data\n",
      "     Number of observations: 5\n",
      "     Is key unique: True\n",
      "       (Warning!!) middle_name is 20.0% missing, this may impact the ability to return race approximations\n",
      "Directory already exists\n",
      "   [Completed] Validating input data\n",
      "\n",
      "   Formatting P1\n",
      "   Formatting P2\n",
      "   reduce whitespace\n",
      "\n",
      "[Start] Preparing geo data\n",
      "\n",
      "  The following states are included in the data: ['SC']\n",
      "   ... on state: SC\n",
      "\n",
      "   Data is loaded\n",
      "   [Start] Processing geo data\n",
      "      ...address cleaning\n",
      "      ...replicating address\n",
      "         ...Base\n",
      "         ...Map street suffixes...\n"
     ]
    },
    {
     "name": "stderr",
     "output_type": "stream",
     "text": [
      "\n",
      "[Parallel(n_jobs=-1)]: Done   5 out of   5 | elapsed:    0.0s finished\n"
     ]
    },
    {
     "name": "stdout",
     "output_type": "stream",
     "text": [
      "         ...Mapped & split by street suffixes...\n",
      "         ...Number processing...\n",
      "\n",
      "         Address dataframe expansion is complete! (n=5)\n",
      "         ...Base\n",
      "         ...Number processing...\n",
      "         House number dataframe expansion is complete! (n=5)\n",
      "      ...formatting\n",
      "   [Completed] Processing geo data\n",
      "   [Start] Mapping geo data\n",
      "      ...merge user input & lookup table\n",
      "      ...mapping\n",
      "   [Completed] Validating input geo data\n",
      "Directory already exists\n",
      "Output saved\n",
      "   [Completed] Mapping geo data\n"
     ]
    },
    {
     "name": "stderr",
     "output_type": "stream",
     "text": [
      "100%|██████████| 1/1 [00:03<00:00,  3.71s/it]\n"
     ]
    },
    {
     "name": "stdout",
     "output_type": "stream",
     "text": [
      "\n",
      "[Completed] Preparing geo data\n",
      "\n",
      "[Start] Preparing ACS data\n",
      "   [Start] Validating ACS input data\n",
      "     Number of observations: 5\n",
      "     Is key unique: True\n",
      "       (Warning!!) middle_name is 20.0% missing, this may impact the ability to return race approximations\n",
      "\n",
      "   [Completed] Validating ACS input data\n",
      "\n",
      "   ...loading ACS lookup tables\n",
      "   ... combining ACS & user input data\n",
      " ...Copy dataframes\n",
      " ...Block group\n",
      " ...Census tract\n",
      " ...Zip code\n",
      " ...No match\n",
      " ...Merge\n",
      " ...Merging complete\n",
      "[Complete] Preparing ACS data\n",
      "\n",
      "=========================\n",
      "BUILDING block_group MODEL.\n",
      "=========================\n",
      "\n",
      "Directory already exists\n",
      "Dropping ['census_tract', 'zip_code'] features\n",
      "Len features to keep list:  98\n",
      "Data shape pre feature drop:  (12, 932)\n",
      "Index(['B03001_001', 'B03001_002', 'B03001_003', 'B03001_004', 'B03001_005',\n",
      "       'B03001_006', 'B03001_007', 'B03001_008', 'B03001_009', 'B03001_010',\n",
      "       ...\n",
      "       'age', 'city', 'house_number', 'original_race', 'original_sex', 'sex',\n",
      "       'state', 'street_address', 'zest_in_state_fips', 'zip_code'],\n",
      "      dtype='object', length=835)\n",
      "Data shape post feature drop:  (12, 97)\n",
      "Directory already exists\n",
      "Output saved\n",
      "Output saved\n",
      "Output saved\n",
      "Output saved\n",
      "Post-sampling shape:  (5, 14)\n",
      "Unique train labels:  ['WHITE' 'BLACK']\n",
      "Unique test labels:  ['WHITE' 'BLACK']\n",
      "   train to numeric\n",
      "\n",
      "---\n",
      "Saving raw data\n",
      "Output saved\n",
      "Output saved\n",
      "\n",
      "---\n",
      "Building pipeline\n",
      "\n",
      "---\n",
      "Fitting pipeline\n",
      "[Pipeline] ..... (step 1 of 8) Processing Drop Features, total=   0.0s\n",
      "Pass through\n",
      "[Pipeline] .. (step 2 of 8) Processing Compound Name FE, total=   0.0s\n"
     ]
    },
    {
     "name": "stderr",
     "output_type": "stream",
     "text": [
      "  0%|          | 0/1 [00:00<?, ?it/s][Parallel(n_jobs=-1)]: Using backend ThreadingBackend with 4 concurrent workers.\n",
      "100%|██████████| 1/1 [00:00<00:00, 1526.87it/s]"
     ]
    },
    {
     "name": "stdout",
     "output_type": "stream",
     "text": [
      "[Pipeline] ............ (step 3 of 8) Processing App FE, total=   0.1s\n",
      "[Pipeline] ............ (step 4 of 8) Processing ACS FE, total=   0.1s\n",
      "[Pipeline] .. (step 5 of 8) Processing Name Aggregation, total=   0.1s\n",
      "[Pipeline] . (step 6 of 8) Processing Drop Features (2), total=   0.0s\n",
      "[Pipeline] ............ (step 7 of 8) Processing Impute, total=   0.0s\n",
      "[Pipeline]  (step 8 of 8) Processing Correlated Feature Selection, total=   0.0s\n",
      "Directory already exists\n",
      "\n",
      "---\n",
      "Transforming FE data\n",
      "Pass through\n"
     ]
    },
    {
     "name": "stderr",
     "output_type": "stream",
     "text": [
      "\n",
      "[Parallel(n_jobs=-1)]: Done   1 out of   1 | elapsed:    0.0s finished\n",
      "  0%|          | 0/1 [00:00<?, ?it/s][Parallel(n_jobs=-1)]: Using backend ThreadingBackend with 4 concurrent workers.\n",
      "100%|██████████| 1/1 [00:00<00:00, 1736.77it/s]\n",
      "[Parallel(n_jobs=-1)]: Done   1 out of   1 | elapsed:    0.0s finished\n"
     ]
    },
    {
     "name": "stdout",
     "output_type": "stream",
     "text": [
      "\n",
      "---\n",
      "Saving FE data\n",
      "Output saved\n",
      "X_train_fe:  <bound method NDFrame.head of           B08301_010  B02001_006  B02001_004  B25004_006  B25075_008_pct  \\\n",
      "ZEST_KEY                                                                   \n",
      "2                0.0         0.0         0.0         0.0             0.0   \n",
      "3                0.0         0.0         0.0         0.0             0.0   \n",
      "4                0.0         0.0         0.0         0.0             0.0   \n",
      "\n",
      "          B25075_006_pct  B25075_003_pct  B25075_009_pct  B25075_004_pct  \\\n",
      "ZEST_KEY                                                                   \n",
      "2                    0.0             0.0             0.0             0.0   \n",
      "3                    0.0             0.0             0.0             0.0   \n",
      "4                    0.0             0.0             0.0             0.0   \n",
      "\n",
      "          B25075_007_pct  ...  B08301_013_pct  B08301_012_pct  B08301_011_pct  \\\n",
      "ZEST_KEY                  ...                                                   \n",
      "2                    0.0  ...             0.0             0.0             0.0   \n",
      "3                    0.0  ...             0.0             0.0             0.0   \n",
      "4                    0.0  ...             0.0             0.0             0.0   \n",
      "\n",
      "          B08301_016_pct  BLACK_last_name  WHITE_last_name  BLACK_first_name  \\\n",
      "ZEST_KEY                                                                       \n",
      "2                    0.0          0.33333          0.66667           0.33333   \n",
      "3                    0.0          0.33333          0.66667           0.33333   \n",
      "4                    0.0          0.33333          0.66667           0.33333   \n",
      "\n",
      "          WHITE_middle_name  BLACK_middle_name  WHITE_first_name  \n",
      "ZEST_KEY                                                          \n",
      "2                   0.66667            0.33333           0.66667  \n",
      "3                   0.66667            0.33333           0.66667  \n",
      "4                   0.66667            0.33333           0.66667  \n",
      "\n",
      "[3 rows x 46 columns]>\n",
      "X_train:  <bound method NDFrame.head of           B01003_001  B02001_001  B02001_002  B02001_003  B02001_004  \\\n",
      "ZEST_KEY                                                               \n",
      "2             1213.0      1213.0       993.0       191.0         0.0   \n",
      "3             3743.0      3743.0      3235.0       270.0         0.0   \n",
      "4                NaN         NaN         NaN         NaN         NaN   \n",
      "\n",
      "          B02001_005  B02001_006  B02001_007  B02001_008  B02001_009  ...  \\\n",
      "ZEST_KEY                                                              ...   \n",
      "2                0.0         0.0         0.0        29.0         0.0  ...   \n",
      "3              109.0         0.0        61.0        68.0        10.0  ...   \n",
      "4                NaN         NaN         NaN         NaN         NaN  ...   \n",
      "\n",
      "          C16001_033  C16001_036  GEOID      GEOID_BG     GEOID_CT  GEOID_ZIP  \\\n",
      "ZEST_KEY                                                                        \n",
      "2                NaN         NaN    NaN  450259505021  45025950502      29520   \n",
      "3               16.0         0.0    NaN  450790025003  45079002500      29205   \n",
      "4                NaN         NaN   None  450910616012  45091061601      29745   \n",
      "\n",
      "          ZEST_KEY_COL  first_name  last_name  middle_name  \n",
      "ZEST_KEY                                                    \n",
      "2                    2        GAIL    ABRUNZO            A  \n",
      "3                    3        JOHN      AHERN            M  \n",
      "4                    4       PARIS      ASANI            K  \n",
      "\n",
      "[3 rows x 96 columns]>\n",
      "Y_train:  <bound method NDFrame.head of          GEOID   race  sample_weight\n",
      "ZEST_KEY                            \n",
      "2          nan  WHITE       0.588063\n",
      "3          nan  WHITE       0.588063\n",
      "4         None  BLACK       0.131115>\n",
      "\n",
      "---\n",
      "building zrp_model\n",
      "\n",
      "---\n",
      "fitting zrp_model\n",
      "Directory already exists\n",
      "Completed building block_group model.\n",
      "=========================\n",
      "BUILDING census_tract MODEL.\n",
      "=========================\n",
      "\n",
      "Dropping ['block_group', 'zip_code'] features\n",
      "Len features to keep list:  148\n",
      "Data shape pre feature drop:  (12, 932)\n",
      "Index(['B03001_004', 'B03001_005', 'B03001_007', 'B03001_009', 'B03001_010',\n",
      "       'B03001_011', 'B03001_013', 'B03001_014', 'B03001_015', 'B03001_017',\n",
      "       ...\n",
      "       'age', 'city', 'house_number', 'original_race', 'original_sex', 'sex',\n",
      "       'state', 'street_address', 'zest_in_state_fips', 'zip_code'],\n",
      "      dtype='object', length=785)\n",
      "Data shape post feature drop:  (12, 147)\n",
      "Directory already exists\n",
      "Output saved\n",
      "Output saved\n",
      "Output saved\n",
      "Output saved\n",
      "Post-sampling shape:  (5, 14)\n",
      "Unique train labels:  ['WHITE' 'BLACK']\n",
      "Unique test labels:  ['WHITE' 'BLACK']\n",
      "   train to numeric\n",
      "\n",
      "---\n",
      "Saving raw data\n",
      "Output saved\n"
     ]
    },
    {
     "name": "stderr",
     "output_type": "stream",
     "text": [
      "  0%|          | 0/1 [00:00<?, ?it/s][Parallel(n_jobs=-1)]: Using backend ThreadingBackend with 4 concurrent workers.\n",
      "100%|██████████| 1/1 [00:00<00:00, 1410.80it/s]"
     ]
    },
    {
     "name": "stdout",
     "output_type": "stream",
     "text": [
      "Output saved\n",
      "\n",
      "---\n",
      "Building pipeline\n",
      "\n",
      "---\n",
      "Fitting pipeline\n",
      "[Pipeline] ..... (step 1 of 8) Processing Drop Features, total=   0.0s\n",
      "Pass through\n",
      "[Pipeline] .. (step 2 of 8) Processing Compound Name FE, total=   0.0s\n",
      "[Pipeline] ............ (step 3 of 8) Processing App FE, total=   0.1s\n",
      "[Pipeline] ............ (step 4 of 8) Processing ACS FE, total=   0.1s\n"
     ]
    },
    {
     "name": "stderr",
     "output_type": "stream",
     "text": [
      "\n",
      "[Parallel(n_jobs=-1)]: Done   1 out of   1 | elapsed:    0.0s finished\n"
     ]
    },
    {
     "name": "stdout",
     "output_type": "stream",
     "text": [
      "[Pipeline] .. (step 5 of 8) Processing Name Aggregation, total=   0.1s\n",
      "[Pipeline] . (step 6 of 8) Processing Drop Features (2), total=   0.0s\n",
      "[Pipeline] ............ (step 7 of 8) Processing Impute, total=   0.0s\n",
      "[Pipeline]  (step 8 of 8) Processing Correlated Feature Selection, total=   0.1s\n",
      "Directory already exists\n",
      "\n",
      "---\n",
      "Transforming FE data\n",
      "Pass through\n"
     ]
    },
    {
     "name": "stderr",
     "output_type": "stream",
     "text": [
      "  0%|          | 0/1 [00:00<?, ?it/s][Parallel(n_jobs=-1)]: Using backend ThreadingBackend with 4 concurrent workers.\n",
      "100%|██████████| 1/1 [00:00<00:00, 1010.19it/s]\n",
      "[Parallel(n_jobs=-1)]: Done   1 out of   1 | elapsed:    0.0s finished\n"
     ]
    },
    {
     "name": "stdout",
     "output_type": "stream",
     "text": [
      "\n",
      "---\n",
      "Saving FE data\n",
      "Output saved\n",
      "X_train_fe:  <bound method NDFrame.head of           B03001_001  B03001_008  B23020_001  B03001_012  B06009_025  \\\n",
      "ZEST_KEY                                                               \n",
      "2             3743.0         0.0        38.8         0.0       305.0   \n",
      "3             3743.0         0.0        38.8         0.0       305.0   \n",
      "4             3743.0         0.0        38.8         0.0       305.0   \n",
      "\n",
      "          B19001I_001  B04006_049  B03001_016  B10051B_002  B19001B_002  ...  \\\n",
      "ZEST_KEY                                                                 ...   \n",
      "2                87.0       406.0        62.0         26.0         11.0  ...   \n",
      "3                87.0       406.0        62.0         26.0         11.0  ...   \n",
      "4                87.0       406.0        62.0         26.0         11.0  ...   \n",
      "\n",
      "          B08301_013_pct  B08301_012_pct  B08301_011_pct  B08301_016_pct  \\\n",
      "ZEST_KEY                                                                   \n",
      "2                    0.0             0.0             0.0             0.0   \n",
      "3                    0.0             0.0             0.0             0.0   \n",
      "4                    0.0             0.0             0.0             0.0   \n",
      "\n",
      "          BLACK_last_name  WHITE_last_name  BLACK_first_name  \\\n",
      "ZEST_KEY                                                       \n",
      "2                 0.33333          0.66667           0.33333   \n",
      "3                 0.33333          0.66667           0.33333   \n",
      "4                 0.33333          0.66667           0.33333   \n",
      "\n",
      "          WHITE_middle_name  BLACK_middle_name  WHITE_first_name  \n",
      "ZEST_KEY                                                          \n",
      "2                   0.66667            0.33333           0.66667  \n",
      "3                   0.66667            0.33333           0.66667  \n",
      "4                   0.66667            0.33333           0.66667  \n",
      "\n",
      "[3 rows x 111 columns]>\n",
      "X_train:  <bound method NDFrame.head of           B01003_001  B02001_001  B02001_002  B02001_003  B02001_004  \\\n",
      "ZEST_KEY                                                               \n",
      "2             1213.0      1213.0       993.0       191.0         0.0   \n",
      "3             3743.0      3743.0      3235.0       270.0         0.0   \n",
      "4                NaN         NaN         NaN         NaN         NaN   \n",
      "\n",
      "          B02001_005  B02001_006  B02001_007  B02001_008  B02001_009  ...  \\\n",
      "ZEST_KEY                                                              ...   \n",
      "2                0.0         0.0         0.0        29.0         0.0  ...   \n",
      "3              109.0         0.0        61.0        68.0        10.0  ...   \n",
      "4                NaN         NaN         NaN         NaN         NaN  ...   \n",
      "\n",
      "          C16001_033  C16001_036  GEOID      GEOID_BG     GEOID_CT  GEOID_ZIP  \\\n",
      "ZEST_KEY                                                                        \n",
      "2                NaN         NaN    NaN  450259505021  45025950502      29520   \n",
      "3               16.0         0.0    NaN  450790025003  45079002500      29205   \n",
      "4                NaN         NaN   None  450910616012  45091061601      29745   \n",
      "\n",
      "          ZEST_KEY_COL  first_name  last_name  middle_name  \n",
      "ZEST_KEY                                                    \n",
      "2                    2        GAIL    ABRUNZO            A  \n",
      "3                    3        JOHN      AHERN            M  \n",
      "4                    4       PARIS      ASANI            K  \n",
      "\n",
      "[3 rows x 146 columns]>\n",
      "Y_train:  <bound method NDFrame.head of          GEOID   race  sample_weight\n",
      "ZEST_KEY                            \n",
      "2          nan  WHITE       0.588063\n",
      "3          nan  WHITE       0.588063\n",
      "4         None  BLACK       0.131115>\n",
      "\n",
      "---\n",
      "building zrp_model\n",
      "\n",
      "---\n",
      "fitting zrp_model\n",
      "Directory already exists\n",
      "Completed building census_tract model.\n",
      "=========================\n",
      "BUILDING zip_code MODEL.\n",
      "=========================\n",
      "\n",
      "Dropping ['block_group', 'census_tract'] features\n",
      "Len features to keep list:  165\n",
      "Data shape pre feature drop:  (16, 932)\n",
      "Index(['B03001_004', 'B03001_005', 'B03001_007', 'B03001_009', 'B03001_010',\n",
      "       'B03001_011', 'B03001_012', 'B03001_013', 'B03001_014', 'B03001_015',\n",
      "       ...\n",
      "       'age', 'city', 'house_number', 'original_race', 'original_sex', 'sex',\n",
      "       'state', 'street_address', 'zest_in_state_fips', 'zip_code'],\n",
      "      dtype='object', length=768)\n",
      "Data shape post feature drop:  (16, 164)\n",
      "Directory already exists\n",
      "Output saved\n",
      "Output saved\n",
      "Output saved\n",
      "Output saved\n",
      "Post-sampling shape:  (5, 14)\n",
      "Unique train labels:  ['BLACK' 'WHITE' 'AAPI']\n",
      "Unique test labels:  ['WHITE' 'BLACK']\n",
      "   train to numeric\n",
      "\n",
      "---\n",
      "Saving raw data\n",
      "Output saved\n",
      "Output saved\n",
      "\n",
      "---\n",
      "Building pipeline\n",
      "\n",
      "---\n",
      "Fitting pipeline\n",
      "[Pipeline] ..... (step 1 of 8) Processing Drop Features, total=   0.0s\n",
      "Pass through\n",
      "[Pipeline] .. (step 2 of 8) Processing Compound Name FE, total=   0.0s\n",
      "[Pipeline] ............ (step 3 of 8) Processing App FE, total=   0.1s\n"
     ]
    },
    {
     "name": "stderr",
     "output_type": "stream",
     "text": [
      "  0%|          | 0/1 [00:00<?, ?it/s][Parallel(n_jobs=-1)]: Using backend ThreadingBackend with 4 concurrent workers.\n",
      "100%|██████████| 1/1 [00:00<00:00, 838.69it/s]"
     ]
    },
    {
     "name": "stdout",
     "output_type": "stream",
     "text": [
      "[Pipeline] ............ (step 4 of 8) Processing ACS FE, total=   0.1s\n",
      "[Pipeline] .. (step 5 of 8) Processing Name Aggregation, total=   0.1s\n",
      "[Pipeline] . (step 6 of 8) Processing Drop Features (2), total=   0.0s\n",
      "[Pipeline] ............ (step 7 of 8) Processing Impute, total=   0.0s\n"
     ]
    },
    {
     "name": "stderr",
     "output_type": "stream",
     "text": [
      "\n",
      "[Parallel(n_jobs=-1)]: Done   1 out of   1 | elapsed:    0.0s finished\n",
      "  0%|          | 0/1 [00:00<?, ?it/s][Parallel(n_jobs=-1)]: Using backend ThreadingBackend with 4 concurrent workers.\n",
      "100%|██████████| 1/1 [00:00<00:00, 927.53it/s]"
     ]
    },
    {
     "name": "stdout",
     "output_type": "stream",
     "text": [
      "[Pipeline]  (step 8 of 8) Processing Correlated Feature Selection, total=   0.0s\n",
      "Directory already exists\n",
      "\n",
      "---\n",
      "Transforming FE data\n",
      "Pass through\n"
     ]
    },
    {
     "name": "stderr",
     "output_type": "stream",
     "text": [
      "\n",
      "[Parallel(n_jobs=-1)]: Done   1 out of   1 | elapsed:    0.0s finished\n"
     ]
    },
    {
     "name": "stdout",
     "output_type": "stream",
     "text": [
      "\n",
      "---\n",
      "Saving FE data\n",
      "Output saved\n",
      "X_train_fe:  <bound method NDFrame.head of           B19001D_014  B10051I_007  B06009_020  B02001_006  B02001_004  \\\n",
      "ZEST_KEY                                                                 \n",
      "0                 0.0         35.5         0.0         0.0        63.5   \n",
      "1                 0.0         71.0         0.0         0.0       254.0   \n",
      "2                 0.0         35.5         0.0         0.0         0.0   \n",
      "3                 0.0          0.0         0.0         0.0         0.0   \n",
      "4                 0.0         35.5         0.0         0.0         0.0   \n",
      "\n",
      "          B19001D_015  unallocated_race  B25075_016_pct  B25075_004_pct  \\\n",
      "ZEST_KEY                                                                  \n",
      "0                 0.0          0.996364        0.016013        0.001105   \n",
      "1                 0.0          0.991068        0.019620        0.000760   \n",
      "2                 0.0          1.000000        0.022260        0.000000   \n",
      "3                 0.0          0.994390        0.009620        0.000000   \n",
      "4                 0.0          1.000000        0.012550        0.003660   \n",
      "\n",
      "          B25075_011_pct  ...  B08301_016_pct  BLACK_last_name  \\\n",
      "ZEST_KEY                  ...                                    \n",
      "0                0.00798  ...             0.0              0.2   \n",
      "1                0.00690  ...             0.0              0.2   \n",
      "2                0.01979  ...             0.0              0.2   \n",
      "3                0.00000  ...             0.0              0.2   \n",
      "4                0.00523  ...             0.0              0.2   \n",
      "\n",
      "          WHITE_last_name  AAPI_first_name  AAPI_last_name  BLACK_first_name  \\\n",
      "ZEST_KEY                                                                       \n",
      "0                     0.6              0.2             0.2               0.2   \n",
      "1                     0.6              0.2             0.2               0.2   \n",
      "2                     0.6              0.2             0.2               0.2   \n",
      "3                     0.6              0.2             0.2               0.2   \n",
      "4                     0.6              0.2             0.2               0.2   \n",
      "\n",
      "          WHITE_middle_name  BLACK_middle_name  WHITE_first_name  \\\n",
      "ZEST_KEY                                                           \n",
      "0                       0.6                0.2               0.6   \n",
      "1                       0.6                0.2               0.6   \n",
      "2                       0.6                0.2               0.6   \n",
      "3                       0.6                0.2               0.6   \n",
      "4                       0.6                0.2               0.6   \n",
      "\n",
      "          AAPI_middle_name  \n",
      "ZEST_KEY                    \n",
      "0                      0.2  \n",
      "1                      0.2  \n",
      "2                      0.2  \n",
      "3                      0.2  \n",
      "4                      0.2  \n",
      "\n",
      "[5 rows x 43 columns]>\n",
      "X_train:  <bound method NDFrame.head of           B01003_001  B02001_001  B02001_002  B02001_003  B02001_004  \\\n",
      "ZEST_KEY                                                               \n",
      "0                NaN         NaN         NaN         NaN         NaN   \n",
      "1            36944.0     36944.0     31016.0      3559.0       254.0   \n",
      "2             1213.0      1213.0       993.0       191.0         0.0   \n",
      "3             3743.0      3743.0      3235.0       270.0         0.0   \n",
      "4             1913.0      1913.0       590.0      1323.0         0.0   \n",
      "\n",
      "          B02001_005  B02001_006  B02001_007  B02001_008  B02001_009  ...  \\\n",
      "ZEST_KEY                                                              ...   \n",
      "0                NaN         NaN         NaN         NaN         NaN  ...   \n",
      "1              869.0         0.0       492.0       754.0       131.0  ...   \n",
      "2                0.0         0.0         0.0        29.0         0.0  ...   \n",
      "3              109.0         0.0        61.0        68.0        10.0  ...   \n",
      "4                0.0         0.0         0.0         0.0         0.0  ...   \n",
      "\n",
      "          C16001_033  C16001_036  GEOID      GEOID_BG     GEOID_CT  GEOID_ZIP  \\\n",
      "ZEST_KEY                                                                        \n",
      "0                NaN         NaN   None           NaN          NaN      29916   \n",
      "1               18.0         6.0    NaN           NaN          NaN      29710   \n",
      "2                NaN         NaN    NaN  450259505021  45025950502      29520   \n",
      "3               16.0         0.0    NaN  450790025003  45079002500      29205   \n",
      "4                NaN         NaN    NaN  450910616012  45091061601      29745   \n",
      "\n",
      "          ZEST_KEY_COL  first_name  last_name  middle_name  \n",
      "ZEST_KEY                                                    \n",
      "0                    0    SAMANTHA   FERGUSON            S  \n",
      "1                    1        HUOI          A         None  \n",
      "2                    2        GAIL    ABRUNZO            A  \n",
      "3                    3        JOHN      AHERN            M  \n",
      "4                    4       PARIS      ASANI            K  \n",
      "\n",
      "[5 rows x 163 columns]>\n",
      "Y_train:  <bound method NDFrame.head of          GEOID   race  sample_weight\n",
      "ZEST_KEY                            \n",
      "0         None  WHITE       0.588063\n",
      "1          nan   AAPI       0.059687\n",
      "2          nan  WHITE       0.588063\n",
      "3          nan  WHITE       0.588063\n",
      "4          nan  BLACK       0.131115>\n",
      "\n",
      "---\n",
      "building zrp_model\n",
      "\n",
      "---\n",
      "fitting zrp_model\n",
      "Directory already exists\n",
      "Completed building zip_code model.\n",
      "\n",
      "##############################\n",
      "Custom ZRP model build complete.\n"
     ]
    }
   ],
   "source": [
    "zest_race_predictor = ZRP_Build(zrp_model_name='test_model_small_data') \n",
    "zest_race_predictor.fit()\n",
    "output = zest_race_predictor.transform(input_sample)"
   ]
  },
  {
   "cell_type": "markdown",
   "metadata": {},
   "source": [
    "# Proxy using newly build ZRP model\n",
    "Make sure to specify the path to where the model is outputted (the parameter, 'pipe_path'). This includes appending 'artifacts/'experiments'/[zrp_model_name]' to your specified 'file_path'. In this case, we did not specify a 'file_path', thus the default is the path where this code is being run from."
   ]
  },
  {
   "cell_type": "code",
   "execution_count": 7,
   "metadata": {},
   "outputs": [
    {
     "data": {
      "text/plain": [
       "(5, 14)"
      ]
     },
     "execution_count": 7,
     "metadata": {},
     "output_type": "execute_result"
    }
   ],
   "source": [
    "test_sample = load_file(root + \"/tests/data/sm_3.csv\")\n",
    "test_sample['ZEST_KEY'] = test_sample.index.astype(str)  #must specify key to establish correspondence between inputs and outputs\n",
    "\n",
    "test_sample.shape"
   ]
  },
  {
   "cell_type": "code",
   "execution_count": 8,
   "metadata": {},
   "outputs": [
    {
     "name": "stderr",
     "output_type": "stream",
     "text": [
      "  0%|          | 0/1 [00:00<?, ?it/s]\n",
      "  0%|          | 0/5 [00:00<?, ?it/s]\u001b[A[Parallel(n_jobs=-1)]: Using backend ThreadingBackend with 4 concurrent workers.\n",
      "100%|██████████| 5/5 [00:00<00:00, 1918.36it/s]"
     ]
    },
    {
     "name": "stdout",
     "output_type": "stream",
     "text": [
      "Directory already exists\n",
      "Data is loaded\n",
      "   [Start] Validating input data\n",
      "     Number of observations: 5\n",
      "     Is key unique: True\n",
      "       (Warning!!) middle_name is 20.0% missing, this may impact the ability to return race approximations\n",
      "Directory already exists\n",
      "   [Completed] Validating input data\n",
      "\n",
      "   Formatting P1\n",
      "   Formatting P2\n",
      "   reduce whitespace\n",
      "\n",
      "[Start] Preparing geo data\n",
      "\n",
      "  The following states are included in the data: ['SC']\n",
      "   ... on state: SC\n",
      "\n",
      "   Data is loaded\n",
      "   [Start] Processing geo data\n",
      "      ...address cleaning\n",
      "      ...replicating address\n",
      "         ...Base\n",
      "         ...Map street suffixes...\n"
     ]
    },
    {
     "name": "stderr",
     "output_type": "stream",
     "text": [
      "\n",
      "[Parallel(n_jobs=-1)]: Done   5 out of   5 | elapsed:    0.0s finished\n"
     ]
    },
    {
     "name": "stdout",
     "output_type": "stream",
     "text": [
      "         ...Mapped & split by street suffixes...\n",
      "         ...Number processing...\n",
      "\n",
      "         Address dataframe expansion is complete! (n=5)\n",
      "         ...Base\n",
      "         ...Number processing...\n",
      "         House number dataframe expansion is complete! (n=5)\n",
      "      ...formatting\n",
      "   [Completed] Processing geo data\n",
      "   [Start] Mapping geo data\n",
      "      ...merge user input & lookup table\n",
      "      ...mapping\n",
      "   [Completed] Validating input geo data\n",
      "Directory already exists\n"
     ]
    },
    {
     "name": "stderr",
     "output_type": "stream",
     "text": [
      "100%|██████████| 1/1 [01:49<00:00, 109.88s/it]"
     ]
    },
    {
     "name": "stdout",
     "output_type": "stream",
     "text": [
      "Output saved\n",
      "   [Completed] Mapping geo data\n"
     ]
    },
    {
     "name": "stderr",
     "output_type": "stream",
     "text": [
      "100%|██████████| 1/1 [01:50<00:00, 110.38s/it]\n"
     ]
    },
    {
     "name": "stdout",
     "output_type": "stream",
     "text": [
      "\n",
      "[Completed] Preparing geo data\n",
      "\n",
      "[Start] Preparing ACS data\n",
      "   [Start] Validating ACS input data\n",
      "     Number of observations: 5\n",
      "     Is key unique: True\n",
      "       (Warning!!) middle_name is 20.0% missing, this may impact the ability to return race approximations\n",
      "\n",
      "   [Completed] Validating ACS input data\n",
      "\n",
      "   ...loading ACS lookup tables\n",
      "   ... combining ACS & user input data\n",
      " ...Copy dataframes\n",
      " ...Block group\n",
      " ...Census tract\n",
      " ...Zip code\n",
      " ...No match\n",
      " ...Merge\n",
      " ...Merging complete\n",
      "[Complete] Preparing ACS data\n",
      "\n",
      "   [Start] Validating pipeline input data\n",
      "     Number of observations: 16\n",
      "     Is key unique: False\n",
      "       (Warning!!) middle_name is 12.5% missing, this may impact the ability to return race approximations\n",
      "   [Completed] Validating pipeline input data\n",
      "\n"
     ]
    },
    {
     "name": "stderr",
     "output_type": "stream",
     "text": [
      "  0%|          | 0/1 [00:00<?, ?it/s][Parallel(n_jobs=-1)]: Using backend ThreadingBackend with 4 concurrent workers.\n",
      "100%|██████████| 1/1 [00:00<00:00, 1102.60it/s]\n",
      "[Parallel(n_jobs=-1)]: Done   1 out of   1 | elapsed:    0.0s finished\n",
      "  0%|          | 0/1 [00:00<?, ?it/s][Parallel(n_jobs=-1)]: Using backend ThreadingBackend with 4 concurrent workers.\n",
      "100%|██████████| 1/1 [00:00<00:00, 1349.08it/s]\n",
      "[Parallel(n_jobs=-1)]: Done   1 out of   1 | elapsed:    0.0s finished\n"
     ]
    },
    {
     "name": "stdout",
     "output_type": "stream",
     "text": [
      "Directory already exists\n",
      "Output saved\n",
      "Output saved\n",
      "CPU times: user 34.4 s, sys: 7.63 s, total: 42 s\n",
      "Wall time: 28min 43s\n"
     ]
    }
   ],
   "source": [
    "%%time\n",
    "zest_race_predictor = ZRP(pipe_path='artifacts/experiments/test_model_small_data')\n",
    "zest_race_predictor.fit()\n",
    "zrp_output = zest_race_predictor.transform(test_sample)"
   ]
  },
  {
   "cell_type": "markdown",
   "metadata": {},
   "source": [
    "*Note*: The following output data frame shouldn't be evaluated for performance/accuracy. As stated above, this notebook trains on an insignificant amount of training data for the purpose of demonstrating quickly how to use ZRP Build. A larger dataset is necessary to build a model with strong performance."
   ]
  },
  {
   "cell_type": "code",
   "execution_count": null,
   "metadata": {},
   "outputs": [],
   "source": []
  }
 ],
 "metadata": {
  "kernelspec": {
   "display_name": "Python 3.7 (py37)",
   "language": "python",
   "name": "py37"
  },
  "language_info": {
   "codemirror_mode": {
    "name": "ipython",
    "version": 3
   },
   "file_extension": ".py",
   "mimetype": "text/x-python",
   "name": "python",
   "nbconvert_exporter": "python",
   "pygments_lexer": "ipython3",
   "version": "3.7.7"
  }
 },
 "nbformat": 4,
 "nbformat_minor": 4
}
